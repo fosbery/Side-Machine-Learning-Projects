{
 "cells": [
  {
   "cell_type": "markdown",
   "metadata": {},
   "source": [
    "## Text Classification of Rotten Tomato Movie Reviews\n",
    "Author: James Fung"
   ]
  },
  {
   "cell_type": "code",
   "execution_count": 62,
   "metadata": {},
   "outputs": [],
   "source": [
    "import pandas as pd\n",
    "import numpy as np\n",
    "\n",
    "from sklearn.model_selection import train_test_split\n",
    "\n",
    "from sklearn.linear_model import LogisticRegression\n",
    "import xgboost as xgb\n",
    "\n",
    "from sklearn import metrics\n",
    "from sklearn.metrics import classification_report"
   ]
  },
  {
   "cell_type": "code",
   "execution_count": 2,
   "metadata": {},
   "outputs": [],
   "source": [
    "#Load in the data.\n",
    "\n",
    "reviews = pd.read_csv(\"/Users/james.fung/Desktop/Test Scripts/Rotten Tomato Reviews/rotten_tomatoes_reviews.csv\")"
   ]
  },
  {
   "cell_type": "code",
   "execution_count": 3,
   "metadata": {},
   "outputs": [
    {
     "name": "stdout",
     "output_type": "stream",
     "text": [
      "Good review: Manakamana doesn't answer any questions, yet makes its point: Nepal, like the rest of our planet, is a picturesque but far from peaceable kingdom.\n",
      "\n",
      "Bad review: It would be difficult to imagine material more wrong for Spade than Lost & Found.\n"
     ]
    }
   ],
   "source": [
    "#Let's check out an example of a bad and good review.\n",
    "\n",
    "#Good review.\n",
    "print(\"Good review:\" + reviews.iloc[0][1])\n",
    "print(\"\")\n",
    "#Bad review.\n",
    "print(\"Bad review:\" + reviews.iloc[2][1])"
   ]
  },
  {
   "cell_type": "markdown",
   "metadata": {},
   "source": [
    "It seems here that there isn't a clear distinction between a positive and negative review - however I do notice that the bad review contained more \"bad\" words, such as difficult and wrong.\n",
    "\n",
    "Let's clean up the reviews a bit by removing stop words and punctuation with the TfidVectorizer."
   ]
  },
  {
   "cell_type": "code",
   "execution_count": 4,
   "metadata": {},
   "outputs": [],
   "source": [
    "#Split the data.\n",
    "\n",
    "Y = reviews.iloc[:,0]\n",
    "X = reviews.iloc[:,1]\n",
    "\n",
    "X_train, X_test, y_train, y_test = train_test_split(X,Y,test_size=.3)"
   ]
  },
  {
   "cell_type": "markdown",
   "metadata": {},
   "source": [
    "## TF-IDF and Count Vectorizers"
   ]
  },
  {
   "cell_type": "code",
   "execution_count": 5,
   "metadata": {},
   "outputs": [],
   "source": [
    "#Tfid Vectorizer. This function utilizes the following parameters:\n",
    "#Min_df = 3, 3 is the minimum frequency of the word to appear inthe matrix\n",
    "#Strip_accents = Removes accents and other character normalization\n",
    "#Analyzer = Whole words\n",
    "#ngram_range = Uses uni, bi, and trigrams\n",
    "#Use-idf - enables inverse-document frequency reweighting?\n",
    "#Stop_words = Removes stopwords\n",
    "\n",
    "from sklearn.feature_extraction.text import TfidfVectorizer, CountVectorizer\n",
    "tfv = TfidfVectorizer(min_df=3,  max_features=None, \n",
    "            strip_accents='unicode', analyzer='word',token_pattern=r'\\w{1,}',\n",
    "            ngram_range=(1, 3), use_idf=1,smooth_idf=1,sublinear_tf=1,\n",
    "            stop_words = 'english')"
   ]
  },
  {
   "cell_type": "code",
   "execution_count": 6,
   "metadata": {},
   "outputs": [],
   "source": [
    "#Fit the TFV and then transform the training and testing set.\n",
    "tfv.fit(list(X_train))\n",
    "X_train_tfv = tfv.transform(X_train)\n",
    "X_test_tfv = tfv.transform(X_test)"
   ]
  },
  {
   "cell_type": "markdown",
   "metadata": {},
   "source": [
    "### Logistic Regression"
   ]
  },
  {
   "cell_type": "code",
   "execution_count": 7,
   "metadata": {},
   "outputs": [
    {
     "name": "stderr",
     "output_type": "stream",
     "text": [
      "/Users/james.fung/anaconda3/lib/python3.7/site-packages/sklearn/linear_model/logistic.py:433: FutureWarning: Default solver will be changed to 'lbfgs' in 0.22. Specify a solver to silence this warning.\n",
      "  FutureWarning)\n"
     ]
    }
   ],
   "source": [
    "#Fit the model and make predictions.\n",
    "clf = LogisticRegression(C=1.0)\n",
    "clf.fit(X_train_tfv, y_train)\n",
    "y_pred = clf.predict(X_test_tfv)"
   ]
  },
  {
   "cell_type": "code",
   "execution_count": 8,
   "metadata": {},
   "outputs": [
    {
     "name": "stdout",
     "output_type": "stream",
     "text": [
      "Accuracy: 0.8289861111111111\n",
      "              precision    recall  f1-score   support\n",
      "\n",
      "           0       0.83      0.82      0.83     72140\n",
      "           1       0.82      0.83      0.83     71860\n",
      "\n",
      "   micro avg       0.83      0.83      0.83    144000\n",
      "   macro avg       0.83      0.83      0.83    144000\n",
      "weighted avg       0.83      0.83      0.83    144000\n",
      "\n"
     ]
    }
   ],
   "source": [
    "#What is the accuracy?\n",
    "print('Accuracy:',metrics.accuracy_score(y_test,y_pred))\n",
    "\n",
    "print(classification_report(y_test, y_pred))"
   ]
  },
  {
   "cell_type": "markdown",
   "metadata": {},
   "source": [
    "Nearly a 83% accuracy in reviews! Can we do better?"
   ]
  },
  {
   "cell_type": "code",
   "execution_count": 60,
   "metadata": {},
   "outputs": [],
   "source": [
    "#What about a simpler text model, such as a simple count of words?\n",
    "\n",
    "ctv = CountVectorizer(analyzer='word',token_pattern=r'\\w{1,}',\n",
    "            ngram_range=(1, 3), stop_words = 'english')\n",
    "\n",
    "# Fitting Count Vectorizer to both training and test sets (semi-supervised learning)\n",
    "ctv.fit(list(X_train))\n",
    "X_train_ctv = ctv.transform(X_train)\n",
    "X_test_ctv = ctv.transform(X_test)"
   ]
  },
  {
   "cell_type": "code",
   "execution_count": 61,
   "metadata": {},
   "outputs": [
    {
     "name": "stdout",
     "output_type": "stream",
     "text": [
      "Accuracy: 0.8802430555555556\n",
      "              precision    recall  f1-score   support\n",
      "\n",
      "           0       0.87      0.89      0.88     72140\n",
      "           1       0.89      0.87      0.88     71860\n",
      "\n",
      "   micro avg       0.88      0.88      0.88    144000\n",
      "   macro avg       0.88      0.88      0.88    144000\n",
      "weighted avg       0.88      0.88      0.88    144000\n",
      "\n"
     ]
    }
   ],
   "source": [
    "#Fit the model on logistic, predict.\n",
    "clf.fit(X_train_ctv, y_train)\n",
    "y_pred = clf.predict(X_test_ctv)\n",
    "\n",
    "print('Accuracy:',metrics.accuracy_score(y_test,y_pred))\n",
    "\n",
    "print(classification_report(y_test, y_pred))"
   ]
  },
  {
   "cell_type": "markdown",
   "metadata": {},
   "source": [
    "Seems simplicity wins out here. 88% vs 83% accuracy. But...can we do better?"
   ]
  },
  {
   "cell_type": "markdown",
   "metadata": {},
   "source": [
    "### XGBoost"
   ]
  },
  {
   "cell_type": "code",
   "execution_count": null,
   "metadata": {},
   "outputs": [],
   "source": [
    "#Parameters:\n",
    "#max_depth = 7, limit depth of trees to 7\n",
    "#n_estimators = \n",
    "\n",
    "clf = xgb.XGBClassifier(max_depth=7, n_estimators=200, colsample_bytree=0.8, \n",
    "                        subsample=0.8, nthread=10, learning_rate=0.1)\n",
    "\n",
    "clf.fit(X_train_tfv, y_train)\n",
    "y_pred = clf.predict(X_test_tfv)"
   ]
  },
  {
   "cell_type": "code",
   "execution_count": null,
   "metadata": {},
   "outputs": [],
   "source": [
    "#What is the accuracy?\n",
    "print('Accuracy:',metrics.accuracy_score(y_test,y_pred))\n",
    "\n",
    "print(classification_report(y_test, y_pred))"
   ]
  },
  {
   "cell_type": "code",
   "execution_count": null,
   "metadata": {},
   "outputs": [],
   "source": []
  }
 ],
 "metadata": {
  "kernelspec": {
   "display_name": "Python 3",
   "language": "python",
   "name": "python3"
  },
  "language_info": {
   "codemirror_mode": {
    "name": "ipython",
    "version": 3
   },
   "file_extension": ".py",
   "mimetype": "text/x-python",
   "name": "python",
   "nbconvert_exporter": "python",
   "pygments_lexer": "ipython3",
   "version": "3.7.1"
  }
 },
 "nbformat": 4,
 "nbformat_minor": 2
}
