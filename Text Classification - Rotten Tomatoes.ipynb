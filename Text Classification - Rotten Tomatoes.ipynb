{
 "cells": [
  {
   "cell_type": "markdown",
   "metadata": {},
   "source": [
    "## Text Classification of Rotten Tomato Movie Reviews\n",
    "Author: James Fung"
   ]
  },
  {
   "cell_type": "code",
   "execution_count": 2,
   "metadata": {},
   "outputs": [],
   "source": [
    "#Load in the data.\n",
    "import pandas as pd\n",
    "\n",
    "reviews = pd.read_csv(\"/Users/james.fung/Desktop/Test Scripts/Rotten Tomato Reviews/rotten_tomatoes_reviews.csv\")"
   ]
  },
  {
   "cell_type": "code",
   "execution_count": 24,
   "metadata": {},
   "outputs": [
    {
     "name": "stdout",
     "output_type": "stream",
     "text": [
      "Good review: Manakamana doesn't answer any questions, yet makes its point: Nepal, like the rest of our planet, is a picturesque but far from peaceable kingdom.\n",
      "\n",
      "Bad review: It would be difficult to imagine material more wrong for Spade than Lost & Found.\n"
     ]
    }
   ],
   "source": [
    "#Let's check out an example of a bad and good review.\n",
    "\n",
    "#Good review.\n",
    "print(\"Good review:\" + reviews.iloc[0][1])\n",
    "print(\"\")\n",
    "#Bad review.\n",
    "print(\"Bad review:\" + reviews.iloc[2][1])"
   ]
  },
  {
   "cell_type": "markdown",
   "metadata": {},
   "source": [
    "It seems here that there isn't a clear distinction between a positive and negative review - however I do notice that the bad review contained more \"bad\" words, such as difficult and wrong.\n",
    "\n",
    "Let's clean up the reviews a bit by removing stop words and punctuation."
   ]
  },
  {
   "cell_type": "code",
   "execution_count": 39,
   "metadata": {},
   "outputs": [
    {
     "data": {
      "text/plain": [
       "' Manakamana doesnt answer any questions yet makes its point Nepal like the rest of our planet is a picturesque but far from peaceable kingdom'"
      ]
     },
     "execution_count": 39,
     "metadata": {},
     "output_type": "execute_result"
    }
   ],
   "source": [
    "#Remove punctuation.\n",
    "import string\n",
    "\n",
    "reviews.iloc[0][1].translate(str.maketrans('','',string.punctuation))"
   ]
  },
  {
   "cell_type": "code",
   "execution_count": 25,
   "metadata": {},
   "outputs": [],
   "source": [
    "#Import stop words.\n",
    "from nltk.corpus import stopwords\n",
    "from nltk.tokenize import word_tokenize"
   ]
  },
  {
   "cell_type": "code",
   "execution_count": 29,
   "metadata": {},
   "outputs": [],
   "source": [
    "stop_words = set(stopwords.words('english'))"
   ]
  },
  {
   "cell_type": "code",
   "execution_count": 33,
   "metadata": {},
   "outputs": [],
   "source": [
    "word_tokens = word_tokenize(reviews.iloc[0][1])"
   ]
  },
  {
   "cell_type": "code",
   "execution_count": 34,
   "metadata": {},
   "outputs": [
    {
     "data": {
      "text/plain": [
       "['Manakamana',\n",
       " 'does',\n",
       " \"n't\",\n",
       " 'answer',\n",
       " 'any',\n",
       " 'questions',\n",
       " ',',\n",
       " 'yet',\n",
       " 'makes',\n",
       " 'its',\n",
       " 'point',\n",
       " ':',\n",
       " 'Nepal',\n",
       " ',',\n",
       " 'like',\n",
       " 'the',\n",
       " 'rest',\n",
       " 'of',\n",
       " 'our',\n",
       " 'planet',\n",
       " ',',\n",
       " 'is',\n",
       " 'a',\n",
       " 'picturesque',\n",
       " 'but',\n",
       " 'far',\n",
       " 'from',\n",
       " 'peaceable',\n",
       " 'kingdom',\n",
       " '.']"
      ]
     },
     "execution_count": 34,
     "metadata": {},
     "output_type": "execute_result"
    }
   ],
   "source": [
    "word_tokens"
   ]
  },
  {
   "cell_type": "code",
   "execution_count": 35,
   "metadata": {},
   "outputs": [],
   "source": [
    "filtered_sentence = [w for w in word_tokens if not w in stop_words]"
   ]
  },
  {
   "cell_type": "code",
   "execution_count": 36,
   "metadata": {},
   "outputs": [
    {
     "data": {
      "text/plain": [
       "['Manakamana',\n",
       " \"n't\",\n",
       " 'answer',\n",
       " 'questions',\n",
       " ',',\n",
       " 'yet',\n",
       " 'makes',\n",
       " 'point',\n",
       " ':',\n",
       " 'Nepal',\n",
       " ',',\n",
       " 'like',\n",
       " 'rest',\n",
       " 'planet',\n",
       " ',',\n",
       " 'picturesque',\n",
       " 'far',\n",
       " 'peaceable',\n",
       " 'kingdom',\n",
       " '.']"
      ]
     },
     "execution_count": 36,
     "metadata": {},
     "output_type": "execute_result"
    }
   ],
   "source": [
    "filtered_sentence"
   ]
  },
  {
   "cell_type": "code",
   "execution_count": null,
   "metadata": {},
   "outputs": [],
   "source": []
  }
 ],
 "metadata": {
  "kernelspec": {
   "display_name": "Python 3",
   "language": "python",
   "name": "python3"
  },
  "language_info": {
   "codemirror_mode": {
    "name": "ipython",
    "version": 3
   },
   "file_extension": ".py",
   "mimetype": "text/x-python",
   "name": "python",
   "nbconvert_exporter": "python",
   "pygments_lexer": "ipython3",
   "version": "3.7.1"
  }
 },
 "nbformat": 4,
 "nbformat_minor": 2
}
