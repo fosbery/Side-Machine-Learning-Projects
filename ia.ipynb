{
 "cells": [
  {
   "cell_type": "code",
   "execution_count": 29,
   "metadata": {
    "ExecuteTime": {
     "end_time": "2020-01-23T21:59:02.242434Z",
     "start_time": "2020-01-23T21:59:01.793838Z"
    }
   },
   "outputs": [],
   "source": [
    "import pandas as pd\n",
    "import seaborn as sb\n",
    "import numpy as np\n",
    "from sklearn.preprocessing import LabelEncoder\n",
    "\n",
    "import geocoder\n",
    "\n",
    "pd.options.display.float_format = \"{:.2f}\".format"
   ]
  },
  {
   "cell_type": "code",
   "execution_count": 2,
   "metadata": {
    "ExecuteTime": {
     "end_time": "2020-01-23T21:37:28.437984Z",
     "start_time": "2020-01-23T21:36:54.395711Z"
    }
   },
   "outputs": [],
   "source": [
    "yel2019 = pd.read_csv(\"/Users/james.fung/Desktop/test_scripts/via/yellow_tripdata_2016-01.csv\")"
   ]
  },
  {
   "cell_type": "code",
   "execution_count": 3,
   "metadata": {
    "ExecuteTime": {
     "end_time": "2020-01-23T21:37:28.485419Z",
     "start_time": "2020-01-23T21:37:28.440080Z"
    }
   },
   "outputs": [],
   "source": [
    "zones = pd.read_csv(\"/Users/james.fung/Desktop/test_scripts/via/taxi_zones.csv\")"
   ]
  },
  {
   "cell_type": "code",
   "execution_count": 4,
   "metadata": {
    "ExecuteTime": {
     "end_time": "2020-01-23T21:37:28.575843Z",
     "start_time": "2020-01-23T21:37:28.488017Z"
    }
   },
   "outputs": [],
   "source": [
    "boros = pd.read_csv(\"/Users/james.fung/Downloads/nybb (1).csv\")"
   ]
  },
  {
   "cell_type": "code",
   "execution_count": 8,
   "metadata": {
    "ExecuteTime": {
     "end_time": "2020-01-23T21:51:23.305980Z",
     "start_time": "2020-01-23T21:51:23.286071Z"
    }
   },
   "outputs": [
    {
     "data": {
      "text/html": [
       "<div>\n",
       "<style scoped>\n",
       "    .dataframe tbody tr th:only-of-type {\n",
       "        vertical-align: middle;\n",
       "    }\n",
       "\n",
       "    .dataframe tbody tr th {\n",
       "        vertical-align: top;\n",
       "    }\n",
       "\n",
       "    .dataframe thead th {\n",
       "        text-align: right;\n",
       "    }\n",
       "</style>\n",
       "<table border=\"1\" class=\"dataframe\">\n",
       "  <thead>\n",
       "    <tr style=\"text-align: right;\">\n",
       "      <th></th>\n",
       "      <th>VendorID</th>\n",
       "      <th>tpep_pickup_datetime</th>\n",
       "      <th>tpep_dropoff_datetime</th>\n",
       "      <th>passenger_count</th>\n",
       "      <th>trip_distance</th>\n",
       "      <th>pickup_longitude</th>\n",
       "      <th>pickup_latitude</th>\n",
       "      <th>RatecodeID</th>\n",
       "      <th>store_and_fwd_flag</th>\n",
       "      <th>dropoff_longitude</th>\n",
       "      <th>dropoff_latitude</th>\n",
       "      <th>payment_type</th>\n",
       "      <th>fare_amount</th>\n",
       "      <th>extra</th>\n",
       "      <th>mta_tax</th>\n",
       "      <th>tip_amount</th>\n",
       "      <th>tolls_amount</th>\n",
       "      <th>improvement_surcharge</th>\n",
       "      <th>total_amount</th>\n",
       "    </tr>\n",
       "  </thead>\n",
       "  <tbody>\n",
       "    <tr>\n",
       "      <th>0</th>\n",
       "      <td>2</td>\n",
       "      <td>2016-01-01 00:00:00</td>\n",
       "      <td>2016-01-01 00:00:00</td>\n",
       "      <td>2</td>\n",
       "      <td>1.10</td>\n",
       "      <td>-73.990372</td>\n",
       "      <td>40.734695</td>\n",
       "      <td>1</td>\n",
       "      <td>N</td>\n",
       "      <td>-73.981842</td>\n",
       "      <td>40.732407</td>\n",
       "      <td>2</td>\n",
       "      <td>7.5</td>\n",
       "      <td>0.5</td>\n",
       "      <td>0.5</td>\n",
       "      <td>0.0</td>\n",
       "      <td>0.0</td>\n",
       "      <td>0.3</td>\n",
       "      <td>8.8</td>\n",
       "    </tr>\n",
       "    <tr>\n",
       "      <th>1</th>\n",
       "      <td>2</td>\n",
       "      <td>2016-01-01 00:00:00</td>\n",
       "      <td>2016-01-01 00:00:00</td>\n",
       "      <td>5</td>\n",
       "      <td>4.90</td>\n",
       "      <td>-73.980782</td>\n",
       "      <td>40.729912</td>\n",
       "      <td>1</td>\n",
       "      <td>N</td>\n",
       "      <td>-73.944473</td>\n",
       "      <td>40.716679</td>\n",
       "      <td>1</td>\n",
       "      <td>18.0</td>\n",
       "      <td>0.5</td>\n",
       "      <td>0.5</td>\n",
       "      <td>0.0</td>\n",
       "      <td>0.0</td>\n",
       "      <td>0.3</td>\n",
       "      <td>19.3</td>\n",
       "    </tr>\n",
       "    <tr>\n",
       "      <th>2</th>\n",
       "      <td>2</td>\n",
       "      <td>2016-01-01 00:00:00</td>\n",
       "      <td>2016-01-01 00:00:00</td>\n",
       "      <td>1</td>\n",
       "      <td>10.54</td>\n",
       "      <td>-73.984550</td>\n",
       "      <td>40.679565</td>\n",
       "      <td>1</td>\n",
       "      <td>N</td>\n",
       "      <td>-73.950272</td>\n",
       "      <td>40.788925</td>\n",
       "      <td>1</td>\n",
       "      <td>33.0</td>\n",
       "      <td>0.5</td>\n",
       "      <td>0.5</td>\n",
       "      <td>0.0</td>\n",
       "      <td>0.0</td>\n",
       "      <td>0.3</td>\n",
       "      <td>34.3</td>\n",
       "    </tr>\n",
       "    <tr>\n",
       "      <th>3</th>\n",
       "      <td>2</td>\n",
       "      <td>2016-01-01 00:00:00</td>\n",
       "      <td>2016-01-01 00:00:00</td>\n",
       "      <td>1</td>\n",
       "      <td>4.75</td>\n",
       "      <td>-73.993469</td>\n",
       "      <td>40.718990</td>\n",
       "      <td>1</td>\n",
       "      <td>N</td>\n",
       "      <td>-73.962242</td>\n",
       "      <td>40.657333</td>\n",
       "      <td>2</td>\n",
       "      <td>16.5</td>\n",
       "      <td>0.0</td>\n",
       "      <td>0.5</td>\n",
       "      <td>0.0</td>\n",
       "      <td>0.0</td>\n",
       "      <td>0.3</td>\n",
       "      <td>17.3</td>\n",
       "    </tr>\n",
       "    <tr>\n",
       "      <th>4</th>\n",
       "      <td>2</td>\n",
       "      <td>2016-01-01 00:00:00</td>\n",
       "      <td>2016-01-01 00:00:00</td>\n",
       "      <td>3</td>\n",
       "      <td>1.76</td>\n",
       "      <td>-73.960625</td>\n",
       "      <td>40.781330</td>\n",
       "      <td>1</td>\n",
       "      <td>N</td>\n",
       "      <td>-73.977264</td>\n",
       "      <td>40.758514</td>\n",
       "      <td>2</td>\n",
       "      <td>8.0</td>\n",
       "      <td>0.0</td>\n",
       "      <td>0.5</td>\n",
       "      <td>0.0</td>\n",
       "      <td>0.0</td>\n",
       "      <td>0.3</td>\n",
       "      <td>8.8</td>\n",
       "    </tr>\n",
       "    <tr>\n",
       "      <th>5</th>\n",
       "      <td>2</td>\n",
       "      <td>2016-01-01 00:00:00</td>\n",
       "      <td>2016-01-01 00:18:30</td>\n",
       "      <td>2</td>\n",
       "      <td>5.52</td>\n",
       "      <td>-73.980118</td>\n",
       "      <td>40.743050</td>\n",
       "      <td>1</td>\n",
       "      <td>N</td>\n",
       "      <td>-73.913490</td>\n",
       "      <td>40.763142</td>\n",
       "      <td>2</td>\n",
       "      <td>19.0</td>\n",
       "      <td>0.5</td>\n",
       "      <td>0.5</td>\n",
       "      <td>0.0</td>\n",
       "      <td>0.0</td>\n",
       "      <td>0.3</td>\n",
       "      <td>20.3</td>\n",
       "    </tr>\n",
       "    <tr>\n",
       "      <th>6</th>\n",
       "      <td>2</td>\n",
       "      <td>2016-01-01 00:00:00</td>\n",
       "      <td>2016-01-01 00:26:45</td>\n",
       "      <td>2</td>\n",
       "      <td>7.45</td>\n",
       "      <td>-73.994057</td>\n",
       "      <td>40.719990</td>\n",
       "      <td>1</td>\n",
       "      <td>N</td>\n",
       "      <td>-73.966362</td>\n",
       "      <td>40.789871</td>\n",
       "      <td>2</td>\n",
       "      <td>26.0</td>\n",
       "      <td>0.5</td>\n",
       "      <td>0.5</td>\n",
       "      <td>0.0</td>\n",
       "      <td>0.0</td>\n",
       "      <td>0.3</td>\n",
       "      <td>27.3</td>\n",
       "    </tr>\n",
       "    <tr>\n",
       "      <th>7</th>\n",
       "      <td>1</td>\n",
       "      <td>2016-01-01 00:00:01</td>\n",
       "      <td>2016-01-01 00:11:55</td>\n",
       "      <td>1</td>\n",
       "      <td>1.20</td>\n",
       "      <td>-73.979424</td>\n",
       "      <td>40.744614</td>\n",
       "      <td>1</td>\n",
       "      <td>N</td>\n",
       "      <td>-73.992035</td>\n",
       "      <td>40.753944</td>\n",
       "      <td>2</td>\n",
       "      <td>9.0</td>\n",
       "      <td>0.5</td>\n",
       "      <td>0.5</td>\n",
       "      <td>0.0</td>\n",
       "      <td>0.0</td>\n",
       "      <td>0.3</td>\n",
       "      <td>10.3</td>\n",
       "    </tr>\n",
       "    <tr>\n",
       "      <th>8</th>\n",
       "      <td>1</td>\n",
       "      <td>2016-01-01 00:00:02</td>\n",
       "      <td>2016-01-01 00:11:14</td>\n",
       "      <td>1</td>\n",
       "      <td>6.00</td>\n",
       "      <td>-73.947151</td>\n",
       "      <td>40.791046</td>\n",
       "      <td>1</td>\n",
       "      <td>N</td>\n",
       "      <td>-73.920769</td>\n",
       "      <td>40.865578</td>\n",
       "      <td>2</td>\n",
       "      <td>18.0</td>\n",
       "      <td>0.5</td>\n",
       "      <td>0.5</td>\n",
       "      <td>0.0</td>\n",
       "      <td>0.0</td>\n",
       "      <td>0.3</td>\n",
       "      <td>19.3</td>\n",
       "    </tr>\n",
       "    <tr>\n",
       "      <th>9</th>\n",
       "      <td>2</td>\n",
       "      <td>2016-01-01 00:00:02</td>\n",
       "      <td>2016-01-01 00:11:08</td>\n",
       "      <td>1</td>\n",
       "      <td>3.21</td>\n",
       "      <td>-73.998344</td>\n",
       "      <td>40.723896</td>\n",
       "      <td>1</td>\n",
       "      <td>N</td>\n",
       "      <td>-73.995850</td>\n",
       "      <td>40.688400</td>\n",
       "      <td>2</td>\n",
       "      <td>11.5</td>\n",
       "      <td>0.5</td>\n",
       "      <td>0.5</td>\n",
       "      <td>0.0</td>\n",
       "      <td>0.0</td>\n",
       "      <td>0.3</td>\n",
       "      <td>12.8</td>\n",
       "    </tr>\n",
       "  </tbody>\n",
       "</table>\n",
       "</div>"
      ],
      "text/plain": [
       "   VendorID tpep_pickup_datetime tpep_dropoff_datetime  passenger_count  \\\n",
       "0         2  2016-01-01 00:00:00   2016-01-01 00:00:00                2   \n",
       "1         2  2016-01-01 00:00:00   2016-01-01 00:00:00                5   \n",
       "2         2  2016-01-01 00:00:00   2016-01-01 00:00:00                1   \n",
       "3         2  2016-01-01 00:00:00   2016-01-01 00:00:00                1   \n",
       "4         2  2016-01-01 00:00:00   2016-01-01 00:00:00                3   \n",
       "5         2  2016-01-01 00:00:00   2016-01-01 00:18:30                2   \n",
       "6         2  2016-01-01 00:00:00   2016-01-01 00:26:45                2   \n",
       "7         1  2016-01-01 00:00:01   2016-01-01 00:11:55                1   \n",
       "8         1  2016-01-01 00:00:02   2016-01-01 00:11:14                1   \n",
       "9         2  2016-01-01 00:00:02   2016-01-01 00:11:08                1   \n",
       "\n",
       "   trip_distance  pickup_longitude  pickup_latitude  RatecodeID  \\\n",
       "0           1.10        -73.990372        40.734695           1   \n",
       "1           4.90        -73.980782        40.729912           1   \n",
       "2          10.54        -73.984550        40.679565           1   \n",
       "3           4.75        -73.993469        40.718990           1   \n",
       "4           1.76        -73.960625        40.781330           1   \n",
       "5           5.52        -73.980118        40.743050           1   \n",
       "6           7.45        -73.994057        40.719990           1   \n",
       "7           1.20        -73.979424        40.744614           1   \n",
       "8           6.00        -73.947151        40.791046           1   \n",
       "9           3.21        -73.998344        40.723896           1   \n",
       "\n",
       "  store_and_fwd_flag  dropoff_longitude  dropoff_latitude  payment_type  \\\n",
       "0                  N         -73.981842         40.732407             2   \n",
       "1                  N         -73.944473         40.716679             1   \n",
       "2                  N         -73.950272         40.788925             1   \n",
       "3                  N         -73.962242         40.657333             2   \n",
       "4                  N         -73.977264         40.758514             2   \n",
       "5                  N         -73.913490         40.763142             2   \n",
       "6                  N         -73.966362         40.789871             2   \n",
       "7                  N         -73.992035         40.753944             2   \n",
       "8                  N         -73.920769         40.865578             2   \n",
       "9                  N         -73.995850         40.688400             2   \n",
       "\n",
       "   fare_amount  extra  mta_tax  tip_amount  tolls_amount  \\\n",
       "0          7.5    0.5      0.5         0.0           0.0   \n",
       "1         18.0    0.5      0.5         0.0           0.0   \n",
       "2         33.0    0.5      0.5         0.0           0.0   \n",
       "3         16.5    0.0      0.5         0.0           0.0   \n",
       "4          8.0    0.0      0.5         0.0           0.0   \n",
       "5         19.0    0.5      0.5         0.0           0.0   \n",
       "6         26.0    0.5      0.5         0.0           0.0   \n",
       "7          9.0    0.5      0.5         0.0           0.0   \n",
       "8         18.0    0.5      0.5         0.0           0.0   \n",
       "9         11.5    0.5      0.5         0.0           0.0   \n",
       "\n",
       "   improvement_surcharge  total_amount  \n",
       "0                    0.3           8.8  \n",
       "1                    0.3          19.3  \n",
       "2                    0.3          34.3  \n",
       "3                    0.3          17.3  \n",
       "4                    0.3           8.8  \n",
       "5                    0.3          20.3  \n",
       "6                    0.3          27.3  \n",
       "7                    0.3          10.3  \n",
       "8                    0.3          19.3  \n",
       "9                    0.3          12.8  "
      ]
     },
     "execution_count": 8,
     "metadata": {},
     "output_type": "execute_result"
    }
   ],
   "source": [
    "yel2019.head(10)"
   ]
  },
  {
   "cell_type": "code",
   "execution_count": 9,
   "metadata": {
    "ExecuteTime": {
     "end_time": "2020-01-23T21:51:24.002827Z",
     "start_time": "2020-01-23T21:51:23.997025Z"
    }
   },
   "outputs": [
    {
     "name": "stdout",
     "output_type": "stream",
     "text": [
      "<class 'pandas.core.frame.DataFrame'>\n",
      "RangeIndex: 10906858 entries, 0 to 10906857\n",
      "Data columns (total 19 columns):\n",
      "VendorID                 int64\n",
      "tpep_pickup_datetime     object\n",
      "tpep_dropoff_datetime    object\n",
      "passenger_count          int64\n",
      "trip_distance            float64\n",
      "pickup_longitude         float64\n",
      "pickup_latitude          float64\n",
      "RatecodeID               int64\n",
      "store_and_fwd_flag       object\n",
      "dropoff_longitude        float64\n",
      "dropoff_latitude         float64\n",
      "payment_type             int64\n",
      "fare_amount              float64\n",
      "extra                    float64\n",
      "mta_tax                  float64\n",
      "tip_amount               float64\n",
      "tolls_amount             float64\n",
      "improvement_surcharge    float64\n",
      "total_amount             float64\n",
      "dtypes: float64(12), int64(4), object(3)\n",
      "memory usage: 1.5+ GB\n"
     ]
    }
   ],
   "source": [
    "yel2019.info()"
   ]
  },
  {
   "cell_type": "markdown",
   "metadata": {},
   "source": [
    "### Preliminary Feature Extraction"
   ]
  },
  {
   "cell_type": "markdown",
   "metadata": {},
   "source": [
    "Let's first extract some useful information from tpep_pickup_datetime. Things such as day of the week, day of month, month, and trip duration."
   ]
  },
  {
   "cell_type": "code",
   "execution_count": 10,
   "metadata": {
    "ExecuteTime": {
     "end_time": "2020-01-23T21:51:30.407879Z",
     "start_time": "2020-01-23T21:51:27.150167Z"
    }
   },
   "outputs": [],
   "source": [
    "#Create a column for the clean date.\n",
    "yel2019['clean_pickup_datetime'] = pd.to_datetime(yel2019['tpep_pickup_datetime'], format= '%Y-%m-%d %H:%M:%S')\n",
    "yel2019['clean_dropoff_datetime'] = pd.to_datetime(yel2019['tpep_dropoff_datetime'], format= '%Y-%m-%d %H:%M:%S')"
   ]
  },
  {
   "cell_type": "code",
   "execution_count": 11,
   "metadata": {
    "ExecuteTime": {
     "end_time": "2020-01-23T21:51:31.568500Z",
     "start_time": "2020-01-23T21:51:30.410036Z"
    }
   },
   "outputs": [],
   "source": [
    "#Extract day of the week, day of month, and month.\n",
    "pickup = yel2019['clean_pickup_datetime']\n",
    "dropoff = yel2019['clean_dropoff_datetime']\n",
    "yel2019['month'] = pickup.dt.month\n",
    "yel2019['dom'] = pickup.dt.day\n",
    "yel2019['dow'] = pickup.dt.dayofweek"
   ]
  },
  {
   "cell_type": "code",
   "execution_count": 12,
   "metadata": {
    "ExecuteTime": {
     "end_time": "2020-01-23T21:51:31.753677Z",
     "start_time": "2020-01-23T21:51:31.570881Z"
    }
   },
   "outputs": [],
   "source": [
    "#Extract the duration of the trip.\n",
    "yel2019['diff_sec'] = (dropoff-pickup)/np.timedelta64(1,'s')"
   ]
  },
  {
   "cell_type": "code",
   "execution_count": 13,
   "metadata": {
    "ExecuteTime": {
     "end_time": "2020-01-23T21:51:36.448796Z",
     "start_time": "2020-01-23T21:51:31.756096Z"
    }
   },
   "outputs": [],
   "source": [
    "#Drop the unecessary columns.\n",
    "yel2019 = yel2019.drop(['tpep_pickup_datetime','tpep_dropoff_datetime'],axis=1)"
   ]
  },
  {
   "cell_type": "code",
   "execution_count": 14,
   "metadata": {
    "ExecuteTime": {
     "end_time": "2020-01-23T21:51:36.475990Z",
     "start_time": "2020-01-23T21:51:36.450750Z"
    }
   },
   "outputs": [
    {
     "data": {
      "text/html": [
       "<div>\n",
       "<style scoped>\n",
       "    .dataframe tbody tr th:only-of-type {\n",
       "        vertical-align: middle;\n",
       "    }\n",
       "\n",
       "    .dataframe tbody tr th {\n",
       "        vertical-align: top;\n",
       "    }\n",
       "\n",
       "    .dataframe thead th {\n",
       "        text-align: right;\n",
       "    }\n",
       "</style>\n",
       "<table border=\"1\" class=\"dataframe\">\n",
       "  <thead>\n",
       "    <tr style=\"text-align: right;\">\n",
       "      <th></th>\n",
       "      <th>VendorID</th>\n",
       "      <th>passenger_count</th>\n",
       "      <th>trip_distance</th>\n",
       "      <th>pickup_longitude</th>\n",
       "      <th>pickup_latitude</th>\n",
       "      <th>RatecodeID</th>\n",
       "      <th>store_and_fwd_flag</th>\n",
       "      <th>dropoff_longitude</th>\n",
       "      <th>dropoff_latitude</th>\n",
       "      <th>payment_type</th>\n",
       "      <th>...</th>\n",
       "      <th>tip_amount</th>\n",
       "      <th>tolls_amount</th>\n",
       "      <th>improvement_surcharge</th>\n",
       "      <th>total_amount</th>\n",
       "      <th>clean_pickup_datetime</th>\n",
       "      <th>clean_dropoff_datetime</th>\n",
       "      <th>month</th>\n",
       "      <th>dom</th>\n",
       "      <th>dow</th>\n",
       "      <th>diff_sec</th>\n",
       "    </tr>\n",
       "  </thead>\n",
       "  <tbody>\n",
       "    <tr>\n",
       "      <th>0</th>\n",
       "      <td>2</td>\n",
       "      <td>2</td>\n",
       "      <td>1.10</td>\n",
       "      <td>-73.990372</td>\n",
       "      <td>40.734695</td>\n",
       "      <td>1</td>\n",
       "      <td>N</td>\n",
       "      <td>-73.981842</td>\n",
       "      <td>40.732407</td>\n",
       "      <td>2</td>\n",
       "      <td>...</td>\n",
       "      <td>0.0</td>\n",
       "      <td>0.0</td>\n",
       "      <td>0.3</td>\n",
       "      <td>8.8</td>\n",
       "      <td>2016-01-01 00:00:00</td>\n",
       "      <td>2016-01-01 00:00:00</td>\n",
       "      <td>1</td>\n",
       "      <td>1</td>\n",
       "      <td>4</td>\n",
       "      <td>0.0</td>\n",
       "    </tr>\n",
       "    <tr>\n",
       "      <th>1</th>\n",
       "      <td>2</td>\n",
       "      <td>5</td>\n",
       "      <td>4.90</td>\n",
       "      <td>-73.980782</td>\n",
       "      <td>40.729912</td>\n",
       "      <td>1</td>\n",
       "      <td>N</td>\n",
       "      <td>-73.944473</td>\n",
       "      <td>40.716679</td>\n",
       "      <td>1</td>\n",
       "      <td>...</td>\n",
       "      <td>0.0</td>\n",
       "      <td>0.0</td>\n",
       "      <td>0.3</td>\n",
       "      <td>19.3</td>\n",
       "      <td>2016-01-01 00:00:00</td>\n",
       "      <td>2016-01-01 00:00:00</td>\n",
       "      <td>1</td>\n",
       "      <td>1</td>\n",
       "      <td>4</td>\n",
       "      <td>0.0</td>\n",
       "    </tr>\n",
       "    <tr>\n",
       "      <th>2</th>\n",
       "      <td>2</td>\n",
       "      <td>1</td>\n",
       "      <td>10.54</td>\n",
       "      <td>-73.984550</td>\n",
       "      <td>40.679565</td>\n",
       "      <td>1</td>\n",
       "      <td>N</td>\n",
       "      <td>-73.950272</td>\n",
       "      <td>40.788925</td>\n",
       "      <td>1</td>\n",
       "      <td>...</td>\n",
       "      <td>0.0</td>\n",
       "      <td>0.0</td>\n",
       "      <td>0.3</td>\n",
       "      <td>34.3</td>\n",
       "      <td>2016-01-01 00:00:00</td>\n",
       "      <td>2016-01-01 00:00:00</td>\n",
       "      <td>1</td>\n",
       "      <td>1</td>\n",
       "      <td>4</td>\n",
       "      <td>0.0</td>\n",
       "    </tr>\n",
       "    <tr>\n",
       "      <th>3</th>\n",
       "      <td>2</td>\n",
       "      <td>1</td>\n",
       "      <td>4.75</td>\n",
       "      <td>-73.993469</td>\n",
       "      <td>40.718990</td>\n",
       "      <td>1</td>\n",
       "      <td>N</td>\n",
       "      <td>-73.962242</td>\n",
       "      <td>40.657333</td>\n",
       "      <td>2</td>\n",
       "      <td>...</td>\n",
       "      <td>0.0</td>\n",
       "      <td>0.0</td>\n",
       "      <td>0.3</td>\n",
       "      <td>17.3</td>\n",
       "      <td>2016-01-01 00:00:00</td>\n",
       "      <td>2016-01-01 00:00:00</td>\n",
       "      <td>1</td>\n",
       "      <td>1</td>\n",
       "      <td>4</td>\n",
       "      <td>0.0</td>\n",
       "    </tr>\n",
       "    <tr>\n",
       "      <th>4</th>\n",
       "      <td>2</td>\n",
       "      <td>3</td>\n",
       "      <td>1.76</td>\n",
       "      <td>-73.960625</td>\n",
       "      <td>40.781330</td>\n",
       "      <td>1</td>\n",
       "      <td>N</td>\n",
       "      <td>-73.977264</td>\n",
       "      <td>40.758514</td>\n",
       "      <td>2</td>\n",
       "      <td>...</td>\n",
       "      <td>0.0</td>\n",
       "      <td>0.0</td>\n",
       "      <td>0.3</td>\n",
       "      <td>8.8</td>\n",
       "      <td>2016-01-01 00:00:00</td>\n",
       "      <td>2016-01-01 00:00:00</td>\n",
       "      <td>1</td>\n",
       "      <td>1</td>\n",
       "      <td>4</td>\n",
       "      <td>0.0</td>\n",
       "    </tr>\n",
       "    <tr>\n",
       "      <th>5</th>\n",
       "      <td>2</td>\n",
       "      <td>2</td>\n",
       "      <td>5.52</td>\n",
       "      <td>-73.980118</td>\n",
       "      <td>40.743050</td>\n",
       "      <td>1</td>\n",
       "      <td>N</td>\n",
       "      <td>-73.913490</td>\n",
       "      <td>40.763142</td>\n",
       "      <td>2</td>\n",
       "      <td>...</td>\n",
       "      <td>0.0</td>\n",
       "      <td>0.0</td>\n",
       "      <td>0.3</td>\n",
       "      <td>20.3</td>\n",
       "      <td>2016-01-01 00:00:00</td>\n",
       "      <td>2016-01-01 00:18:30</td>\n",
       "      <td>1</td>\n",
       "      <td>1</td>\n",
       "      <td>4</td>\n",
       "      <td>1110.0</td>\n",
       "    </tr>\n",
       "    <tr>\n",
       "      <th>6</th>\n",
       "      <td>2</td>\n",
       "      <td>2</td>\n",
       "      <td>7.45</td>\n",
       "      <td>-73.994057</td>\n",
       "      <td>40.719990</td>\n",
       "      <td>1</td>\n",
       "      <td>N</td>\n",
       "      <td>-73.966362</td>\n",
       "      <td>40.789871</td>\n",
       "      <td>2</td>\n",
       "      <td>...</td>\n",
       "      <td>0.0</td>\n",
       "      <td>0.0</td>\n",
       "      <td>0.3</td>\n",
       "      <td>27.3</td>\n",
       "      <td>2016-01-01 00:00:00</td>\n",
       "      <td>2016-01-01 00:26:45</td>\n",
       "      <td>1</td>\n",
       "      <td>1</td>\n",
       "      <td>4</td>\n",
       "      <td>1605.0</td>\n",
       "    </tr>\n",
       "    <tr>\n",
       "      <th>7</th>\n",
       "      <td>1</td>\n",
       "      <td>1</td>\n",
       "      <td>1.20</td>\n",
       "      <td>-73.979424</td>\n",
       "      <td>40.744614</td>\n",
       "      <td>1</td>\n",
       "      <td>N</td>\n",
       "      <td>-73.992035</td>\n",
       "      <td>40.753944</td>\n",
       "      <td>2</td>\n",
       "      <td>...</td>\n",
       "      <td>0.0</td>\n",
       "      <td>0.0</td>\n",
       "      <td>0.3</td>\n",
       "      <td>10.3</td>\n",
       "      <td>2016-01-01 00:00:01</td>\n",
       "      <td>2016-01-01 00:11:55</td>\n",
       "      <td>1</td>\n",
       "      <td>1</td>\n",
       "      <td>4</td>\n",
       "      <td>714.0</td>\n",
       "    </tr>\n",
       "    <tr>\n",
       "      <th>8</th>\n",
       "      <td>1</td>\n",
       "      <td>1</td>\n",
       "      <td>6.00</td>\n",
       "      <td>-73.947151</td>\n",
       "      <td>40.791046</td>\n",
       "      <td>1</td>\n",
       "      <td>N</td>\n",
       "      <td>-73.920769</td>\n",
       "      <td>40.865578</td>\n",
       "      <td>2</td>\n",
       "      <td>...</td>\n",
       "      <td>0.0</td>\n",
       "      <td>0.0</td>\n",
       "      <td>0.3</td>\n",
       "      <td>19.3</td>\n",
       "      <td>2016-01-01 00:00:02</td>\n",
       "      <td>2016-01-01 00:11:14</td>\n",
       "      <td>1</td>\n",
       "      <td>1</td>\n",
       "      <td>4</td>\n",
       "      <td>672.0</td>\n",
       "    </tr>\n",
       "    <tr>\n",
       "      <th>9</th>\n",
       "      <td>2</td>\n",
       "      <td>1</td>\n",
       "      <td>3.21</td>\n",
       "      <td>-73.998344</td>\n",
       "      <td>40.723896</td>\n",
       "      <td>1</td>\n",
       "      <td>N</td>\n",
       "      <td>-73.995850</td>\n",
       "      <td>40.688400</td>\n",
       "      <td>2</td>\n",
       "      <td>...</td>\n",
       "      <td>0.0</td>\n",
       "      <td>0.0</td>\n",
       "      <td>0.3</td>\n",
       "      <td>12.8</td>\n",
       "      <td>2016-01-01 00:00:02</td>\n",
       "      <td>2016-01-01 00:11:08</td>\n",
       "      <td>1</td>\n",
       "      <td>1</td>\n",
       "      <td>4</td>\n",
       "      <td>666.0</td>\n",
       "    </tr>\n",
       "  </tbody>\n",
       "</table>\n",
       "<p>10 rows × 23 columns</p>\n",
       "</div>"
      ],
      "text/plain": [
       "   VendorID  passenger_count  trip_distance  pickup_longitude  \\\n",
       "0         2                2           1.10        -73.990372   \n",
       "1         2                5           4.90        -73.980782   \n",
       "2         2                1          10.54        -73.984550   \n",
       "3         2                1           4.75        -73.993469   \n",
       "4         2                3           1.76        -73.960625   \n",
       "5         2                2           5.52        -73.980118   \n",
       "6         2                2           7.45        -73.994057   \n",
       "7         1                1           1.20        -73.979424   \n",
       "8         1                1           6.00        -73.947151   \n",
       "9         2                1           3.21        -73.998344   \n",
       "\n",
       "   pickup_latitude  RatecodeID store_and_fwd_flag  dropoff_longitude  \\\n",
       "0        40.734695           1                  N         -73.981842   \n",
       "1        40.729912           1                  N         -73.944473   \n",
       "2        40.679565           1                  N         -73.950272   \n",
       "3        40.718990           1                  N         -73.962242   \n",
       "4        40.781330           1                  N         -73.977264   \n",
       "5        40.743050           1                  N         -73.913490   \n",
       "6        40.719990           1                  N         -73.966362   \n",
       "7        40.744614           1                  N         -73.992035   \n",
       "8        40.791046           1                  N         -73.920769   \n",
       "9        40.723896           1                  N         -73.995850   \n",
       "\n",
       "   dropoff_latitude  payment_type    ...     tip_amount  tolls_amount  \\\n",
       "0         40.732407             2    ...            0.0           0.0   \n",
       "1         40.716679             1    ...            0.0           0.0   \n",
       "2         40.788925             1    ...            0.0           0.0   \n",
       "3         40.657333             2    ...            0.0           0.0   \n",
       "4         40.758514             2    ...            0.0           0.0   \n",
       "5         40.763142             2    ...            0.0           0.0   \n",
       "6         40.789871             2    ...            0.0           0.0   \n",
       "7         40.753944             2    ...            0.0           0.0   \n",
       "8         40.865578             2    ...            0.0           0.0   \n",
       "9         40.688400             2    ...            0.0           0.0   \n",
       "\n",
       "   improvement_surcharge  total_amount  clean_pickup_datetime  \\\n",
       "0                    0.3           8.8    2016-01-01 00:00:00   \n",
       "1                    0.3          19.3    2016-01-01 00:00:00   \n",
       "2                    0.3          34.3    2016-01-01 00:00:00   \n",
       "3                    0.3          17.3    2016-01-01 00:00:00   \n",
       "4                    0.3           8.8    2016-01-01 00:00:00   \n",
       "5                    0.3          20.3    2016-01-01 00:00:00   \n",
       "6                    0.3          27.3    2016-01-01 00:00:00   \n",
       "7                    0.3          10.3    2016-01-01 00:00:01   \n",
       "8                    0.3          19.3    2016-01-01 00:00:02   \n",
       "9                    0.3          12.8    2016-01-01 00:00:02   \n",
       "\n",
       "   clean_dropoff_datetime  month dom dow  diff_sec  \n",
       "0     2016-01-01 00:00:00      1   1   4       0.0  \n",
       "1     2016-01-01 00:00:00      1   1   4       0.0  \n",
       "2     2016-01-01 00:00:00      1   1   4       0.0  \n",
       "3     2016-01-01 00:00:00      1   1   4       0.0  \n",
       "4     2016-01-01 00:00:00      1   1   4       0.0  \n",
       "5     2016-01-01 00:18:30      1   1   4    1110.0  \n",
       "6     2016-01-01 00:26:45      1   1   4    1605.0  \n",
       "7     2016-01-01 00:11:55      1   1   4     714.0  \n",
       "8     2016-01-01 00:11:14      1   1   4     672.0  \n",
       "9     2016-01-01 00:11:08      1   1   4     666.0  \n",
       "\n",
       "[10 rows x 23 columns]"
      ]
     },
     "execution_count": 14,
     "metadata": {},
     "output_type": "execute_result"
    }
   ],
   "source": [
    "yel2019.head(10)"
   ]
  },
  {
   "cell_type": "markdown",
   "metadata": {},
   "source": [
    "### Converting Lat/Long Into Meaningful Features"
   ]
  },
  {
   "cell_type": "code",
   "execution_count": 28,
   "metadata": {
    "ExecuteTime": {
     "end_time": "2020-01-23T21:56:51.819816Z",
     "start_time": "2020-01-23T21:56:41.856108Z"
    }
   },
   "outputs": [
    {
     "data": {
      "text/html": [
       "<div>\n",
       "<style scoped>\n",
       "    .dataframe tbody tr th:only-of-type {\n",
       "        vertical-align: middle;\n",
       "    }\n",
       "\n",
       "    .dataframe tbody tr th {\n",
       "        vertical-align: top;\n",
       "    }\n",
       "\n",
       "    .dataframe thead th {\n",
       "        text-align: right;\n",
       "    }\n",
       "</style>\n",
       "<table border=\"1\" class=\"dataframe\">\n",
       "  <thead>\n",
       "    <tr style=\"text-align: right;\">\n",
       "      <th></th>\n",
       "      <th>VendorID</th>\n",
       "      <th>passenger_count</th>\n",
       "      <th>trip_distance</th>\n",
       "      <th>pickup_longitude</th>\n",
       "      <th>pickup_latitude</th>\n",
       "      <th>RatecodeID</th>\n",
       "      <th>dropoff_longitude</th>\n",
       "      <th>dropoff_latitude</th>\n",
       "      <th>payment_type</th>\n",
       "      <th>fare_amount</th>\n",
       "      <th>extra</th>\n",
       "      <th>mta_tax</th>\n",
       "      <th>tip_amount</th>\n",
       "      <th>tolls_amount</th>\n",
       "      <th>improvement_surcharge</th>\n",
       "      <th>total_amount</th>\n",
       "      <th>month</th>\n",
       "      <th>dom</th>\n",
       "      <th>dow</th>\n",
       "      <th>diff_sec</th>\n",
       "    </tr>\n",
       "  </thead>\n",
       "  <tbody>\n",
       "    <tr>\n",
       "      <th>count</th>\n",
       "      <td>10906858.00</td>\n",
       "      <td>10906858.00</td>\n",
       "      <td>10906858.00</td>\n",
       "      <td>10906858.00</td>\n",
       "      <td>10906858.00</td>\n",
       "      <td>10906858.00</td>\n",
       "      <td>10906858.00</td>\n",
       "      <td>10906858.00</td>\n",
       "      <td>10906858.00</td>\n",
       "      <td>10906858.00</td>\n",
       "      <td>10906858.00</td>\n",
       "      <td>10906858.00</td>\n",
       "      <td>10906858.00</td>\n",
       "      <td>10906858.00</td>\n",
       "      <td>10906858.00</td>\n",
       "      <td>10906858.00</td>\n",
       "      <td>10906858.00</td>\n",
       "      <td>10906858.00</td>\n",
       "      <td>10906858.00</td>\n",
       "      <td>10906858.00</td>\n",
       "    </tr>\n",
       "    <tr>\n",
       "      <th>mean</th>\n",
       "      <td>1.54</td>\n",
       "      <td>1.67</td>\n",
       "      <td>4.65</td>\n",
       "      <td>-72.82</td>\n",
       "      <td>40.11</td>\n",
       "      <td>1.04</td>\n",
       "      <td>-72.89</td>\n",
       "      <td>40.15</td>\n",
       "      <td>1.35</td>\n",
       "      <td>12.49</td>\n",
       "      <td>0.31</td>\n",
       "      <td>0.50</td>\n",
       "      <td>1.75</td>\n",
       "      <td>0.29</td>\n",
       "      <td>0.30</td>\n",
       "      <td>15.64</td>\n",
       "      <td>1.00</td>\n",
       "      <td>15.99</td>\n",
       "      <td>3.16</td>\n",
       "      <td>916.13</td>\n",
       "    </tr>\n",
       "    <tr>\n",
       "      <th>std</th>\n",
       "      <td>0.50</td>\n",
       "      <td>1.32</td>\n",
       "      <td>2981.10</td>\n",
       "      <td>9.17</td>\n",
       "      <td>5.05</td>\n",
       "      <td>0.52</td>\n",
       "      <td>8.90</td>\n",
       "      <td>4.90</td>\n",
       "      <td>0.49</td>\n",
       "      <td>35.56</td>\n",
       "      <td>0.42</td>\n",
       "      <td>0.05</td>\n",
       "      <td>2.62</td>\n",
       "      <td>1.69</td>\n",
       "      <td>0.01</td>\n",
       "      <td>36.41</td>\n",
       "      <td>0.00</td>\n",
       "      <td>8.88</td>\n",
       "      <td>1.94</td>\n",
       "      <td>5214.43</td>\n",
       "    </tr>\n",
       "    <tr>\n",
       "      <th>min</th>\n",
       "      <td>1.00</td>\n",
       "      <td>0.00</td>\n",
       "      <td>0.00</td>\n",
       "      <td>-121.93</td>\n",
       "      <td>0.00</td>\n",
       "      <td>1.00</td>\n",
       "      <td>-121.93</td>\n",
       "      <td>0.00</td>\n",
       "      <td>1.00</td>\n",
       "      <td>-957.60</td>\n",
       "      <td>-42.61</td>\n",
       "      <td>-0.50</td>\n",
       "      <td>-220.80</td>\n",
       "      <td>-17.40</td>\n",
       "      <td>-0.30</td>\n",
       "      <td>-958.40</td>\n",
       "      <td>1.00</td>\n",
       "      <td>1.00</td>\n",
       "      <td>0.00</td>\n",
       "      <td>-2637.00</td>\n",
       "    </tr>\n",
       "    <tr>\n",
       "      <th>25%</th>\n",
       "      <td>1.00</td>\n",
       "      <td>1.00</td>\n",
       "      <td>1.00</td>\n",
       "      <td>-73.99</td>\n",
       "      <td>40.74</td>\n",
       "      <td>1.00</td>\n",
       "      <td>-73.99</td>\n",
       "      <td>40.73</td>\n",
       "      <td>1.00</td>\n",
       "      <td>6.50</td>\n",
       "      <td>0.00</td>\n",
       "      <td>0.50</td>\n",
       "      <td>0.00</td>\n",
       "      <td>0.00</td>\n",
       "      <td>0.30</td>\n",
       "      <td>8.30</td>\n",
       "      <td>1.00</td>\n",
       "      <td>9.00</td>\n",
       "      <td>2.00</td>\n",
       "      <td>380.00</td>\n",
       "    </tr>\n",
       "    <tr>\n",
       "      <th>50%</th>\n",
       "      <td>2.00</td>\n",
       "      <td>1.00</td>\n",
       "      <td>1.67</td>\n",
       "      <td>-73.98</td>\n",
       "      <td>40.75</td>\n",
       "      <td>1.00</td>\n",
       "      <td>-73.98</td>\n",
       "      <td>40.75</td>\n",
       "      <td>1.00</td>\n",
       "      <td>9.00</td>\n",
       "      <td>0.00</td>\n",
       "      <td>0.50</td>\n",
       "      <td>1.26</td>\n",
       "      <td>0.00</td>\n",
       "      <td>0.30</td>\n",
       "      <td>11.62</td>\n",
       "      <td>1.00</td>\n",
       "      <td>16.00</td>\n",
       "      <td>3.00</td>\n",
       "      <td>628.00</td>\n",
       "    </tr>\n",
       "    <tr>\n",
       "      <th>75%</th>\n",
       "      <td>2.00</td>\n",
       "      <td>2.00</td>\n",
       "      <td>3.08</td>\n",
       "      <td>-73.97</td>\n",
       "      <td>40.77</td>\n",
       "      <td>1.00</td>\n",
       "      <td>-73.96</td>\n",
       "      <td>40.77</td>\n",
       "      <td>2.00</td>\n",
       "      <td>14.00</td>\n",
       "      <td>0.50</td>\n",
       "      <td>0.50</td>\n",
       "      <td>2.32</td>\n",
       "      <td>0.00</td>\n",
       "      <td>0.30</td>\n",
       "      <td>17.16</td>\n",
       "      <td>1.00</td>\n",
       "      <td>23.00</td>\n",
       "      <td>5.00</td>\n",
       "      <td>1013.00</td>\n",
       "    </tr>\n",
       "    <tr>\n",
       "      <th>max</th>\n",
       "      <td>2.00</td>\n",
       "      <td>9.00</td>\n",
       "      <td>8000010.00</td>\n",
       "      <td>0.00</td>\n",
       "      <td>60.91</td>\n",
       "      <td>99.00</td>\n",
       "      <td>0.00</td>\n",
       "      <td>60.91</td>\n",
       "      <td>5.00</td>\n",
       "      <td>111270.85</td>\n",
       "      <td>648.87</td>\n",
       "      <td>89.70</td>\n",
       "      <td>998.14</td>\n",
       "      <td>980.15</td>\n",
       "      <td>0.30</td>\n",
       "      <td>111271.65</td>\n",
       "      <td>1.00</td>\n",
       "      <td>31.00</td>\n",
       "      <td>6.00</td>\n",
       "      <td>7194762.00</td>\n",
       "    </tr>\n",
       "  </tbody>\n",
       "</table>\n",
       "</div>"
      ],
      "text/plain": [
       "         VendorID  passenger_count  trip_distance  pickup_longitude  \\\n",
       "count 10906858.00      10906858.00    10906858.00       10906858.00   \n",
       "mean         1.54             1.67           4.65            -72.82   \n",
       "std          0.50             1.32        2981.10              9.17   \n",
       "min          1.00             0.00           0.00           -121.93   \n",
       "25%          1.00             1.00           1.00            -73.99   \n",
       "50%          2.00             1.00           1.67            -73.98   \n",
       "75%          2.00             2.00           3.08            -73.97   \n",
       "max          2.00             9.00     8000010.00              0.00   \n",
       "\n",
       "       pickup_latitude  RatecodeID  dropoff_longitude  dropoff_latitude  \\\n",
       "count      10906858.00 10906858.00        10906858.00       10906858.00   \n",
       "mean             40.11        1.04             -72.89             40.15   \n",
       "std               5.05        0.52               8.90              4.90   \n",
       "min               0.00        1.00            -121.93              0.00   \n",
       "25%              40.74        1.00             -73.99             40.73   \n",
       "50%              40.75        1.00             -73.98             40.75   \n",
       "75%              40.77        1.00             -73.96             40.77   \n",
       "max              60.91       99.00               0.00             60.91   \n",
       "\n",
       "       payment_type  fare_amount       extra     mta_tax  tip_amount  \\\n",
       "count   10906858.00  10906858.00 10906858.00 10906858.00 10906858.00   \n",
       "mean           1.35        12.49        0.31        0.50        1.75   \n",
       "std            0.49        35.56        0.42        0.05        2.62   \n",
       "min            1.00      -957.60      -42.61       -0.50     -220.80   \n",
       "25%            1.00         6.50        0.00        0.50        0.00   \n",
       "50%            1.00         9.00        0.00        0.50        1.26   \n",
       "75%            2.00        14.00        0.50        0.50        2.32   \n",
       "max            5.00    111270.85      648.87       89.70      998.14   \n",
       "\n",
       "       tolls_amount  improvement_surcharge  total_amount       month  \\\n",
       "count   10906858.00            10906858.00   10906858.00 10906858.00   \n",
       "mean           0.29                   0.30         15.64        1.00   \n",
       "std            1.69                   0.01         36.41        0.00   \n",
       "min          -17.40                  -0.30       -958.40        1.00   \n",
       "25%            0.00                   0.30          8.30        1.00   \n",
       "50%            0.00                   0.30         11.62        1.00   \n",
       "75%            0.00                   0.30         17.16        1.00   \n",
       "max          980.15                   0.30     111271.65        1.00   \n",
       "\n",
       "              dom         dow    diff_sec  \n",
       "count 10906858.00 10906858.00 10906858.00  \n",
       "mean        15.99        3.16      916.13  \n",
       "std          8.88        1.94     5214.43  \n",
       "min          1.00        0.00    -2637.00  \n",
       "25%          9.00        2.00      380.00  \n",
       "50%         16.00        3.00      628.00  \n",
       "75%         23.00        5.00     1013.00  \n",
       "max         31.00        6.00  7194762.00  "
      ]
     },
     "execution_count": 28,
     "metadata": {},
     "output_type": "execute_result"
    }
   ],
   "source": [
    "yel2019.describe()"
   ]
  },
  {
   "cell_type": "code",
   "execution_count": 54,
   "metadata": {
    "ExecuteTime": {
     "end_time": "2020-01-23T22:05:16.853003Z",
     "start_time": "2020-01-23T22:05:16.763010Z"
    }
   },
   "outputs": [],
   "source": [
    "g = geocoder.google([round(yel2019['pickup_longitude'][0],2), round(yel2019['pickup_latitude'][0],2)], method='reverse')"
   ]
  },
  {
   "cell_type": "code",
   "execution_count": 56,
   "metadata": {
    "ExecuteTime": {
     "end_time": "2020-01-23T22:05:21.349196Z",
     "start_time": "2020-01-23T22:05:21.346472Z"
    }
   },
   "outputs": [
    {
     "name": "stdout",
     "output_type": "stream",
     "text": [
      "None\n"
     ]
    }
   ],
   "source": [
    "print(g.state)"
   ]
  },
  {
   "cell_type": "code",
   "execution_count": 51,
   "metadata": {
    "ExecuteTime": {
     "end_time": "2020-01-23T22:04:56.719989Z",
     "start_time": "2020-01-23T22:04:56.715811Z"
    }
   },
   "outputs": [
    {
     "data": {
      "text/plain": [
       "[-73.9904, 40.7347]"
      ]
     },
     "execution_count": 51,
     "metadata": {},
     "output_type": "execute_result"
    }
   ],
   "source": [
    "[round(yel2019['pickup_longitude'][0],4), round(yel2019['pickup_latitude'][0],4)]"
   ]
  },
  {
   "cell_type": "code",
   "execution_count": 68,
   "metadata": {
    "ExecuteTime": {
     "end_time": "2020-01-23T22:09:34.091089Z",
     "start_time": "2020-01-23T22:09:33.727363Z"
    }
   },
   "outputs": [],
   "source": [
    "from geopy.geocoders import Nominatim\n",
    "geolocator = Nominatim(user_agent=\"specify_your_app_name_here\")\n",
    "location = geolocator.reverse(str(round(yel2019['pickup_longitude'][0],4)) + ', ' + str(round(yel2019['pickup_latitude'][0],4)))"
   ]
  },
  {
   "cell_type": "code",
   "execution_count": 67,
   "metadata": {
    "ExecuteTime": {
     "end_time": "2020-01-23T22:09:26.627124Z",
     "start_time": "2020-01-23T22:09:26.622547Z"
    }
   },
   "outputs": [
    {
     "data": {
      "text/plain": [
       "'-73.9904, 40.7347'"
      ]
     },
     "execution_count": 67,
     "metadata": {},
     "output_type": "execute_result"
    }
   ],
   "source": [
    "str(round(yel2019['pickup_longitude'][0],4)) + ', ' + str(round(yel2019['pickup_latitude'][0],4))"
   ]
  },
  {
   "cell_type": "code",
   "execution_count": 69,
   "metadata": {
    "ExecuteTime": {
     "end_time": "2020-01-23T22:09:35.467821Z",
     "start_time": "2020-01-23T22:09:35.464339Z"
    }
   },
   "outputs": [
    {
     "data": {
      "text/plain": [
       "Location(None, (0.0, 0.0, 0.0))"
      ]
     },
     "execution_count": 69,
     "metadata": {},
     "output_type": "execute_result"
    }
   ],
   "source": [
    "location"
   ]
  },
  {
   "cell_type": "markdown",
   "metadata": {},
   "source": [
    "### Preliminary Data Cleaning"
   ]
  },
  {
   "cell_type": "code",
   "execution_count": null,
   "metadata": {
    "ExecuteTime": {
     "end_time": "2020-01-22T21:57:50.865380Z",
     "start_time": "2020-01-22T21:57:47.739694Z"
    }
   },
   "outputs": [],
   "source": [
    "#Drop some unecesssary columns.\n",
    "taxi_merged = taxi_merged.drop(['VendorID',\n",
    "                                'PULocationID',\n",
    "                                'DOLocationID',\n",
    "                                'clean_pickup_datetime',\n",
    "                                'clean_dropoff_datetime'],axis=1)"
   ]
  },
  {
   "cell_type": "code",
   "execution_count": null,
   "metadata": {
    "ExecuteTime": {
     "end_time": "2020-01-22T21:57:52.502074Z",
     "start_time": "2020-01-22T21:57:50.867367Z"
    }
   },
   "outputs": [],
   "source": [
    "#Convert some columns into factors.\n",
    "factors = ['RatecodeID','payment_type','month','dom','dow']\n",
    "for i in factors:\n",
    "    taxi_merged[i] = taxi_merged[i].astype(object)"
   ]
  },
  {
   "cell_type": "code",
   "execution_count": null,
   "metadata": {
    "ExecuteTime": {
     "end_time": "2020-01-22T21:57:58.523211Z",
     "start_time": "2020-01-22T21:57:52.505883Z"
    }
   },
   "outputs": [],
   "source": [
    "#Check out the numerical columns.\n",
    "pd.options.display.float_format = \"{:.2f}\".format\n",
    "taxi_merged.describe()"
   ]
  },
  {
   "cell_type": "markdown",
   "metadata": {},
   "source": [
    "There are some oddities in this data. Let's do some cleanup."
   ]
  },
  {
   "cell_type": "code",
   "execution_count": null,
   "metadata": {
    "ExecuteTime": {
     "end_time": "2020-01-22T21:58:03.672752Z",
     "start_time": "2020-01-22T21:57:58.524766Z"
    }
   },
   "outputs": [],
   "source": [
    "taxi_merged = taxi_merged[taxi_merged['month']==1]\n",
    "taxi_merged = taxi_merged[taxi_merged['passenger_count']>0]\n",
    "taxi_merged = taxi_merged[taxi_merged['fare_amount']>0]\n",
    "taxi_merged = taxi_merged[taxi_merged['tip_amount']>=0]\n",
    "taxi_merged = taxi_merged[taxi_merged['diff_sec']>0]"
   ]
  },
  {
   "cell_type": "code",
   "execution_count": null,
   "metadata": {
    "ExecuteTime": {
     "end_time": "2020-01-22T21:58:07.431397Z",
     "start_time": "2020-01-22T21:58:03.674449Z"
    }
   },
   "outputs": [],
   "source": [
    "taxi_merged.describe()"
   ]
  },
  {
   "cell_type": "markdown",
   "metadata": {},
   "source": [
    "Looks a lot better except for the extreme outliers. Let's remove all rows that are greater than the 99th percentile."
   ]
  },
  {
   "cell_type": "code",
   "execution_count": null,
   "metadata": {
    "ExecuteTime": {
     "end_time": "2020-01-22T21:58:20.723080Z",
     "start_time": "2020-01-22T21:58:07.434283Z"
    }
   },
   "outputs": [],
   "source": [
    "#This is lazy coding - sorry!\n",
    "numerical_cols = taxi_merged.describe().columns\n",
    "for cols in numerical_cols:\n",
    "    taxi_merged = taxi_merged[taxi_merged[cols]<=taxi_merged[cols].quantile(q=.99)]"
   ]
  },
  {
   "cell_type": "code",
   "execution_count": null,
   "metadata": {
    "ExecuteTime": {
     "end_time": "2020-01-22T21:58:22.017994Z",
     "start_time": "2020-01-22T21:58:20.724598Z"
    }
   },
   "outputs": [],
   "source": [
    "taxi_merged.describe()"
   ]
  },
  {
   "cell_type": "code",
   "execution_count": null,
   "metadata": {
    "ExecuteTime": {
     "end_time": "2020-01-23T20:06:28.203563Z",
     "start_time": "2020-01-23T20:06:26.043902Z"
    }
   },
   "outputs": [],
   "source": [
    "#Any missing values?\n",
    "taxi_merged.isnull().sum()"
   ]
  },
  {
   "cell_type": "markdown",
   "metadata": {},
   "source": [
    "### Preliminary EDA"
   ]
  },
  {
   "cell_type": "markdown",
   "metadata": {},
   "source": [
    "Goal: Propose a metric or algorithm to assess the potential efficiency of aggregating rides \n",
    "from many vehicles into one, given the available data. Make realistic assumptions and any necessary simplifications and state them."
   ]
  },
  {
   "cell_type": "code",
   "execution_count": null,
   "metadata": {
    "ExecuteTime": {
     "end_time": "2020-01-23T20:07:09.396516Z",
     "start_time": "2020-01-23T20:07:09.358388Z"
    }
   },
   "outputs": [],
   "source": [
    "taxi_merged.head(10)"
   ]
  },
  {
   "cell_type": "markdown",
   "metadata": {},
   "source": [
    "One of the first thoughts that comes to mind are single unit passengers who hail a taxi in the same time and same location of another single unit passenger."
   ]
  },
  {
   "cell_type": "code",
   "execution_count": null,
   "metadata": {
    "ExecuteTime": {
     "end_time": "2020-01-22T21:58:22.324967Z",
     "start_time": "2020-01-22T21:58:22.033638Z"
    }
   },
   "outputs": [],
   "source": [
    "#What is the distribution of passenger counts?\n",
    "sb.countplot(taxi_merged['passenger_count'])"
   ]
  },
  {
   "cell_type": "markdown",
   "metadata": {},
   "source": [
    "A majority of taxi rides are single passenger rides."
   ]
  },
  {
   "cell_type": "code",
   "execution_count": null,
   "metadata": {
    "ExecuteTime": {
     "end_time": "2020-01-23T20:11:48.965600Z",
     "start_time": "2020-01-23T20:11:48.810536Z"
    }
   },
   "outputs": [],
   "source": [
    "taxi_merged['DOZone'].nunique()"
   ]
  }
 ],
 "metadata": {
  "kernelspec": {
   "display_name": "Python 3",
   "language": "python",
   "name": "python3"
  },
  "language_info": {
   "codemirror_mode": {
    "name": "ipython",
    "version": 3
   },
   "file_extension": ".py",
   "mimetype": "text/x-python",
   "name": "python",
   "nbconvert_exporter": "python",
   "pygments_lexer": "ipython3",
   "version": "3.7.1"
  }
 },
 "nbformat": 4,
 "nbformat_minor": 2
}
