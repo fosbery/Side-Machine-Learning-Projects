{
 "cells": [
  {
   "cell_type": "code",
   "execution_count": 1,
   "metadata": {
    "ExecuteTime": {
     "end_time": "2020-01-23T21:59:02.242434Z",
     "start_time": "2020-01-23T21:59:01.793838Z"
    }
   },
   "outputs": [],
   "source": [
    "import pandas as pd\n",
    "import seaborn as sb\n",
    "import numpy as np\n",
    "from sklearn.preprocessing import LabelEncoder\n",
    "\n",
    "import geocoder\n",
    "\n",
    "pd.options.display.float_format = \"{:.2f}\".format"
   ]
  },
  {
   "cell_type": "code",
   "execution_count": 2,
   "metadata": {
    "ExecuteTime": {
     "end_time": "2020-01-23T21:37:28.437984Z",
     "start_time": "2020-01-23T21:36:54.395711Z"
    }
   },
   "outputs": [],
   "source": [
    "#yel2019 = pd.read_csv(\"/Users/james.fung/Desktop/test_scripts/via/yellow_tripdata_2016-06.csv\")\n",
    "yel2019 = pd.read_csv(\"/Users/jamesfung/Dropbox/Resumes/Resume/NYC/2020_resume/challenges/via/yellow_tripdata_2016-06.csv\")"
   ]
  },
  {
   "cell_type": "code",
   "execution_count": 3,
   "metadata": {
    "ExecuteTime": {
     "end_time": "2020-01-23T21:37:28.485419Z",
     "start_time": "2020-01-23T21:37:28.440080Z"
    },
    "collapsed": true
   },
   "outputs": [],
   "source": [
    "#zones = pd.read_csv(\"/Users/james.fung/Desktop/test_scripts/via/taxi_zones.csv\")\n",
    "zones = pd.read_csv(\"/Users/jamesfung/Dropbox/Resumes/Resume/NYC/2020_resume/challenges/via/taxi+_zone_lookup.csv\")"
   ]
  },
  {
   "cell_type": "code",
   "execution_count": 5,
   "metadata": {
    "ExecuteTime": {
     "end_time": "2020-01-23T21:37:28.575843Z",
     "start_time": "2020-01-23T21:37:28.488017Z"
    }
   },
   "outputs": [],
   "source": [
    "#boros = pd.read_csv(\"/Users/james.fung/Downloads/nybb (1).csv\")\n",
    "boros = pd.read_csv(\"/Users/jamesfung/Dropbox/Resumes/Resume/NYC/2020_resume/challenges/via/nybb.csv\")"
   ]
  },
  {
   "cell_type": "code",
   "execution_count": 64,
   "metadata": {
    "collapsed": true
   },
   "outputs": [],
   "source": [
    "centroids = pd.read_csv(\"/Users/jamesfung/Dropbox/Resumes/Resume/NYC/2020_resume/challenges/via/NHoodNameCentroids.csv\")"
   ]
  },
  {
   "cell_type": "code",
   "execution_count": 6,
   "metadata": {
    "ExecuteTime": {
     "end_time": "2020-01-23T21:51:23.305980Z",
     "start_time": "2020-01-23T21:51:23.286071Z"
    }
   },
   "outputs": [
    {
     "data": {
      "text/html": [
       "<div>\n",
       "<style scoped>\n",
       "    .dataframe tbody tr th:only-of-type {\n",
       "        vertical-align: middle;\n",
       "    }\n",
       "\n",
       "    .dataframe tbody tr th {\n",
       "        vertical-align: top;\n",
       "    }\n",
       "\n",
       "    .dataframe thead th {\n",
       "        text-align: right;\n",
       "    }\n",
       "</style>\n",
       "<table border=\"1\" class=\"dataframe\">\n",
       "  <thead>\n",
       "    <tr style=\"text-align: right;\">\n",
       "      <th></th>\n",
       "      <th>VendorID</th>\n",
       "      <th>tpep_pickup_datetime</th>\n",
       "      <th>tpep_dropoff_datetime</th>\n",
       "      <th>passenger_count</th>\n",
       "      <th>trip_distance</th>\n",
       "      <th>pickup_longitude</th>\n",
       "      <th>pickup_latitude</th>\n",
       "      <th>RatecodeID</th>\n",
       "      <th>store_and_fwd_flag</th>\n",
       "      <th>dropoff_longitude</th>\n",
       "      <th>dropoff_latitude</th>\n",
       "      <th>payment_type</th>\n",
       "      <th>fare_amount</th>\n",
       "      <th>extra</th>\n",
       "      <th>mta_tax</th>\n",
       "      <th>tip_amount</th>\n",
       "      <th>tolls_amount</th>\n",
       "      <th>improvement_surcharge</th>\n",
       "      <th>total_amount</th>\n",
       "    </tr>\n",
       "  </thead>\n",
       "  <tbody>\n",
       "    <tr>\n",
       "      <th>0</th>\n",
       "      <td>2</td>\n",
       "      <td>2016-06-09 21:06:36</td>\n",
       "      <td>2016-06-09 21:13:08</td>\n",
       "      <td>2</td>\n",
       "      <td>0.79</td>\n",
       "      <td>-73.98</td>\n",
       "      <td>40.76</td>\n",
       "      <td>1</td>\n",
       "      <td>N</td>\n",
       "      <td>-73.98</td>\n",
       "      <td>40.75</td>\n",
       "      <td>2</td>\n",
       "      <td>6.00</td>\n",
       "      <td>0.50</td>\n",
       "      <td>0.50</td>\n",
       "      <td>0.00</td>\n",
       "      <td>0.00</td>\n",
       "      <td>0.30</td>\n",
       "      <td>7.30</td>\n",
       "    </tr>\n",
       "    <tr>\n",
       "      <th>1</th>\n",
       "      <td>2</td>\n",
       "      <td>2016-06-09 21:06:36</td>\n",
       "      <td>2016-06-09 21:35:11</td>\n",
       "      <td>1</td>\n",
       "      <td>5.22</td>\n",
       "      <td>-73.98</td>\n",
       "      <td>40.74</td>\n",
       "      <td>1</td>\n",
       "      <td>N</td>\n",
       "      <td>-73.98</td>\n",
       "      <td>40.67</td>\n",
       "      <td>1</td>\n",
       "      <td>22.00</td>\n",
       "      <td>0.50</td>\n",
       "      <td>0.50</td>\n",
       "      <td>4.00</td>\n",
       "      <td>0.00</td>\n",
       "      <td>0.30</td>\n",
       "      <td>27.30</td>\n",
       "    </tr>\n",
       "    <tr>\n",
       "      <th>2</th>\n",
       "      <td>2</td>\n",
       "      <td>2016-06-09 21:06:36</td>\n",
       "      <td>2016-06-09 21:13:10</td>\n",
       "      <td>1</td>\n",
       "      <td>1.26</td>\n",
       "      <td>-73.99</td>\n",
       "      <td>40.75</td>\n",
       "      <td>1</td>\n",
       "      <td>N</td>\n",
       "      <td>-74.00</td>\n",
       "      <td>40.74</td>\n",
       "      <td>1</td>\n",
       "      <td>6.50</td>\n",
       "      <td>0.50</td>\n",
       "      <td>0.50</td>\n",
       "      <td>1.56</td>\n",
       "      <td>0.00</td>\n",
       "      <td>0.30</td>\n",
       "      <td>9.36</td>\n",
       "    </tr>\n",
       "    <tr>\n",
       "      <th>3</th>\n",
       "      <td>2</td>\n",
       "      <td>2016-06-09 21:06:36</td>\n",
       "      <td>2016-06-09 21:36:10</td>\n",
       "      <td>1</td>\n",
       "      <td>7.39</td>\n",
       "      <td>-73.98</td>\n",
       "      <td>40.77</td>\n",
       "      <td>1</td>\n",
       "      <td>N</td>\n",
       "      <td>-73.93</td>\n",
       "      <td>40.85</td>\n",
       "      <td>1</td>\n",
       "      <td>26.00</td>\n",
       "      <td>0.50</td>\n",
       "      <td>0.50</td>\n",
       "      <td>1.00</td>\n",
       "      <td>0.00</td>\n",
       "      <td>0.30</td>\n",
       "      <td>28.30</td>\n",
       "    </tr>\n",
       "    <tr>\n",
       "      <th>4</th>\n",
       "      <td>2</td>\n",
       "      <td>2016-06-09 21:06:36</td>\n",
       "      <td>2016-06-09 21:23:23</td>\n",
       "      <td>1</td>\n",
       "      <td>3.10</td>\n",
       "      <td>-73.99</td>\n",
       "      <td>40.73</td>\n",
       "      <td>1</td>\n",
       "      <td>N</td>\n",
       "      <td>-73.99</td>\n",
       "      <td>40.77</td>\n",
       "      <td>1</td>\n",
       "      <td>13.50</td>\n",
       "      <td>0.50</td>\n",
       "      <td>0.50</td>\n",
       "      <td>2.96</td>\n",
       "      <td>0.00</td>\n",
       "      <td>0.30</td>\n",
       "      <td>17.76</td>\n",
       "    </tr>\n",
       "    <tr>\n",
       "      <th>5</th>\n",
       "      <td>2</td>\n",
       "      <td>2016-06-09 21:06:36</td>\n",
       "      <td>2016-06-09 21:19:21</td>\n",
       "      <td>1</td>\n",
       "      <td>2.17</td>\n",
       "      <td>-74.00</td>\n",
       "      <td>40.74</td>\n",
       "      <td>1</td>\n",
       "      <td>N</td>\n",
       "      <td>-73.99</td>\n",
       "      <td>40.76</td>\n",
       "      <td>1</td>\n",
       "      <td>10.50</td>\n",
       "      <td>0.50</td>\n",
       "      <td>0.50</td>\n",
       "      <td>2.36</td>\n",
       "      <td>0.00</td>\n",
       "      <td>0.30</td>\n",
       "      <td>14.16</td>\n",
       "    </tr>\n",
       "    <tr>\n",
       "      <th>6</th>\n",
       "      <td>2</td>\n",
       "      <td>2016-06-09 21:06:36</td>\n",
       "      <td>2016-06-09 21:30:13</td>\n",
       "      <td>5</td>\n",
       "      <td>6.02</td>\n",
       "      <td>-73.98</td>\n",
       "      <td>40.74</td>\n",
       "      <td>1</td>\n",
       "      <td>N</td>\n",
       "      <td>-73.90</td>\n",
       "      <td>40.75</td>\n",
       "      <td>2</td>\n",
       "      <td>21.50</td>\n",
       "      <td>0.50</td>\n",
       "      <td>0.50</td>\n",
       "      <td>0.00</td>\n",
       "      <td>0.00</td>\n",
       "      <td>0.30</td>\n",
       "      <td>22.80</td>\n",
       "    </tr>\n",
       "    <tr>\n",
       "      <th>7</th>\n",
       "      <td>1</td>\n",
       "      <td>2016-06-09 21:06:37</td>\n",
       "      <td>2016-06-09 21:16:47</td>\n",
       "      <td>1</td>\n",
       "      <td>1.40</td>\n",
       "      <td>-73.99</td>\n",
       "      <td>40.75</td>\n",
       "      <td>1</td>\n",
       "      <td>N</td>\n",
       "      <td>-73.98</td>\n",
       "      <td>40.76</td>\n",
       "      <td>1</td>\n",
       "      <td>8.50</td>\n",
       "      <td>0.50</td>\n",
       "      <td>0.50</td>\n",
       "      <td>1.95</td>\n",
       "      <td>0.00</td>\n",
       "      <td>0.30</td>\n",
       "      <td>11.75</td>\n",
       "    </tr>\n",
       "    <tr>\n",
       "      <th>8</th>\n",
       "      <td>1</td>\n",
       "      <td>2016-06-09 21:06:37</td>\n",
       "      <td>2016-06-09 21:15:44</td>\n",
       "      <td>1</td>\n",
       "      <td>1.20</td>\n",
       "      <td>-73.98</td>\n",
       "      <td>40.78</td>\n",
       "      <td>1</td>\n",
       "      <td>N</td>\n",
       "      <td>-73.97</td>\n",
       "      <td>40.77</td>\n",
       "      <td>2</td>\n",
       "      <td>8.00</td>\n",
       "      <td>0.50</td>\n",
       "      <td>0.50</td>\n",
       "      <td>0.00</td>\n",
       "      <td>0.00</td>\n",
       "      <td>0.30</td>\n",
       "      <td>9.30</td>\n",
       "    </tr>\n",
       "    <tr>\n",
       "      <th>9</th>\n",
       "      <td>1</td>\n",
       "      <td>2016-06-09 21:06:37</td>\n",
       "      <td>2016-06-09 21:23:57</td>\n",
       "      <td>2</td>\n",
       "      <td>1.90</td>\n",
       "      <td>-73.98</td>\n",
       "      <td>40.75</td>\n",
       "      <td>1</td>\n",
       "      <td>N</td>\n",
       "      <td>-73.99</td>\n",
       "      <td>40.75</td>\n",
       "      <td>1</td>\n",
       "      <td>12.00</td>\n",
       "      <td>0.50</td>\n",
       "      <td>0.50</td>\n",
       "      <td>3.33</td>\n",
       "      <td>0.00</td>\n",
       "      <td>0.30</td>\n",
       "      <td>16.63</td>\n",
       "    </tr>\n",
       "  </tbody>\n",
       "</table>\n",
       "</div>"
      ],
      "text/plain": [
       "   VendorID tpep_pickup_datetime tpep_dropoff_datetime  passenger_count  \\\n",
       "0         2  2016-06-09 21:06:36   2016-06-09 21:13:08                2   \n",
       "1         2  2016-06-09 21:06:36   2016-06-09 21:35:11                1   \n",
       "2         2  2016-06-09 21:06:36   2016-06-09 21:13:10                1   \n",
       "3         2  2016-06-09 21:06:36   2016-06-09 21:36:10                1   \n",
       "4         2  2016-06-09 21:06:36   2016-06-09 21:23:23                1   \n",
       "5         2  2016-06-09 21:06:36   2016-06-09 21:19:21                1   \n",
       "6         2  2016-06-09 21:06:36   2016-06-09 21:30:13                5   \n",
       "7         1  2016-06-09 21:06:37   2016-06-09 21:16:47                1   \n",
       "8         1  2016-06-09 21:06:37   2016-06-09 21:15:44                1   \n",
       "9         1  2016-06-09 21:06:37   2016-06-09 21:23:57                2   \n",
       "\n",
       "   trip_distance  pickup_longitude  pickup_latitude  RatecodeID  \\\n",
       "0           0.79            -73.98            40.76           1   \n",
       "1           5.22            -73.98            40.74           1   \n",
       "2           1.26            -73.99            40.75           1   \n",
       "3           7.39            -73.98            40.77           1   \n",
       "4           3.10            -73.99            40.73           1   \n",
       "5           2.17            -74.00            40.74           1   \n",
       "6           6.02            -73.98            40.74           1   \n",
       "7           1.40            -73.99            40.75           1   \n",
       "8           1.20            -73.98            40.78           1   \n",
       "9           1.90            -73.98            40.75           1   \n",
       "\n",
       "  store_and_fwd_flag  dropoff_longitude  dropoff_latitude  payment_type  \\\n",
       "0                  N             -73.98             40.75             2   \n",
       "1                  N             -73.98             40.67             1   \n",
       "2                  N             -74.00             40.74             1   \n",
       "3                  N             -73.93             40.85             1   \n",
       "4                  N             -73.99             40.77             1   \n",
       "5                  N             -73.99             40.76             1   \n",
       "6                  N             -73.90             40.75             2   \n",
       "7                  N             -73.98             40.76             1   \n",
       "8                  N             -73.97             40.77             2   \n",
       "9                  N             -73.99             40.75             1   \n",
       "\n",
       "   fare_amount  extra  mta_tax  tip_amount  tolls_amount  \\\n",
       "0         6.00   0.50     0.50        0.00          0.00   \n",
       "1        22.00   0.50     0.50        4.00          0.00   \n",
       "2         6.50   0.50     0.50        1.56          0.00   \n",
       "3        26.00   0.50     0.50        1.00          0.00   \n",
       "4        13.50   0.50     0.50        2.96          0.00   \n",
       "5        10.50   0.50     0.50        2.36          0.00   \n",
       "6        21.50   0.50     0.50        0.00          0.00   \n",
       "7         8.50   0.50     0.50        1.95          0.00   \n",
       "8         8.00   0.50     0.50        0.00          0.00   \n",
       "9        12.00   0.50     0.50        3.33          0.00   \n",
       "\n",
       "   improvement_surcharge  total_amount  \n",
       "0                   0.30          7.30  \n",
       "1                   0.30         27.30  \n",
       "2                   0.30          9.36  \n",
       "3                   0.30         28.30  \n",
       "4                   0.30         17.76  \n",
       "5                   0.30         14.16  \n",
       "6                   0.30         22.80  \n",
       "7                   0.30         11.75  \n",
       "8                   0.30          9.30  \n",
       "9                   0.30         16.63  "
      ]
     },
     "execution_count": 6,
     "metadata": {},
     "output_type": "execute_result"
    }
   ],
   "source": [
    "yel2019.head(10)"
   ]
  },
  {
   "cell_type": "code",
   "execution_count": 7,
   "metadata": {
    "ExecuteTime": {
     "end_time": "2020-01-23T21:51:24.002827Z",
     "start_time": "2020-01-23T21:51:23.997025Z"
    }
   },
   "outputs": [
    {
     "name": "stdout",
     "output_type": "stream",
     "text": [
      "<class 'pandas.core.frame.DataFrame'>\n",
      "RangeIndex: 11135470 entries, 0 to 11135469\n",
      "Data columns (total 19 columns):\n",
      "VendorID                 int64\n",
      "tpep_pickup_datetime     object\n",
      "tpep_dropoff_datetime    object\n",
      "passenger_count          int64\n",
      "trip_distance            float64\n",
      "pickup_longitude         float64\n",
      "pickup_latitude          float64\n",
      "RatecodeID               int64\n",
      "store_and_fwd_flag       object\n",
      "dropoff_longitude        float64\n",
      "dropoff_latitude         float64\n",
      "payment_type             int64\n",
      "fare_amount              float64\n",
      "extra                    float64\n",
      "mta_tax                  float64\n",
      "tip_amount               float64\n",
      "tolls_amount             float64\n",
      "improvement_surcharge    float64\n",
      "total_amount             float64\n",
      "dtypes: float64(12), int64(4), object(3)\n",
      "memory usage: 1.6+ GB\n"
     ]
    }
   ],
   "source": [
    "yel2019.info()"
   ]
  },
  {
   "cell_type": "markdown",
   "metadata": {},
   "source": [
    "### Preliminary Feature Extraction"
   ]
  },
  {
   "cell_type": "markdown",
   "metadata": {},
   "source": [
    "Let's first extract some useful information from tpep_pickup_datetime. Things such as day of the week, day of month, month, and trip duration."
   ]
  },
  {
   "cell_type": "code",
   "execution_count": 8,
   "metadata": {
    "ExecuteTime": {
     "end_time": "2020-01-23T21:51:30.407879Z",
     "start_time": "2020-01-23T21:51:27.150167Z"
    }
   },
   "outputs": [],
   "source": [
    "#Create a column for the clean date.\n",
    "yel2019['clean_pickup_datetime'] = pd.to_datetime(yel2019['tpep_pickup_datetime'], format= '%Y-%m-%d %H:%M:%S')\n",
    "yel2019['clean_dropoff_datetime'] = pd.to_datetime(yel2019['tpep_dropoff_datetime'], format= '%Y-%m-%d %H:%M:%S')"
   ]
  },
  {
   "cell_type": "code",
   "execution_count": 9,
   "metadata": {
    "ExecuteTime": {
     "end_time": "2020-01-23T21:51:31.568500Z",
     "start_time": "2020-01-23T21:51:30.410036Z"
    },
    "collapsed": true
   },
   "outputs": [],
   "source": [
    "#Extract day of the week, day of month, and month.\n",
    "pickup = yel2019['clean_pickup_datetime']\n",
    "dropoff = yel2019['clean_dropoff_datetime']\n",
    "yel2019['month'] = pickup.dt.month\n",
    "yel2019['dom'] = pickup.dt.day\n",
    "yel2019['dow'] = pickup.dt.dayofweek"
   ]
  },
  {
   "cell_type": "code",
   "execution_count": 10,
   "metadata": {
    "ExecuteTime": {
     "end_time": "2020-01-23T21:51:31.753677Z",
     "start_time": "2020-01-23T21:51:31.570881Z"
    },
    "collapsed": true
   },
   "outputs": [],
   "source": [
    "#Extract the duration of the trip.\n",
    "yel2019['diff_sec'] = (dropoff-pickup)/np.timedelta64(1,'s')"
   ]
  },
  {
   "cell_type": "code",
   "execution_count": 11,
   "metadata": {
    "ExecuteTime": {
     "end_time": "2020-01-23T21:51:36.448796Z",
     "start_time": "2020-01-23T21:51:31.756096Z"
    },
    "collapsed": true
   },
   "outputs": [],
   "source": [
    "#Drop the unecessary columns.\n",
    "yel2019 = yel2019.drop(['tpep_pickup_datetime','tpep_dropoff_datetime'],axis=1)"
   ]
  },
  {
   "cell_type": "code",
   "execution_count": 12,
   "metadata": {
    "ExecuteTime": {
     "end_time": "2020-01-23T21:51:36.475990Z",
     "start_time": "2020-01-23T21:51:36.450750Z"
    }
   },
   "outputs": [
    {
     "data": {
      "text/html": [
       "<div>\n",
       "<style scoped>\n",
       "    .dataframe tbody tr th:only-of-type {\n",
       "        vertical-align: middle;\n",
       "    }\n",
       "\n",
       "    .dataframe tbody tr th {\n",
       "        vertical-align: top;\n",
       "    }\n",
       "\n",
       "    .dataframe thead th {\n",
       "        text-align: right;\n",
       "    }\n",
       "</style>\n",
       "<table border=\"1\" class=\"dataframe\">\n",
       "  <thead>\n",
       "    <tr style=\"text-align: right;\">\n",
       "      <th></th>\n",
       "      <th>VendorID</th>\n",
       "      <th>passenger_count</th>\n",
       "      <th>trip_distance</th>\n",
       "      <th>pickup_longitude</th>\n",
       "      <th>pickup_latitude</th>\n",
       "      <th>RatecodeID</th>\n",
       "      <th>store_and_fwd_flag</th>\n",
       "      <th>dropoff_longitude</th>\n",
       "      <th>dropoff_latitude</th>\n",
       "      <th>payment_type</th>\n",
       "      <th>...</th>\n",
       "      <th>tip_amount</th>\n",
       "      <th>tolls_amount</th>\n",
       "      <th>improvement_surcharge</th>\n",
       "      <th>total_amount</th>\n",
       "      <th>clean_pickup_datetime</th>\n",
       "      <th>clean_dropoff_datetime</th>\n",
       "      <th>month</th>\n",
       "      <th>dom</th>\n",
       "      <th>dow</th>\n",
       "      <th>diff_sec</th>\n",
       "    </tr>\n",
       "  </thead>\n",
       "  <tbody>\n",
       "    <tr>\n",
       "      <th>0</th>\n",
       "      <td>2</td>\n",
       "      <td>2</td>\n",
       "      <td>0.79</td>\n",
       "      <td>-73.98</td>\n",
       "      <td>40.76</td>\n",
       "      <td>1</td>\n",
       "      <td>N</td>\n",
       "      <td>-73.98</td>\n",
       "      <td>40.75</td>\n",
       "      <td>2</td>\n",
       "      <td>...</td>\n",
       "      <td>0.00</td>\n",
       "      <td>0.00</td>\n",
       "      <td>0.30</td>\n",
       "      <td>7.30</td>\n",
       "      <td>2016-06-09 21:06:36</td>\n",
       "      <td>2016-06-09 21:13:08</td>\n",
       "      <td>6</td>\n",
       "      <td>9</td>\n",
       "      <td>3</td>\n",
       "      <td>392.00</td>\n",
       "    </tr>\n",
       "    <tr>\n",
       "      <th>1</th>\n",
       "      <td>2</td>\n",
       "      <td>1</td>\n",
       "      <td>5.22</td>\n",
       "      <td>-73.98</td>\n",
       "      <td>40.74</td>\n",
       "      <td>1</td>\n",
       "      <td>N</td>\n",
       "      <td>-73.98</td>\n",
       "      <td>40.67</td>\n",
       "      <td>1</td>\n",
       "      <td>...</td>\n",
       "      <td>4.00</td>\n",
       "      <td>0.00</td>\n",
       "      <td>0.30</td>\n",
       "      <td>27.30</td>\n",
       "      <td>2016-06-09 21:06:36</td>\n",
       "      <td>2016-06-09 21:35:11</td>\n",
       "      <td>6</td>\n",
       "      <td>9</td>\n",
       "      <td>3</td>\n",
       "      <td>1715.00</td>\n",
       "    </tr>\n",
       "    <tr>\n",
       "      <th>2</th>\n",
       "      <td>2</td>\n",
       "      <td>1</td>\n",
       "      <td>1.26</td>\n",
       "      <td>-73.99</td>\n",
       "      <td>40.75</td>\n",
       "      <td>1</td>\n",
       "      <td>N</td>\n",
       "      <td>-74.00</td>\n",
       "      <td>40.74</td>\n",
       "      <td>1</td>\n",
       "      <td>...</td>\n",
       "      <td>1.56</td>\n",
       "      <td>0.00</td>\n",
       "      <td>0.30</td>\n",
       "      <td>9.36</td>\n",
       "      <td>2016-06-09 21:06:36</td>\n",
       "      <td>2016-06-09 21:13:10</td>\n",
       "      <td>6</td>\n",
       "      <td>9</td>\n",
       "      <td>3</td>\n",
       "      <td>394.00</td>\n",
       "    </tr>\n",
       "    <tr>\n",
       "      <th>3</th>\n",
       "      <td>2</td>\n",
       "      <td>1</td>\n",
       "      <td>7.39</td>\n",
       "      <td>-73.98</td>\n",
       "      <td>40.77</td>\n",
       "      <td>1</td>\n",
       "      <td>N</td>\n",
       "      <td>-73.93</td>\n",
       "      <td>40.85</td>\n",
       "      <td>1</td>\n",
       "      <td>...</td>\n",
       "      <td>1.00</td>\n",
       "      <td>0.00</td>\n",
       "      <td>0.30</td>\n",
       "      <td>28.30</td>\n",
       "      <td>2016-06-09 21:06:36</td>\n",
       "      <td>2016-06-09 21:36:10</td>\n",
       "      <td>6</td>\n",
       "      <td>9</td>\n",
       "      <td>3</td>\n",
       "      <td>1774.00</td>\n",
       "    </tr>\n",
       "    <tr>\n",
       "      <th>4</th>\n",
       "      <td>2</td>\n",
       "      <td>1</td>\n",
       "      <td>3.10</td>\n",
       "      <td>-73.99</td>\n",
       "      <td>40.73</td>\n",
       "      <td>1</td>\n",
       "      <td>N</td>\n",
       "      <td>-73.99</td>\n",
       "      <td>40.77</td>\n",
       "      <td>1</td>\n",
       "      <td>...</td>\n",
       "      <td>2.96</td>\n",
       "      <td>0.00</td>\n",
       "      <td>0.30</td>\n",
       "      <td>17.76</td>\n",
       "      <td>2016-06-09 21:06:36</td>\n",
       "      <td>2016-06-09 21:23:23</td>\n",
       "      <td>6</td>\n",
       "      <td>9</td>\n",
       "      <td>3</td>\n",
       "      <td>1007.00</td>\n",
       "    </tr>\n",
       "    <tr>\n",
       "      <th>5</th>\n",
       "      <td>2</td>\n",
       "      <td>1</td>\n",
       "      <td>2.17</td>\n",
       "      <td>-74.00</td>\n",
       "      <td>40.74</td>\n",
       "      <td>1</td>\n",
       "      <td>N</td>\n",
       "      <td>-73.99</td>\n",
       "      <td>40.76</td>\n",
       "      <td>1</td>\n",
       "      <td>...</td>\n",
       "      <td>2.36</td>\n",
       "      <td>0.00</td>\n",
       "      <td>0.30</td>\n",
       "      <td>14.16</td>\n",
       "      <td>2016-06-09 21:06:36</td>\n",
       "      <td>2016-06-09 21:19:21</td>\n",
       "      <td>6</td>\n",
       "      <td>9</td>\n",
       "      <td>3</td>\n",
       "      <td>765.00</td>\n",
       "    </tr>\n",
       "    <tr>\n",
       "      <th>6</th>\n",
       "      <td>2</td>\n",
       "      <td>5</td>\n",
       "      <td>6.02</td>\n",
       "      <td>-73.98</td>\n",
       "      <td>40.74</td>\n",
       "      <td>1</td>\n",
       "      <td>N</td>\n",
       "      <td>-73.90</td>\n",
       "      <td>40.75</td>\n",
       "      <td>2</td>\n",
       "      <td>...</td>\n",
       "      <td>0.00</td>\n",
       "      <td>0.00</td>\n",
       "      <td>0.30</td>\n",
       "      <td>22.80</td>\n",
       "      <td>2016-06-09 21:06:36</td>\n",
       "      <td>2016-06-09 21:30:13</td>\n",
       "      <td>6</td>\n",
       "      <td>9</td>\n",
       "      <td>3</td>\n",
       "      <td>1417.00</td>\n",
       "    </tr>\n",
       "    <tr>\n",
       "      <th>7</th>\n",
       "      <td>1</td>\n",
       "      <td>1</td>\n",
       "      <td>1.40</td>\n",
       "      <td>-73.99</td>\n",
       "      <td>40.75</td>\n",
       "      <td>1</td>\n",
       "      <td>N</td>\n",
       "      <td>-73.98</td>\n",
       "      <td>40.76</td>\n",
       "      <td>1</td>\n",
       "      <td>...</td>\n",
       "      <td>1.95</td>\n",
       "      <td>0.00</td>\n",
       "      <td>0.30</td>\n",
       "      <td>11.75</td>\n",
       "      <td>2016-06-09 21:06:37</td>\n",
       "      <td>2016-06-09 21:16:47</td>\n",
       "      <td>6</td>\n",
       "      <td>9</td>\n",
       "      <td>3</td>\n",
       "      <td>610.00</td>\n",
       "    </tr>\n",
       "    <tr>\n",
       "      <th>8</th>\n",
       "      <td>1</td>\n",
       "      <td>1</td>\n",
       "      <td>1.20</td>\n",
       "      <td>-73.98</td>\n",
       "      <td>40.78</td>\n",
       "      <td>1</td>\n",
       "      <td>N</td>\n",
       "      <td>-73.97</td>\n",
       "      <td>40.77</td>\n",
       "      <td>2</td>\n",
       "      <td>...</td>\n",
       "      <td>0.00</td>\n",
       "      <td>0.00</td>\n",
       "      <td>0.30</td>\n",
       "      <td>9.30</td>\n",
       "      <td>2016-06-09 21:06:37</td>\n",
       "      <td>2016-06-09 21:15:44</td>\n",
       "      <td>6</td>\n",
       "      <td>9</td>\n",
       "      <td>3</td>\n",
       "      <td>547.00</td>\n",
       "    </tr>\n",
       "    <tr>\n",
       "      <th>9</th>\n",
       "      <td>1</td>\n",
       "      <td>2</td>\n",
       "      <td>1.90</td>\n",
       "      <td>-73.98</td>\n",
       "      <td>40.75</td>\n",
       "      <td>1</td>\n",
       "      <td>N</td>\n",
       "      <td>-73.99</td>\n",
       "      <td>40.75</td>\n",
       "      <td>1</td>\n",
       "      <td>...</td>\n",
       "      <td>3.33</td>\n",
       "      <td>0.00</td>\n",
       "      <td>0.30</td>\n",
       "      <td>16.63</td>\n",
       "      <td>2016-06-09 21:06:37</td>\n",
       "      <td>2016-06-09 21:23:57</td>\n",
       "      <td>6</td>\n",
       "      <td>9</td>\n",
       "      <td>3</td>\n",
       "      <td>1040.00</td>\n",
       "    </tr>\n",
       "  </tbody>\n",
       "</table>\n",
       "<p>10 rows × 23 columns</p>\n",
       "</div>"
      ],
      "text/plain": [
       "   VendorID  passenger_count  trip_distance  pickup_longitude  \\\n",
       "0         2                2           0.79            -73.98   \n",
       "1         2                1           5.22            -73.98   \n",
       "2         2                1           1.26            -73.99   \n",
       "3         2                1           7.39            -73.98   \n",
       "4         2                1           3.10            -73.99   \n",
       "5         2                1           2.17            -74.00   \n",
       "6         2                5           6.02            -73.98   \n",
       "7         1                1           1.40            -73.99   \n",
       "8         1                1           1.20            -73.98   \n",
       "9         1                2           1.90            -73.98   \n",
       "\n",
       "   pickup_latitude  RatecodeID store_and_fwd_flag  dropoff_longitude  \\\n",
       "0            40.76           1                  N             -73.98   \n",
       "1            40.74           1                  N             -73.98   \n",
       "2            40.75           1                  N             -74.00   \n",
       "3            40.77           1                  N             -73.93   \n",
       "4            40.73           1                  N             -73.99   \n",
       "5            40.74           1                  N             -73.99   \n",
       "6            40.74           1                  N             -73.90   \n",
       "7            40.75           1                  N             -73.98   \n",
       "8            40.78           1                  N             -73.97   \n",
       "9            40.75           1                  N             -73.99   \n",
       "\n",
       "   dropoff_latitude  payment_type  ...  tip_amount  tolls_amount  \\\n",
       "0             40.75             2  ...        0.00          0.00   \n",
       "1             40.67             1  ...        4.00          0.00   \n",
       "2             40.74             1  ...        1.56          0.00   \n",
       "3             40.85             1  ...        1.00          0.00   \n",
       "4             40.77             1  ...        2.96          0.00   \n",
       "5             40.76             1  ...        2.36          0.00   \n",
       "6             40.75             2  ...        0.00          0.00   \n",
       "7             40.76             1  ...        1.95          0.00   \n",
       "8             40.77             2  ...        0.00          0.00   \n",
       "9             40.75             1  ...        3.33          0.00   \n",
       "\n",
       "   improvement_surcharge  total_amount  clean_pickup_datetime  \\\n",
       "0                   0.30          7.30    2016-06-09 21:06:36   \n",
       "1                   0.30         27.30    2016-06-09 21:06:36   \n",
       "2                   0.30          9.36    2016-06-09 21:06:36   \n",
       "3                   0.30         28.30    2016-06-09 21:06:36   \n",
       "4                   0.30         17.76    2016-06-09 21:06:36   \n",
       "5                   0.30         14.16    2016-06-09 21:06:36   \n",
       "6                   0.30         22.80    2016-06-09 21:06:36   \n",
       "7                   0.30         11.75    2016-06-09 21:06:37   \n",
       "8                   0.30          9.30    2016-06-09 21:06:37   \n",
       "9                   0.30         16.63    2016-06-09 21:06:37   \n",
       "\n",
       "   clean_dropoff_datetime  month dom dow  diff_sec  \n",
       "0     2016-06-09 21:13:08      6   9   3    392.00  \n",
       "1     2016-06-09 21:35:11      6   9   3   1715.00  \n",
       "2     2016-06-09 21:13:10      6   9   3    394.00  \n",
       "3     2016-06-09 21:36:10      6   9   3   1774.00  \n",
       "4     2016-06-09 21:23:23      6   9   3   1007.00  \n",
       "5     2016-06-09 21:19:21      6   9   3    765.00  \n",
       "6     2016-06-09 21:30:13      6   9   3   1417.00  \n",
       "7     2016-06-09 21:16:47      6   9   3    610.00  \n",
       "8     2016-06-09 21:15:44      6   9   3    547.00  \n",
       "9     2016-06-09 21:23:57      6   9   3   1040.00  \n",
       "\n",
       "[10 rows x 23 columns]"
      ]
     },
     "execution_count": 12,
     "metadata": {},
     "output_type": "execute_result"
    }
   ],
   "source": [
    "yel2019.head(10)"
   ]
  },
  {
   "cell_type": "markdown",
   "metadata": {},
   "source": [
    "### Converting Lat/Long Into Meaningful Features"
   ]
  },
  {
   "cell_type": "code",
   "execution_count": 29,
   "metadata": {
    "ExecuteTime": {
     "end_time": "2020-01-23T21:56:51.819816Z",
     "start_time": "2020-01-23T21:56:41.856108Z"
    }
   },
   "outputs": [],
   "source": [
    "locations = yel2019[['pickup_longitude','pickup_latitude','dropoff_longitude','dropoff_latitude',]]"
   ]
  },
  {
   "cell_type": "code",
   "execution_count": 30,
   "metadata": {},
   "outputs": [
    {
     "data": {
      "text/html": [
       "<div>\n",
       "<style scoped>\n",
       "    .dataframe tbody tr th:only-of-type {\n",
       "        vertical-align: middle;\n",
       "    }\n",
       "\n",
       "    .dataframe tbody tr th {\n",
       "        vertical-align: top;\n",
       "    }\n",
       "\n",
       "    .dataframe thead th {\n",
       "        text-align: right;\n",
       "    }\n",
       "</style>\n",
       "<table border=\"1\" class=\"dataframe\">\n",
       "  <thead>\n",
       "    <tr style=\"text-align: right;\">\n",
       "      <th></th>\n",
       "      <th>pickup_longitude</th>\n",
       "      <th>pickup_latitude</th>\n",
       "      <th>dropoff_longitude</th>\n",
       "      <th>dropoff_latitude</th>\n",
       "    </tr>\n",
       "  </thead>\n",
       "  <tbody>\n",
       "    <tr>\n",
       "      <th>count</th>\n",
       "      <td>11135470.00</td>\n",
       "      <td>11135470.00</td>\n",
       "      <td>11135470.00</td>\n",
       "      <td>11135470.00</td>\n",
       "    </tr>\n",
       "    <tr>\n",
       "      <th>mean</th>\n",
       "      <td>-73.05</td>\n",
       "      <td>40.24</td>\n",
       "      <td>-73.12</td>\n",
       "      <td>40.28</td>\n",
       "    </tr>\n",
       "    <tr>\n",
       "      <th>std</th>\n",
       "      <td>8.21</td>\n",
       "      <td>4.52</td>\n",
       "      <td>7.88</td>\n",
       "      <td>4.34</td>\n",
       "    </tr>\n",
       "    <tr>\n",
       "      <th>min</th>\n",
       "      <td>-118.19</td>\n",
       "      <td>0.00</td>\n",
       "      <td>-118.19</td>\n",
       "      <td>0.00</td>\n",
       "    </tr>\n",
       "    <tr>\n",
       "      <th>25%</th>\n",
       "      <td>-73.99</td>\n",
       "      <td>40.74</td>\n",
       "      <td>-73.99</td>\n",
       "      <td>40.73</td>\n",
       "    </tr>\n",
       "    <tr>\n",
       "      <th>50%</th>\n",
       "      <td>-73.98</td>\n",
       "      <td>40.75</td>\n",
       "      <td>-73.98</td>\n",
       "      <td>40.75</td>\n",
       "    </tr>\n",
       "    <tr>\n",
       "      <th>75%</th>\n",
       "      <td>-73.97</td>\n",
       "      <td>40.77</td>\n",
       "      <td>-73.96</td>\n",
       "      <td>40.77</td>\n",
       "    </tr>\n",
       "    <tr>\n",
       "      <th>max</th>\n",
       "      <td>0.00</td>\n",
       "      <td>64.10</td>\n",
       "      <td>106.25</td>\n",
       "      <td>60.04</td>\n",
       "    </tr>\n",
       "  </tbody>\n",
       "</table>\n",
       "</div>"
      ],
      "text/plain": [
       "       pickup_longitude  pickup_latitude  dropoff_longitude  dropoff_latitude\n",
       "count       11135470.00      11135470.00        11135470.00       11135470.00\n",
       "mean             -73.05            40.24             -73.12             40.28\n",
       "std                8.21             4.52               7.88              4.34\n",
       "min             -118.19             0.00            -118.19              0.00\n",
       "25%              -73.99            40.74             -73.99             40.73\n",
       "50%              -73.98            40.75             -73.98             40.75\n",
       "75%              -73.97            40.77             -73.96             40.77\n",
       "max                0.00            64.10             106.25             60.04"
      ]
     },
     "execution_count": 30,
     "metadata": {},
     "output_type": "execute_result"
    }
   ],
   "source": [
    "locations.describe()"
   ]
  },
  {
   "cell_type": "markdown",
   "metadata": {},
   "source": [
    "We are only interested in Manhattan's efficiency, so let's remove trips that are outside of Manhattan."
   ]
  },
  {
   "cell_type": "code",
   "execution_count": 43,
   "metadata": {},
   "outputs": [],
   "source": [
    "yel2019 = yel2019[\n",
    "    (yel2019.pickup_longitude >= -74.2563) & (yel2019.pickup_longitude <= -73.6543) &\n",
    "    (yel2019.pickup_latitude >= 40.4941) & (yel2019.pickup_latitude <= 40.9313) &\n",
    "    (yel2019.dropoff_longitude >= -74.2563) & (yel2019.dropoff_longitude <= -73.6543) &\n",
    "    (yel2019.dropoff_latitude >= 40.4941) & (yel2019.dropoff_latitude <= 40.9313)]"
   ]
  },
  {
   "cell_type": "code",
   "execution_count": 45,
   "metadata": {},
   "outputs": [
    {
     "data": {
      "text/plain": [
       "(10972566, 23)"
      ]
     },
     "execution_count": 45,
     "metadata": {},
     "output_type": "execute_result"
    }
   ],
   "source": [
    "yel2019.shape"
   ]
  },
  {
   "cell_type": "code",
   "execution_count": 52,
   "metadata": {},
   "outputs": [
    {
     "data": {
      "text/plain": [
       "['0          40.76\\n1          40.74\\n2          40.75\\n3          40.77\\n4          40.73\\n5          40.74\\n6          40.74\\n7          40.75\\n8          40.78\\n9          40.75\\n10         40.74\\n11         40.76\\n12         40.79\\n13         40.72\\n14         40.75\\n15         40.75\\n16         40.74\\n17         40.79\\n18         40.76\\n19         40.76\\n20         40.71\\n21         40.74\\n22         40.74\\n23         40.75\\n24         40.78\\n25         40.77\\n26         40.78\\n27         40.77\\n28         40.76\\n29         40.77\\n            ... \\n11135439   40.73\\n11135440   40.75\\n11135441   40.76\\n11135443   40.73\\n11135444   40.73\\n11135445   40.75\\n11135446   40.77\\n11135447   40.69\\n11135448   40.71\\n11135449   40.75\\n11135450   40.75\\n11135451   40.76\\n11135452   40.73\\n11135453   40.77\\n11135454   40.77\\n11135455   40.67\\n11135456   40.87\\n11135457   40.71\\n11135458   40.78\\n11135459   40.74\\n11135460   40.76\\n11135461   40.76\\n11135462   40.71\\n11135463   40.75\\n11135464   40.74\\n11135465   40.77\\n11135466   40.74\\n11135467   40.76\\n11135468   40.80\\n11135469   40.74\\nName: pickup_latitude, Length: 10972566, dtype: float64,0          -73.98\\n1          -73.98\\n2          -73.99\\n3          -73.98\\n4          -73.99\\n5          -74.00\\n6          -73.98\\n7          -73.99\\n8          -73.98\\n9          -73.98\\n10         -73.99\\n11         -73.97\\n12         -73.98\\n13         -73.99\\n14         -73.98\\n15         -73.99\\n16         -73.99\\n17         -73.95\\n18         -73.96\\n19         -73.98\\n20         -74.02\\n21         -74.01\\n22         -73.99\\n23         -73.99\\n24         -73.98\\n25         -73.87\\n26         -73.96\\n27         -73.97\\n28         -73.97\\n29         -73.98\\n            ...  \\n11135439   -73.98\\n11135440   -74.01\\n11135441   -73.96\\n11135443   -74.00\\n11135444   -74.00\\n11135445   -73.98\\n11135446   -73.99\\n11135447   -73.96\\n11135448   -74.01\\n11135449   -73.99\\n11135450   -73.98\\n11135451   -74.00\\n11135452   -74.01\\n11135453   -73.97\\n11135454   -73.96\\n11135455   -73.99\\n11135456   -73.92\\n11135457   -74.01\\n11135458   -73.98\\n11135459   -73.98\\n11135460   -73.99\\n11135461   -73.98\\n11135462   -74.02\\n11135463   -73.98\\n11135464   -74.00\\n11135465   -73.97\\n11135466   -73.99\\n11135467   -73.97\\n11135468   -73.94\\n11135469   -73.99\\nName: pickup_longitude, Length: 10972566, dtype: float64']"
      ]
     },
     "execution_count": 52,
     "metadata": {},
     "output_type": "execute_result"
    }
   ],
   "source": [
    "[str(yel2019.pickup_latitude) + ',' + str(yel2019.pickup_longitude)]"
   ]
  },
  {
   "cell_type": "markdown",
   "metadata": {},
   "source": [
    "Let's now convert these lat/longs to the borooughs using a geocoder."
   ]
  },
  {
   "cell_type": "code",
   "execution_count": 47,
   "metadata": {
    "ExecuteTime": {
     "end_time": "2020-01-23T22:05:16.853003Z",
     "start_time": "2020-01-23T22:05:16.763010Z"
    }
   },
   "outputs": [
    {
     "name": "stderr",
     "output_type": "stream",
     "text": [
      "/Users/jamesfung/anaconda3/lib/python3.6/site-packages/ipykernel_launcher.py:2: DeprecationWarning: Using Nominatim with the default \"geopy/1.20.0\" `user_agent` is strongly discouraged, as it violates Nominatim's ToS https://operations.osmfoundation.org/policies/nominatim/ and may possibly cause 403 and 429 HTTP errors. Please specify a custom `user_agent` with `Nominatim(user_agent=\"my-application\")` or by overriding the default `user_agent`: `geopy.geocoders.options.default_user_agent = \"my-application\"`. In geopy 2.0 this will become an exception.\n",
      "  \n"
     ]
    },
    {
     "data": {
      "text/plain": [
       "['Richmond County']"
      ]
     },
     "execution_count": 47,
     "metadata": {},
     "output_type": "execute_result"
    }
   ],
   "source": [
    "from geopy.geocoders import Nominatim\n",
    "geolocator = Nominatim()\n",
    "\n",
    "borough = []\n",
    "loc = ['40.4941, -74.2563']\n",
    "for l in loc:\n",
    "    sub = str(geolocator.reverse(l))\n",
    "    borough.append(sub.split(', ')[2])\n",
    "borough"
   ]
  },
  {
   "cell_type": "code",
   "execution_count": 65,
   "metadata": {},
   "outputs": [
    {
     "data": {
      "text/plain": [
       "0   40.89\n",
       "1   40.87\n",
       "2   40.89\n",
       "3   40.90\n",
       "4   40.89\n",
       "5   40.88\n",
       "6   40.88\n",
       "7   40.90\n",
       "8   40.88\n",
       "9   40.88\n",
       "Name: latitude, dtype: float64"
      ]
     },
     "execution_count": 65,
     "metadata": {},
     "output_type": "execute_result"
    }
   ],
   "source": [
    "centroids.latitude.head(10)"
   ]
  },
  {
   "cell_type": "code",
   "execution_count": 56,
   "metadata": {
    "collapsed": true
   },
   "outputs": [],
   "source": [
    "from math import radians, cos, sin, asin, sqrt\n",
    "def haversine(lon1, lat1, lon2, lat2):\n",
    "    \"\"\"\n",
    "    Calculate the great circle distance between two points \n",
    "    on the earth (specified in decimal degrees)\n",
    "    \"\"\"\n",
    "    # convert decimal degrees to radians \n",
    "    lon1, lat1, lon2, lat2 = map(radians, [lon1, lat1, lon2, lat2])\n",
    "    # haversine formula \n",
    "    dlon = lon2 - lon1 \n",
    "    dlat = lat2 - lat1 \n",
    "    a = sin(dlat/2)**2 + cos(lat1) * cos(lat2) * sin(dlon/2)**2\n",
    "    c = 2 * asin(sqrt(a)) \n",
    "    # Radius of earth in kilometers is 6371\n",
    "    km = 6371* c\n",
    "    return km"
   ]
  },
  {
   "cell_type": "markdown",
   "metadata": {},
   "source": [
    "### Preliminary Data Cleaning"
   ]
  },
  {
   "cell_type": "code",
   "execution_count": null,
   "metadata": {
    "ExecuteTime": {
     "end_time": "2020-01-22T21:57:50.865380Z",
     "start_time": "2020-01-22T21:57:47.739694Z"
    },
    "collapsed": true
   },
   "outputs": [],
   "source": [
    "#Drop some unecesssary columns.\n",
    "taxi_merged = taxi_merged.drop(['VendorID',\n",
    "                                'PULocationID',\n",
    "                                'DOLocationID',\n",
    "                                'clean_pickup_datetime',\n",
    "                                'clean_dropoff_datetime'],axis=1)"
   ]
  },
  {
   "cell_type": "code",
   "execution_count": null,
   "metadata": {
    "ExecuteTime": {
     "end_time": "2020-01-22T21:57:52.502074Z",
     "start_time": "2020-01-22T21:57:50.867367Z"
    },
    "collapsed": true
   },
   "outputs": [],
   "source": [
    "#Convert some columns into factors.\n",
    "factors = ['RatecodeID','payment_type','month','dom','dow']\n",
    "for i in factors:\n",
    "    taxi_merged[i] = taxi_merged[i].astype(object)"
   ]
  },
  {
   "cell_type": "code",
   "execution_count": null,
   "metadata": {
    "ExecuteTime": {
     "end_time": "2020-01-22T21:57:58.523211Z",
     "start_time": "2020-01-22T21:57:52.505883Z"
    },
    "collapsed": true
   },
   "outputs": [],
   "source": [
    "#Check out the numerical columns.\n",
    "pd.options.display.float_format = \"{:.2f}\".format\n",
    "taxi_merged.describe()"
   ]
  },
  {
   "cell_type": "markdown",
   "metadata": {},
   "source": [
    "There are some oddities in this data. Let's do some cleanup."
   ]
  },
  {
   "cell_type": "code",
   "execution_count": null,
   "metadata": {
    "ExecuteTime": {
     "end_time": "2020-01-22T21:58:03.672752Z",
     "start_time": "2020-01-22T21:57:58.524766Z"
    },
    "collapsed": true
   },
   "outputs": [],
   "source": [
    "taxi_merged = taxi_merged[taxi_merged['month']==1]\n",
    "taxi_merged = taxi_merged[taxi_merged['passenger_count']>0]\n",
    "taxi_merged = taxi_merged[taxi_merged['fare_amount']>0]\n",
    "taxi_merged = taxi_merged[taxi_merged['tip_amount']>=0]\n",
    "taxi_merged = taxi_merged[taxi_merged['diff_sec']>0]"
   ]
  },
  {
   "cell_type": "code",
   "execution_count": null,
   "metadata": {
    "ExecuteTime": {
     "end_time": "2020-01-22T21:58:07.431397Z",
     "start_time": "2020-01-22T21:58:03.674449Z"
    },
    "collapsed": true
   },
   "outputs": [],
   "source": [
    "taxi_merged.describe()"
   ]
  },
  {
   "cell_type": "markdown",
   "metadata": {},
   "source": [
    "Looks a lot better except for the extreme outliers. Let's remove all rows that are greater than the 99th percentile."
   ]
  },
  {
   "cell_type": "code",
   "execution_count": null,
   "metadata": {
    "ExecuteTime": {
     "end_time": "2020-01-22T21:58:20.723080Z",
     "start_time": "2020-01-22T21:58:07.434283Z"
    },
    "collapsed": true
   },
   "outputs": [],
   "source": [
    "#This is lazy coding - sorry!\n",
    "numerical_cols = taxi_merged.describe().columns\n",
    "for cols in numerical_cols:\n",
    "    taxi_merged = taxi_merged[taxi_merged[cols]<=taxi_merged[cols].quantile(q=.99)]"
   ]
  },
  {
   "cell_type": "code",
   "execution_count": null,
   "metadata": {
    "ExecuteTime": {
     "end_time": "2020-01-22T21:58:22.017994Z",
     "start_time": "2020-01-22T21:58:20.724598Z"
    },
    "collapsed": true
   },
   "outputs": [],
   "source": [
    "taxi_merged.describe()"
   ]
  },
  {
   "cell_type": "code",
   "execution_count": null,
   "metadata": {
    "ExecuteTime": {
     "end_time": "2020-01-23T20:06:28.203563Z",
     "start_time": "2020-01-23T20:06:26.043902Z"
    },
    "collapsed": true
   },
   "outputs": [],
   "source": [
    "#Any missing values?\n",
    "taxi_merged.isnull().sum()"
   ]
  },
  {
   "cell_type": "markdown",
   "metadata": {},
   "source": [
    "### Preliminary EDA"
   ]
  },
  {
   "cell_type": "markdown",
   "metadata": {},
   "source": [
    "Goal: Propose a metric or algorithm to assess the potential efficiency of aggregating rides \n",
    "from many vehicles into one, given the available data. Make realistic assumptions and any necessary simplifications and state them."
   ]
  },
  {
   "cell_type": "code",
   "execution_count": null,
   "metadata": {
    "ExecuteTime": {
     "end_time": "2020-01-23T20:07:09.396516Z",
     "start_time": "2020-01-23T20:07:09.358388Z"
    },
    "collapsed": true
   },
   "outputs": [],
   "source": [
    "taxi_merged.head(10)"
   ]
  },
  {
   "cell_type": "markdown",
   "metadata": {},
   "source": [
    "One of the first thoughts that comes to mind are single unit passengers who hail a taxi in the same time and same location of another single unit passenger."
   ]
  },
  {
   "cell_type": "code",
   "execution_count": null,
   "metadata": {
    "ExecuteTime": {
     "end_time": "2020-01-22T21:58:22.324967Z",
     "start_time": "2020-01-22T21:58:22.033638Z"
    },
    "collapsed": true
   },
   "outputs": [],
   "source": [
    "#What is the distribution of passenger counts?\n",
    "sb.countplot(taxi_merged['passenger_count'])"
   ]
  },
  {
   "cell_type": "markdown",
   "metadata": {},
   "source": [
    "A majority of taxi rides are single passenger rides."
   ]
  },
  {
   "cell_type": "code",
   "execution_count": null,
   "metadata": {
    "ExecuteTime": {
     "end_time": "2020-01-23T20:11:48.965600Z",
     "start_time": "2020-01-23T20:11:48.810536Z"
    },
    "collapsed": true
   },
   "outputs": [],
   "source": [
    "taxi_merged['DOZone'].nunique()"
   ]
  }
 ],
 "metadata": {
  "kernelspec": {
   "display_name": "Python 3",
   "language": "python",
   "name": "python3"
  },
  "language_info": {
   "codemirror_mode": {
    "name": "ipython",
    "version": 3
   },
   "file_extension": ".py",
   "mimetype": "text/x-python",
   "name": "python",
   "nbconvert_exporter": "python",
   "pygments_lexer": "ipython3",
   "version": "3.6.2"
  }
 },
 "nbformat": 4,
 "nbformat_minor": 2
}
