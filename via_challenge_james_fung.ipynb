{
 "cells": [
  {
   "cell_type": "markdown",
   "metadata": {
    "ExecuteTime": {
     "end_time": "2020-01-28T15:42:19.240734Z",
     "start_time": "2020-01-28T15:42:13.643212Z"
    }
   },
   "source": [
    "### Via Data Challenge\n",
    "Author : James Fung"
   ]
  },
  {
   "cell_type": "code",
   "execution_count": 1,
   "metadata": {
    "ExecuteTime": {
     "end_time": "2020-01-29T01:58:30.921995Z",
     "start_time": "2020-01-29T01:58:30.185022Z"
    }
   },
   "outputs": [
    {
     "name": "stdout",
     "output_type": "stream",
     "text": [
      "INFO: Pandarallel will run on 12 workers.\n",
      "INFO: Pandarallel will use standard multiprocessing data transfer (pipe) to transfer data between the main process and workers.\n"
     ]
    }
   ],
   "source": [
    "import pandas as pd\n",
    "import seaborn as sb\n",
    "import numpy as np\n",
    "\n",
    "import math\n",
    "from timeit import default_timer as timer\n",
    "import matplotlib.pyplot as plt\n",
    "%matplotlib inline\n",
    "import datetime\n",
    "from geopandas import GeoDataFrame\n",
    "\n",
    "from pandarallel import pandarallel\n",
    "\n",
    "# Initialization\n",
    "pandarallel.initialize()\n",
    "\n",
    "pd.options.display.float_format = \"{:.6f}\".format"
   ]
  },
  {
   "cell_type": "code",
   "execution_count": 2,
   "metadata": {
    "ExecuteTime": {
     "end_time": "2020-01-29T01:59:03.875247Z",
     "start_time": "2020-01-29T01:58:30.923782Z"
    }
   },
   "outputs": [],
   "source": [
    "data = pd.read_csv(\"/Users/james.fung/Desktop/test_scripts/via/yellow_tripdata_2016-06.csv\")\n",
    "centroids = pd.read_csv(\"/Users/james.fung/Desktop/test_scripts/via/NHoodNameCentroids.csv\")"
   ]
  },
  {
   "cell_type": "markdown",
   "metadata": {},
   "source": [
    "### Preliminary Feature Extraction"
   ]
  },
  {
   "cell_type": "markdown",
   "metadata": {},
   "source": [
    "Let's first extract some useful information from tpep_pickup_datetime. Things such as day of the week, day of month, month, and trip duration."
   ]
  },
  {
   "cell_type": "code",
   "execution_count": 3,
   "metadata": {
    "ExecuteTime": {
     "end_time": "2020-01-29T01:59:07.086041Z",
     "start_time": "2020-01-29T01:59:03.877113Z"
    }
   },
   "outputs": [],
   "source": [
    "#Create a column for the clean date.\n",
    "data['clean_pickup_datetime'] = pd.to_datetime(data['tpep_pickup_datetime'], format= '%Y-%m-%d %H:%M:%S')\n",
    "data['clean_dropoff_datetime'] = pd.to_datetime(data['tpep_dropoff_datetime'], format= '%Y-%m-%d %H:%M:%S')"
   ]
  },
  {
   "cell_type": "code",
   "execution_count": 4,
   "metadata": {
    "ExecuteTime": {
     "end_time": "2020-01-29T01:59:08.270147Z",
     "start_time": "2020-01-29T01:59:07.089199Z"
    }
   },
   "outputs": [],
   "source": [
    "#Extract day of the week, day of month, and month.\n",
    "pickup = data['clean_pickup_datetime']\n",
    "dropoff = data['clean_dropoff_datetime']\n",
    "data['month'] = pickup.dt.month\n",
    "data['dom'] = pickup.dt.day\n",
    "data['dow'] = pickup.dt.dayofweek\n",
    "\n",
    "#Extract the duration of the trip.\n",
    "data['diff_sec'] = (dropoff-pickup)/np.timedelta64(1,'s')"
   ]
  },
  {
   "cell_type": "code",
   "execution_count": 5,
   "metadata": {
    "ExecuteTime": {
     "end_time": "2020-01-29T01:59:12.289746Z",
     "start_time": "2020-01-29T01:59:08.272909Z"
    }
   },
   "outputs": [],
   "source": [
    "#Drop the unecessary columns.\n",
    "data = data.drop(['tpep_pickup_datetime','tpep_dropoff_datetime'],axis=1)"
   ]
  },
  {
   "cell_type": "code",
   "execution_count": 6,
   "metadata": {
    "ExecuteTime": {
     "end_time": "2020-01-29T01:59:13.370512Z",
     "start_time": "2020-01-29T01:59:12.291505Z"
    }
   },
   "outputs": [],
   "source": [
    "#Filter to the first full week of June.\n",
    "data = data[(data.clean_pickup_datetime >= datetime.datetime(2016,6,6)) & \n",
    "        (data.clean_pickup_datetime >= datetime.datetime(2016,6,12)) &\n",
    "        (data.clean_dropoff_datetime >= datetime.datetime(2016,6,6)) & \n",
    "        (data.clean_dropoff_datetime >= datetime.datetime(2016,6,12))]"
   ]
  },
  {
   "cell_type": "markdown",
   "metadata": {},
   "source": [
    "### Converting Lat/Long Into Meaningful Features"
   ]
  },
  {
   "cell_type": "code",
   "execution_count": 7,
   "metadata": {
    "ExecuteTime": {
     "end_time": "2020-01-29T01:59:13.483451Z",
     "start_time": "2020-01-29T01:59:13.371954Z"
    }
   },
   "outputs": [],
   "source": [
    "locations = data[['pickup_longitude','pickup_latitude','dropoff_longitude','dropoff_latitude',]]"
   ]
  },
  {
   "cell_type": "code",
   "execution_count": 8,
   "metadata": {
    "ExecuteTime": {
     "end_time": "2020-01-29T01:59:14.901152Z",
     "start_time": "2020-01-29T01:59:13.484822Z"
    }
   },
   "outputs": [
    {
     "data": {
      "text/html": [
       "<div>\n",
       "<style scoped>\n",
       "    .dataframe tbody tr th:only-of-type {\n",
       "        vertical-align: middle;\n",
       "    }\n",
       "\n",
       "    .dataframe tbody tr th {\n",
       "        vertical-align: top;\n",
       "    }\n",
       "\n",
       "    .dataframe thead th {\n",
       "        text-align: right;\n",
       "    }\n",
       "</style>\n",
       "<table border=\"1\" class=\"dataframe\">\n",
       "  <thead>\n",
       "    <tr style=\"text-align: right;\">\n",
       "      <th></th>\n",
       "      <th>pickup_longitude</th>\n",
       "      <th>pickup_latitude</th>\n",
       "      <th>dropoff_longitude</th>\n",
       "      <th>dropoff_latitude</th>\n",
       "    </tr>\n",
       "  </thead>\n",
       "  <tbody>\n",
       "    <tr>\n",
       "      <th>count</th>\n",
       "      <td>6900536.000000</td>\n",
       "      <td>6900536.000000</td>\n",
       "      <td>6900536.000000</td>\n",
       "      <td>6900536.000000</td>\n",
       "    </tr>\n",
       "    <tr>\n",
       "      <th>mean</th>\n",
       "      <td>-73.049594</td>\n",
       "      <td>40.242038</td>\n",
       "      <td>-73.126172</td>\n",
       "      <td>40.285111</td>\n",
       "    </tr>\n",
       "    <tr>\n",
       "      <th>std</th>\n",
       "      <td>8.213192</td>\n",
       "      <td>4.524524</td>\n",
       "      <td>7.869322</td>\n",
       "      <td>4.335251</td>\n",
       "    </tr>\n",
       "    <tr>\n",
       "      <th>min</th>\n",
       "      <td>-118.186256</td>\n",
       "      <td>0.000000</td>\n",
       "      <td>-118.186256</td>\n",
       "      <td>0.000000</td>\n",
       "    </tr>\n",
       "    <tr>\n",
       "      <th>25%</th>\n",
       "      <td>-73.991821</td>\n",
       "      <td>40.736679</td>\n",
       "      <td>-73.991249</td>\n",
       "      <td>40.735050</td>\n",
       "    </tr>\n",
       "    <tr>\n",
       "      <th>50%</th>\n",
       "      <td>-73.981461</td>\n",
       "      <td>40.753456</td>\n",
       "      <td>-73.979462</td>\n",
       "      <td>40.754051</td>\n",
       "    </tr>\n",
       "    <tr>\n",
       "      <th>75%</th>\n",
       "      <td>-73.966492</td>\n",
       "      <td>40.767883</td>\n",
       "      <td>-73.962143</td>\n",
       "      <td>40.769127</td>\n",
       "    </tr>\n",
       "    <tr>\n",
       "      <th>max</th>\n",
       "      <td>0.000000</td>\n",
       "      <td>64.096481</td>\n",
       "      <td>0.000000</td>\n",
       "      <td>60.040714</td>\n",
       "    </tr>\n",
       "  </tbody>\n",
       "</table>\n",
       "</div>"
      ],
      "text/plain": [
       "       pickup_longitude  pickup_latitude  dropoff_longitude  dropoff_latitude\n",
       "count    6900536.000000   6900536.000000     6900536.000000    6900536.000000\n",
       "mean         -73.049594        40.242038         -73.126172         40.285111\n",
       "std            8.213192         4.524524           7.869322          4.335251\n",
       "min         -118.186256         0.000000        -118.186256          0.000000\n",
       "25%          -73.991821        40.736679         -73.991249         40.735050\n",
       "50%          -73.981461        40.753456         -73.979462         40.754051\n",
       "75%          -73.966492        40.767883         -73.962143         40.769127\n",
       "max            0.000000        64.096481           0.000000         60.040714"
      ]
     },
     "execution_count": 8,
     "metadata": {},
     "output_type": "execute_result"
    }
   ],
   "source": [
    "locations.describe()"
   ]
  },
  {
   "cell_type": "markdown",
   "metadata": {},
   "source": [
    "Select coordinates within NYC."
   ]
  },
  {
   "cell_type": "code",
   "execution_count": 9,
   "metadata": {
    "ExecuteTime": {
     "end_time": "2020-01-29T01:59:15.782411Z",
     "start_time": "2020-01-29T01:59:14.902826Z"
    }
   },
   "outputs": [],
   "source": [
    "data = data[\n",
    "    (data.pickup_longitude >= -74.2563) & (data.pickup_longitude <= -73.6543) &\n",
    "    (data.pickup_latitude >= 40.4941) & (data.pickup_latitude <= 40.9313) &\n",
    "    (data.dropoff_longitude >= -74.2563) & (data.dropoff_longitude <= -73.6543) &\n",
    "    (data.dropoff_latitude >= 40.4941) & (data.dropoff_latitude <= 40.9313)]"
   ]
  },
  {
   "cell_type": "code",
   "execution_count": 10,
   "metadata": {
    "ExecuteTime": {
     "end_time": "2020-01-29T01:59:15.791491Z",
     "start_time": "2020-01-29T01:59:15.783975Z"
    }
   },
   "outputs": [],
   "source": [
    "centroids['longitude'] = pd.to_numeric(centroids.the_geom.str.replace('POINT ','').str.split(' ').str[0])\n",
    "centroids['latitude'] = pd.to_numeric(centroids.the_geom.str.replace('POINT ','').str.split(' ').str[1])"
   ]
  },
  {
   "cell_type": "code",
   "execution_count": 11,
   "metadata": {
    "ExecuteTime": {
     "end_time": "2020-01-29T01:59:15.799093Z",
     "start_time": "2020-01-29T01:59:15.793277Z"
    }
   },
   "outputs": [],
   "source": [
    "# Define a basic Haversine distance formula\n",
    "def haversine(lat1, lon1, lat2, lon2):\n",
    "    MILES = 3959\n",
    "    lat1, lon1, lat2, lon2 = map(np.deg2rad, [lat1, lon1, lat2, lon2])\n",
    "    dlat = lat2 - lat1 \n",
    "    dlon = lon2 - lon1 \n",
    "    a = np.sin(dlat/2)**2 + np.cos(lat1) * np.cos(lat2) * np.sin(dlon/2)**2\n",
    "    c = 2 * np.arcsin(np.sqrt(a)) \n",
    "    total_miles = MILES * c\n",
    "    return total_miles"
   ]
  },
  {
   "cell_type": "code",
   "execution_count": 12,
   "metadata": {
    "ExecuteTime": {
     "end_time": "2020-01-29T01:59:15.805296Z",
     "start_time": "2020-01-29T01:59:15.801841Z"
    }
   },
   "outputs": [],
   "source": [
    "def return_boro(latitude, longitude, centroids):\n",
    "    \n",
    "    index = haversine(longitude, \n",
    "                  latitude, \n",
    "                  centroids.longitude, \n",
    "                  centroids.latitude).idxmin()\n",
    "    \n",
    "    borough = centroids.Name.loc[index]\n",
    "    \n",
    "    return borough"
   ]
  },
  {
   "cell_type": "code",
   "execution_count": null,
   "metadata": {
    "ExecuteTime": {
     "end_time": "2020-01-29T01:58:24.391543Z",
     "start_time": "2020-01-29T01:58:20.729Z"
    }
   },
   "outputs": [],
   "source": [
    "#Apply the above function to all rows - this might take a while!\n",
    "start = timer()\n",
    "data['pickup_boro'] = data.parallel_apply(lambda row: \n",
    "                                       return_boro(row.pickup_latitude, row.pickup_longitude, centroids), \n",
    "                                       axis=1)\n",
    "data['dropoff_boro'] = data.parallel_apply(lambda row: \n",
    "                                       return_boro(row.dropoff_latitude, row.dropoff_longitude, centroids), \n",
    "                                       axis=1)\n",
    "end = timer()\n",
    "print(end-start)"
   ]
  },
  {
   "cell_type": "code",
   "execution_count": null,
   "metadata": {
    "ExecuteTime": {
     "end_time": "2020-01-27T16:45:31.782769Z",
     "start_time": "2020-01-27T16:43:25.628296Z"
    }
   },
   "outputs": [],
   "source": [
    "#Save the results out to a csv so this does not have to be rerun.\n",
    "data.to_csv(\"taxi_june1st_clean.csv\")"
   ]
  },
  {
   "cell_type": "markdown",
   "metadata": {},
   "source": [
    "### Preliminary Data Cleaning"
   ]
  },
  {
   "cell_type": "code",
   "execution_count": 13,
   "metadata": {
    "ExecuteTime": {
     "end_time": "2020-01-29T01:59:44.204247Z",
     "start_time": "2020-01-29T01:59:15.807241Z"
    }
   },
   "outputs": [],
   "source": [
    "#Read in the data from the last step.\n",
    "taxi_clean = pd.read_csv(\"/Users/james.fung/Desktop/test_scripts/via/taxi_june1st_clean.csv\")"
   ]
  },
  {
   "cell_type": "code",
   "execution_count": 14,
   "metadata": {
    "ExecuteTime": {
     "end_time": "2020-01-29T02:00:05.028704Z",
     "start_time": "2020-01-29T01:59:44.205933Z"
    }
   },
   "outputs": [],
   "source": [
    "#Get only the trips within Manhattan.\n",
    "boros = centroids[['Name', 'Borough']]\n",
    "taxi_clean = pd.merge(taxi_clean, boros, left_on='pickup_boro', right_on='Name')\n",
    "taxi_clean = taxi_clean[taxi_clean.Borough == 'Manhattan']"
   ]
  },
  {
   "cell_type": "code",
   "execution_count": 15,
   "metadata": {
    "ExecuteTime": {
     "end_time": "2020-01-29T02:00:10.000107Z",
     "start_time": "2020-01-29T02:00:05.030330Z"
    }
   },
   "outputs": [],
   "source": [
    "#For some reason the import converted this back.\n",
    "taxi_clean['clean_pickup_datetime'] = pd.to_datetime(taxi_clean['clean_pickup_datetime'], format= '%Y-%m-%d %H:%M:%S')\n",
    "taxi_clean['clean_dropoff_datetime'] = pd.to_datetime(taxi_clean['clean_dropoff_datetime'], format= '%Y-%m-%d %H:%M:%S')\n",
    "\n",
    "#Forgot to do this earlier - we also need minute and hour.\n",
    "taxi_clean['minute'] = taxi_clean['clean_pickup_datetime'].dt.minute\n",
    "taxi_clean['hour'] = taxi_clean['clean_pickup_datetime'].dt.hour"
   ]
  },
  {
   "cell_type": "code",
   "execution_count": 16,
   "metadata": {
    "ExecuteTime": {
     "end_time": "2020-01-29T02:00:11.184626Z",
     "start_time": "2020-01-29T02:00:10.001339Z"
    }
   },
   "outputs": [],
   "source": [
    "#Drop some unecesssary columns.\n",
    "taxi_clean = taxi_clean.drop(['VendorID',\n",
    "                                'clean_pickup_datetime',\n",
    "                                'clean_dropoff_datetime',\n",
    "                                'Unnamed: 0',\n",
    "                               'Name'],axis=1)"
   ]
  },
  {
   "cell_type": "code",
   "execution_count": 17,
   "metadata": {
    "ExecuteTime": {
     "end_time": "2020-01-29T02:00:12.696977Z",
     "start_time": "2020-01-29T02:00:11.186276Z"
    }
   },
   "outputs": [],
   "source": [
    "#Convert some columns into factors.\n",
    "factors = ['RatecodeID','payment_type','month','dom','dow']\n",
    "for i in factors:\n",
    "    taxi_clean[i] = taxi_clean[i].astype(object)"
   ]
  },
  {
   "cell_type": "code",
   "execution_count": 18,
   "metadata": {
    "ExecuteTime": {
     "end_time": "2020-01-29T02:00:19.231352Z",
     "start_time": "2020-01-29T02:00:12.702899Z"
    }
   },
   "outputs": [
    {
     "data": {
      "text/html": [
       "<div>\n",
       "<style scoped>\n",
       "    .dataframe tbody tr th:only-of-type {\n",
       "        vertical-align: middle;\n",
       "    }\n",
       "\n",
       "    .dataframe tbody tr th {\n",
       "        vertical-align: top;\n",
       "    }\n",
       "\n",
       "    .dataframe thead th {\n",
       "        text-align: right;\n",
       "    }\n",
       "</style>\n",
       "<table border=\"1\" class=\"dataframe\">\n",
       "  <thead>\n",
       "    <tr style=\"text-align: right;\">\n",
       "      <th></th>\n",
       "      <th>passenger_count</th>\n",
       "      <th>trip_distance</th>\n",
       "      <th>pickup_longitude</th>\n",
       "      <th>pickup_latitude</th>\n",
       "      <th>dropoff_longitude</th>\n",
       "      <th>dropoff_latitude</th>\n",
       "      <th>fare_amount</th>\n",
       "      <th>extra</th>\n",
       "      <th>mta_tax</th>\n",
       "      <th>tip_amount</th>\n",
       "      <th>tolls_amount</th>\n",
       "      <th>improvement_surcharge</th>\n",
       "      <th>total_amount</th>\n",
       "      <th>diff_sec</th>\n",
       "      <th>minute</th>\n",
       "      <th>hour</th>\n",
       "    </tr>\n",
       "  </thead>\n",
       "  <tbody>\n",
       "    <tr>\n",
       "      <th>count</th>\n",
       "      <td>6238182.000000</td>\n",
       "      <td>6238182.000000</td>\n",
       "      <td>6238182.000000</td>\n",
       "      <td>6238182.000000</td>\n",
       "      <td>6238182.000000</td>\n",
       "      <td>6238182.000000</td>\n",
       "      <td>6238182.000000</td>\n",
       "      <td>6238182.000000</td>\n",
       "      <td>6238182.000000</td>\n",
       "      <td>6238182.000000</td>\n",
       "      <td>6238182.000000</td>\n",
       "      <td>6238182.000000</td>\n",
       "      <td>6238182.000000</td>\n",
       "      <td>6238182.000000</td>\n",
       "      <td>6238182.000000</td>\n",
       "      <td>6238182.000000</td>\n",
       "    </tr>\n",
       "    <tr>\n",
       "      <th>mean</th>\n",
       "      <td>1.655039</td>\n",
       "      <td>2.526673</td>\n",
       "      <td>-73.981904</td>\n",
       "      <td>40.753847</td>\n",
       "      <td>-73.975153</td>\n",
       "      <td>40.753109</td>\n",
       "      <td>11.786115</td>\n",
       "      <td>0.336494</td>\n",
       "      <td>0.497944</td>\n",
       "      <td>1.626934</td>\n",
       "      <td>0.183956</td>\n",
       "      <td>0.299777</td>\n",
       "      <td>14.734769</td>\n",
       "      <td>924.821628</td>\n",
       "      <td>29.572132</td>\n",
       "      <td>13.545007</td>\n",
       "    </tr>\n",
       "    <tr>\n",
       "      <th>std</th>\n",
       "      <td>1.302288</td>\n",
       "      <td>28.862374</td>\n",
       "      <td>0.016334</td>\n",
       "      <td>0.021814</td>\n",
       "      <td>0.032866</td>\n",
       "      <td>0.030227</td>\n",
       "      <td>13.671026</td>\n",
       "      <td>0.472947</td>\n",
       "      <td>0.042154</td>\n",
       "      <td>2.251148</td>\n",
       "      <td>1.329503</td>\n",
       "      <td>0.011433</td>\n",
       "      <td>15.112145</td>\n",
       "      <td>3247.238932</td>\n",
       "      <td>17.321626</td>\n",
       "      <td>6.424616</td>\n",
       "    </tr>\n",
       "    <tr>\n",
       "      <th>min</th>\n",
       "      <td>0.000000</td>\n",
       "      <td>0.000000</td>\n",
       "      <td>-74.062805</td>\n",
       "      <td>40.688877</td>\n",
       "      <td>-74.256271</td>\n",
       "      <td>40.503670</td>\n",
       "      <td>-150.000000</td>\n",
       "      <td>-4.500000</td>\n",
       "      <td>-0.500000</td>\n",
       "      <td>-46.680000</td>\n",
       "      <td>-12.500000</td>\n",
       "      <td>-0.300000</td>\n",
       "      <td>-150.800000</td>\n",
       "      <td>0.000000</td>\n",
       "      <td>0.000000</td>\n",
       "      <td>0.000000</td>\n",
       "    </tr>\n",
       "    <tr>\n",
       "      <th>25%</th>\n",
       "      <td>1.000000</td>\n",
       "      <td>1.000000</td>\n",
       "      <td>-73.992867</td>\n",
       "      <td>40.739731</td>\n",
       "      <td>-73.991623</td>\n",
       "      <td>40.738148</td>\n",
       "      <td>6.500000</td>\n",
       "      <td>0.000000</td>\n",
       "      <td>0.500000</td>\n",
       "      <td>0.000000</td>\n",
       "      <td>0.000000</td>\n",
       "      <td>0.300000</td>\n",
       "      <td>8.750000</td>\n",
       "      <td>397.000000</td>\n",
       "      <td>15.000000</td>\n",
       "      <td>9.000000</td>\n",
       "    </tr>\n",
       "    <tr>\n",
       "      <th>50%</th>\n",
       "      <td>1.000000</td>\n",
       "      <td>1.640000</td>\n",
       "      <td>-73.982742</td>\n",
       "      <td>40.754581</td>\n",
       "      <td>-73.980324</td>\n",
       "      <td>40.755203</td>\n",
       "      <td>9.500000</td>\n",
       "      <td>0.000000</td>\n",
       "      <td>0.500000</td>\n",
       "      <td>1.260000</td>\n",
       "      <td>0.000000</td>\n",
       "      <td>0.300000</td>\n",
       "      <td>11.760000</td>\n",
       "      <td>655.000000</td>\n",
       "      <td>30.000000</td>\n",
       "      <td>14.000000</td>\n",
       "    </tr>\n",
       "    <tr>\n",
       "      <th>75%</th>\n",
       "      <td>2.000000</td>\n",
       "      <td>2.860000</td>\n",
       "      <td>-73.971542</td>\n",
       "      <td>40.767311</td>\n",
       "      <td>-73.964973</td>\n",
       "      <td>40.770168</td>\n",
       "      <td>14.000000</td>\n",
       "      <td>0.500000</td>\n",
       "      <td>0.500000</td>\n",
       "      <td>2.300000</td>\n",
       "      <td>0.000000</td>\n",
       "      <td>0.300000</td>\n",
       "      <td>16.800000</td>\n",
       "      <td>1043.000000</td>\n",
       "      <td>45.000000</td>\n",
       "      <td>19.000000</td>\n",
       "    </tr>\n",
       "    <tr>\n",
       "      <th>max</th>\n",
       "      <td>9.000000</td>\n",
       "      <td>71732.700000</td>\n",
       "      <td>-73.805153</td>\n",
       "      <td>40.930935</td>\n",
       "      <td>-73.654541</td>\n",
       "      <td>40.931232</td>\n",
       "      <td>20043.770000</td>\n",
       "      <td>597.920000</td>\n",
       "      <td>60.350000</td>\n",
       "      <td>854.850000</td>\n",
       "      <td>554.000000</td>\n",
       "      <td>0.300000</td>\n",
       "      <td>20044.070000</td>\n",
       "      <td>86398.000000</td>\n",
       "      <td>59.000000</td>\n",
       "      <td>23.000000</td>\n",
       "    </tr>\n",
       "  </tbody>\n",
       "</table>\n",
       "</div>"
      ],
      "text/plain": [
       "       passenger_count  trip_distance  pickup_longitude  pickup_latitude  \\\n",
       "count   6238182.000000 6238182.000000    6238182.000000   6238182.000000   \n",
       "mean          1.655039       2.526673        -73.981904        40.753847   \n",
       "std           1.302288      28.862374          0.016334         0.021814   \n",
       "min           0.000000       0.000000        -74.062805        40.688877   \n",
       "25%           1.000000       1.000000        -73.992867        40.739731   \n",
       "50%           1.000000       1.640000        -73.982742        40.754581   \n",
       "75%           2.000000       2.860000        -73.971542        40.767311   \n",
       "max           9.000000   71732.700000        -73.805153        40.930935   \n",
       "\n",
       "       dropoff_longitude  dropoff_latitude    fare_amount          extra  \\\n",
       "count     6238182.000000    6238182.000000 6238182.000000 6238182.000000   \n",
       "mean          -73.975153         40.753109      11.786115       0.336494   \n",
       "std             0.032866          0.030227      13.671026       0.472947   \n",
       "min           -74.256271         40.503670    -150.000000      -4.500000   \n",
       "25%           -73.991623         40.738148       6.500000       0.000000   \n",
       "50%           -73.980324         40.755203       9.500000       0.000000   \n",
       "75%           -73.964973         40.770168      14.000000       0.500000   \n",
       "max           -73.654541         40.931232   20043.770000     597.920000   \n",
       "\n",
       "             mta_tax     tip_amount   tolls_amount  improvement_surcharge  \\\n",
       "count 6238182.000000 6238182.000000 6238182.000000         6238182.000000   \n",
       "mean        0.497944       1.626934       0.183956               0.299777   \n",
       "std         0.042154       2.251148       1.329503               0.011433   \n",
       "min        -0.500000     -46.680000     -12.500000              -0.300000   \n",
       "25%         0.500000       0.000000       0.000000               0.300000   \n",
       "50%         0.500000       1.260000       0.000000               0.300000   \n",
       "75%         0.500000       2.300000       0.000000               0.300000   \n",
       "max        60.350000     854.850000     554.000000               0.300000   \n",
       "\n",
       "        total_amount       diff_sec         minute           hour  \n",
       "count 6238182.000000 6238182.000000 6238182.000000 6238182.000000  \n",
       "mean       14.734769     924.821628      29.572132      13.545007  \n",
       "std        15.112145    3247.238932      17.321626       6.424616  \n",
       "min      -150.800000       0.000000       0.000000       0.000000  \n",
       "25%         8.750000     397.000000      15.000000       9.000000  \n",
       "50%        11.760000     655.000000      30.000000      14.000000  \n",
       "75%        16.800000    1043.000000      45.000000      19.000000  \n",
       "max     20044.070000   86398.000000      59.000000      23.000000  "
      ]
     },
     "execution_count": 18,
     "metadata": {},
     "output_type": "execute_result"
    }
   ],
   "source": [
    "#Check out the numerical columns.\n",
    "taxi_clean.describe()"
   ]
  },
  {
   "cell_type": "markdown",
   "metadata": {},
   "source": [
    "There are some oddities in this data. Let's do some cleanup."
   ]
  },
  {
   "cell_type": "code",
   "execution_count": 19,
   "metadata": {
    "ExecuteTime": {
     "end_time": "2020-01-29T02:00:24.480047Z",
     "start_time": "2020-01-29T02:00:19.237274Z"
    }
   },
   "outputs": [],
   "source": [
    "taxi_clean = taxi_clean[taxi_clean['month']==6]\n",
    "taxi_clean = taxi_clean[taxi_clean['passenger_count']>0]\n",
    "taxi_clean = taxi_clean[taxi_clean['fare_amount']>0]\n",
    "taxi_clean = taxi_clean[taxi_clean['tip_amount']>=0]\n",
    "taxi_clean = taxi_clean[taxi_clean['diff_sec']>0]"
   ]
  },
  {
   "cell_type": "code",
   "execution_count": 20,
   "metadata": {
    "ExecuteTime": {
     "end_time": "2020-01-29T02:00:29.076924Z",
     "start_time": "2020-01-29T02:00:24.481914Z"
    }
   },
   "outputs": [
    {
     "data": {
      "text/html": [
       "<div>\n",
       "<style scoped>\n",
       "    .dataframe tbody tr th:only-of-type {\n",
       "        vertical-align: middle;\n",
       "    }\n",
       "\n",
       "    .dataframe tbody tr th {\n",
       "        vertical-align: top;\n",
       "    }\n",
       "\n",
       "    .dataframe thead th {\n",
       "        text-align: right;\n",
       "    }\n",
       "</style>\n",
       "<table border=\"1\" class=\"dataframe\">\n",
       "  <thead>\n",
       "    <tr style=\"text-align: right;\">\n",
       "      <th></th>\n",
       "      <th>passenger_count</th>\n",
       "      <th>trip_distance</th>\n",
       "      <th>pickup_longitude</th>\n",
       "      <th>pickup_latitude</th>\n",
       "      <th>dropoff_longitude</th>\n",
       "      <th>dropoff_latitude</th>\n",
       "      <th>fare_amount</th>\n",
       "      <th>extra</th>\n",
       "      <th>mta_tax</th>\n",
       "      <th>tip_amount</th>\n",
       "      <th>tolls_amount</th>\n",
       "      <th>improvement_surcharge</th>\n",
       "      <th>total_amount</th>\n",
       "      <th>diff_sec</th>\n",
       "      <th>minute</th>\n",
       "      <th>hour</th>\n",
       "    </tr>\n",
       "  </thead>\n",
       "  <tbody>\n",
       "    <tr>\n",
       "      <th>count</th>\n",
       "      <td>6234804.000000</td>\n",
       "      <td>6234804.000000</td>\n",
       "      <td>6234804.000000</td>\n",
       "      <td>6234804.000000</td>\n",
       "      <td>6234804.000000</td>\n",
       "      <td>6234804.000000</td>\n",
       "      <td>6234804.000000</td>\n",
       "      <td>6234804.000000</td>\n",
       "      <td>6234804.000000</td>\n",
       "      <td>6234804.000000</td>\n",
       "      <td>6234804.000000</td>\n",
       "      <td>6234804.000000</td>\n",
       "      <td>6234804.000000</td>\n",
       "      <td>6234804.000000</td>\n",
       "      <td>6234804.000000</td>\n",
       "      <td>6234804.000000</td>\n",
       "    </tr>\n",
       "    <tr>\n",
       "      <th>mean</th>\n",
       "      <td>1.654996</td>\n",
       "      <td>2.526988</td>\n",
       "      <td>-73.981903</td>\n",
       "      <td>40.753846</td>\n",
       "      <td>-73.975147</td>\n",
       "      <td>40.753107</td>\n",
       "      <td>11.794359</td>\n",
       "      <td>0.336790</td>\n",
       "      <td>0.498364</td>\n",
       "      <td>1.626972</td>\n",
       "      <td>0.183601</td>\n",
       "      <td>0.299991</td>\n",
       "      <td>14.743648</td>\n",
       "      <td>925.000094</td>\n",
       "      <td>29.572434</td>\n",
       "      <td>13.545683</td>\n",
       "    </tr>\n",
       "    <tr>\n",
       "      <th>std</th>\n",
       "      <td>1.302246</td>\n",
       "      <td>28.869667</td>\n",
       "      <td>0.016333</td>\n",
       "      <td>0.021812</td>\n",
       "      <td>0.032859</td>\n",
       "      <td>0.030226</td>\n",
       "      <td>13.656476</td>\n",
       "      <td>0.472741</td>\n",
       "      <td>0.037343</td>\n",
       "      <td>2.240872</td>\n",
       "      <td>1.326277</td>\n",
       "      <td>0.001634</td>\n",
       "      <td>15.095734</td>\n",
       "      <td>3246.471086</td>\n",
       "      <td>17.321659</td>\n",
       "      <td>6.424165</td>\n",
       "    </tr>\n",
       "    <tr>\n",
       "      <th>min</th>\n",
       "      <td>1.000000</td>\n",
       "      <td>0.000000</td>\n",
       "      <td>-74.062805</td>\n",
       "      <td>40.688877</td>\n",
       "      <td>-74.256271</td>\n",
       "      <td>40.503670</td>\n",
       "      <td>0.010000</td>\n",
       "      <td>0.000000</td>\n",
       "      <td>0.000000</td>\n",
       "      <td>0.000000</td>\n",
       "      <td>0.000000</td>\n",
       "      <td>0.000000</td>\n",
       "      <td>0.310000</td>\n",
       "      <td>1.000000</td>\n",
       "      <td>0.000000</td>\n",
       "      <td>0.000000</td>\n",
       "    </tr>\n",
       "    <tr>\n",
       "      <th>25%</th>\n",
       "      <td>1.000000</td>\n",
       "      <td>1.000000</td>\n",
       "      <td>-73.992867</td>\n",
       "      <td>40.739731</td>\n",
       "      <td>-73.991623</td>\n",
       "      <td>40.738148</td>\n",
       "      <td>6.500000</td>\n",
       "      <td>0.000000</td>\n",
       "      <td>0.500000</td>\n",
       "      <td>0.000000</td>\n",
       "      <td>0.000000</td>\n",
       "      <td>0.300000</td>\n",
       "      <td>8.750000</td>\n",
       "      <td>397.000000</td>\n",
       "      <td>15.000000</td>\n",
       "      <td>9.000000</td>\n",
       "    </tr>\n",
       "    <tr>\n",
       "      <th>50%</th>\n",
       "      <td>1.000000</td>\n",
       "      <td>1.640000</td>\n",
       "      <td>-73.982742</td>\n",
       "      <td>40.754581</td>\n",
       "      <td>-73.980324</td>\n",
       "      <td>40.755207</td>\n",
       "      <td>9.500000</td>\n",
       "      <td>0.000000</td>\n",
       "      <td>0.500000</td>\n",
       "      <td>1.260000</td>\n",
       "      <td>0.000000</td>\n",
       "      <td>0.300000</td>\n",
       "      <td>11.760000</td>\n",
       "      <td>655.000000</td>\n",
       "      <td>30.000000</td>\n",
       "      <td>14.000000</td>\n",
       "    </tr>\n",
       "    <tr>\n",
       "      <th>75%</th>\n",
       "      <td>2.000000</td>\n",
       "      <td>2.860000</td>\n",
       "      <td>-73.971542</td>\n",
       "      <td>40.767311</td>\n",
       "      <td>-73.964973</td>\n",
       "      <td>40.770172</td>\n",
       "      <td>14.000000</td>\n",
       "      <td>0.500000</td>\n",
       "      <td>0.500000</td>\n",
       "      <td>2.300000</td>\n",
       "      <td>0.000000</td>\n",
       "      <td>0.300000</td>\n",
       "      <td>16.800000</td>\n",
       "      <td>1043.000000</td>\n",
       "      <td>45.000000</td>\n",
       "      <td>19.000000</td>\n",
       "    </tr>\n",
       "    <tr>\n",
       "      <th>max</th>\n",
       "      <td>9.000000</td>\n",
       "      <td>71732.700000</td>\n",
       "      <td>-73.805153</td>\n",
       "      <td>40.930935</td>\n",
       "      <td>-73.654541</td>\n",
       "      <td>40.931232</td>\n",
       "      <td>20043.770000</td>\n",
       "      <td>597.920000</td>\n",
       "      <td>60.350000</td>\n",
       "      <td>854.850000</td>\n",
       "      <td>554.000000</td>\n",
       "      <td>0.300000</td>\n",
       "      <td>20044.070000</td>\n",
       "      <td>86398.000000</td>\n",
       "      <td>59.000000</td>\n",
       "      <td>23.000000</td>\n",
       "    </tr>\n",
       "  </tbody>\n",
       "</table>\n",
       "</div>"
      ],
      "text/plain": [
       "       passenger_count  trip_distance  pickup_longitude  pickup_latitude  \\\n",
       "count   6234804.000000 6234804.000000    6234804.000000   6234804.000000   \n",
       "mean          1.654996       2.526988        -73.981903        40.753846   \n",
       "std           1.302246      28.869667          0.016333         0.021812   \n",
       "min           1.000000       0.000000        -74.062805        40.688877   \n",
       "25%           1.000000       1.000000        -73.992867        40.739731   \n",
       "50%           1.000000       1.640000        -73.982742        40.754581   \n",
       "75%           2.000000       2.860000        -73.971542        40.767311   \n",
       "max           9.000000   71732.700000        -73.805153        40.930935   \n",
       "\n",
       "       dropoff_longitude  dropoff_latitude    fare_amount          extra  \\\n",
       "count     6234804.000000    6234804.000000 6234804.000000 6234804.000000   \n",
       "mean          -73.975147         40.753107      11.794359       0.336790   \n",
       "std             0.032859          0.030226      13.656476       0.472741   \n",
       "min           -74.256271         40.503670       0.010000       0.000000   \n",
       "25%           -73.991623         40.738148       6.500000       0.000000   \n",
       "50%           -73.980324         40.755207       9.500000       0.000000   \n",
       "75%           -73.964973         40.770172      14.000000       0.500000   \n",
       "max           -73.654541         40.931232   20043.770000     597.920000   \n",
       "\n",
       "             mta_tax     tip_amount   tolls_amount  improvement_surcharge  \\\n",
       "count 6234804.000000 6234804.000000 6234804.000000         6234804.000000   \n",
       "mean        0.498364       1.626972       0.183601               0.299991   \n",
       "std         0.037343       2.240872       1.326277               0.001634   \n",
       "min         0.000000       0.000000       0.000000               0.000000   \n",
       "25%         0.500000       0.000000       0.000000               0.300000   \n",
       "50%         0.500000       1.260000       0.000000               0.300000   \n",
       "75%         0.500000       2.300000       0.000000               0.300000   \n",
       "max        60.350000     854.850000     554.000000               0.300000   \n",
       "\n",
       "        total_amount       diff_sec         minute           hour  \n",
       "count 6234804.000000 6234804.000000 6234804.000000 6234804.000000  \n",
       "mean       14.743648     925.000094      29.572434      13.545683  \n",
       "std        15.095734    3246.471086      17.321659       6.424165  \n",
       "min         0.310000       1.000000       0.000000       0.000000  \n",
       "25%         8.750000     397.000000      15.000000       9.000000  \n",
       "50%        11.760000     655.000000      30.000000      14.000000  \n",
       "75%        16.800000    1043.000000      45.000000      19.000000  \n",
       "max     20044.070000   86398.000000      59.000000      23.000000  "
      ]
     },
     "execution_count": 20,
     "metadata": {},
     "output_type": "execute_result"
    }
   ],
   "source": [
    "taxi_clean.describe()"
   ]
  },
  {
   "cell_type": "markdown",
   "metadata": {},
   "source": [
    "Looks a lot better except for the extreme outliers. Let's remove all rows that are greater than the 99th percentile."
   ]
  },
  {
   "cell_type": "code",
   "execution_count": 21,
   "metadata": {
    "ExecuteTime": {
     "end_time": "2020-01-29T02:00:49.032861Z",
     "start_time": "2020-01-29T02:00:29.078908Z"
    }
   },
   "outputs": [],
   "source": [
    "#This is a bit lazy coding - sorry!\n",
    "numerical_cols = taxi_clean.describe().columns\n",
    "for cols in numerical_cols:\n",
    "    taxi_clean = taxi_clean[taxi_clean[cols]<=taxi_clean[cols].quantile(q=.99)]"
   ]
  },
  {
   "cell_type": "code",
   "execution_count": 22,
   "metadata": {
    "ExecuteTime": {
     "end_time": "2020-01-29T02:00:53.359459Z",
     "start_time": "2020-01-29T02:00:49.034636Z"
    }
   },
   "outputs": [
    {
     "data": {
      "text/html": [
       "<div>\n",
       "<style scoped>\n",
       "    .dataframe tbody tr th:only-of-type {\n",
       "        vertical-align: middle;\n",
       "    }\n",
       "\n",
       "    .dataframe tbody tr th {\n",
       "        vertical-align: top;\n",
       "    }\n",
       "\n",
       "    .dataframe thead th {\n",
       "        text-align: right;\n",
       "    }\n",
       "</style>\n",
       "<table border=\"1\" class=\"dataframe\">\n",
       "  <thead>\n",
       "    <tr style=\"text-align: right;\">\n",
       "      <th></th>\n",
       "      <th>passenger_count</th>\n",
       "      <th>trip_distance</th>\n",
       "      <th>pickup_longitude</th>\n",
       "      <th>pickup_latitude</th>\n",
       "      <th>dropoff_longitude</th>\n",
       "      <th>dropoff_latitude</th>\n",
       "      <th>fare_amount</th>\n",
       "      <th>extra</th>\n",
       "      <th>mta_tax</th>\n",
       "      <th>tip_amount</th>\n",
       "      <th>tolls_amount</th>\n",
       "      <th>improvement_surcharge</th>\n",
       "      <th>total_amount</th>\n",
       "      <th>diff_sec</th>\n",
       "      <th>minute</th>\n",
       "      <th>hour</th>\n",
       "    </tr>\n",
       "  </thead>\n",
       "  <tbody>\n",
       "    <tr>\n",
       "      <th>count</th>\n",
       "      <td>5664001.000000</td>\n",
       "      <td>5664001.000000</td>\n",
       "      <td>5664001.000000</td>\n",
       "      <td>5664001.000000</td>\n",
       "      <td>5664001.000000</td>\n",
       "      <td>5664001.000000</td>\n",
       "      <td>5664001.000000</td>\n",
       "      <td>5664001.000000</td>\n",
       "      <td>5664001.000000</td>\n",
       "      <td>5664001.000000</td>\n",
       "      <td>5664001.000000</td>\n",
       "      <td>5664001.000000</td>\n",
       "      <td>5664001.000000</td>\n",
       "      <td>5664001.000000</td>\n",
       "      <td>5664001.000000</td>\n",
       "      <td>5664001.000000</td>\n",
       "    </tr>\n",
       "    <tr>\n",
       "      <th>mean</th>\n",
       "      <td>1.652010</td>\n",
       "      <td>1.950035</td>\n",
       "      <td>-73.982429</td>\n",
       "      <td>40.752848</td>\n",
       "      <td>-73.979890</td>\n",
       "      <td>40.753177</td>\n",
       "      <td>10.007955</td>\n",
       "      <td>0.332631</td>\n",
       "      <td>0.499732</td>\n",
       "      <td>1.352433</td>\n",
       "      <td>0.000000</td>\n",
       "      <td>0.299996</td>\n",
       "      <td>12.495932</td>\n",
       "      <td>704.648333</td>\n",
       "      <td>29.602129</td>\n",
       "      <td>13.625471</td>\n",
       "    </tr>\n",
       "    <tr>\n",
       "      <th>std</th>\n",
       "      <td>1.300948</td>\n",
       "      <td>1.421757</td>\n",
       "      <td>0.015703</td>\n",
       "      <td>0.020348</td>\n",
       "      <td>0.018601</td>\n",
       "      <td>0.024140</td>\n",
       "      <td>4.790017</td>\n",
       "      <td>0.371068</td>\n",
       "      <td>0.011573</td>\n",
       "      <td>1.324166</td>\n",
       "      <td>0.000000</td>\n",
       "      <td>0.001092</td>\n",
       "      <td>5.493915</td>\n",
       "      <td>419.188096</td>\n",
       "      <td>17.319056</td>\n",
       "      <td>6.398463</td>\n",
       "    </tr>\n",
       "    <tr>\n",
       "      <th>min</th>\n",
       "      <td>1.000000</td>\n",
       "      <td>0.000000</td>\n",
       "      <td>-74.053284</td>\n",
       "      <td>40.692238</td>\n",
       "      <td>-74.179436</td>\n",
       "      <td>40.518108</td>\n",
       "      <td>0.010000</td>\n",
       "      <td>0.000000</td>\n",
       "      <td>0.000000</td>\n",
       "      <td>0.000000</td>\n",
       "      <td>0.000000</td>\n",
       "      <td>0.000000</td>\n",
       "      <td>0.310000</td>\n",
       "      <td>1.000000</td>\n",
       "      <td>0.000000</td>\n",
       "      <td>0.000000</td>\n",
       "    </tr>\n",
       "    <tr>\n",
       "      <th>25%</th>\n",
       "      <td>1.000000</td>\n",
       "      <td>0.970000</td>\n",
       "      <td>-73.993034</td>\n",
       "      <td>40.739464</td>\n",
       "      <td>-73.992081</td>\n",
       "      <td>40.738941</td>\n",
       "      <td>6.500000</td>\n",
       "      <td>0.000000</td>\n",
       "      <td>0.500000</td>\n",
       "      <td>0.000000</td>\n",
       "      <td>0.000000</td>\n",
       "      <td>0.300000</td>\n",
       "      <td>8.300000</td>\n",
       "      <td>382.000000</td>\n",
       "      <td>15.000000</td>\n",
       "      <td>9.000000</td>\n",
       "    </tr>\n",
       "    <tr>\n",
       "      <th>50%</th>\n",
       "      <td>1.000000</td>\n",
       "      <td>1.520000</td>\n",
       "      <td>-73.983070</td>\n",
       "      <td>40.753841</td>\n",
       "      <td>-73.981483</td>\n",
       "      <td>40.754730</td>\n",
       "      <td>9.000000</td>\n",
       "      <td>0.500000</td>\n",
       "      <td>0.500000</td>\n",
       "      <td>1.250000</td>\n",
       "      <td>0.000000</td>\n",
       "      <td>0.300000</td>\n",
       "      <td>11.300000</td>\n",
       "      <td>617.000000</td>\n",
       "      <td>30.000000</td>\n",
       "      <td>14.000000</td>\n",
       "    </tr>\n",
       "    <tr>\n",
       "      <th>75%</th>\n",
       "      <td>2.000000</td>\n",
       "      <td>2.500000</td>\n",
       "      <td>-73.972206</td>\n",
       "      <td>40.766350</td>\n",
       "      <td>-73.969048</td>\n",
       "      <td>40.768291</td>\n",
       "      <td>12.500000</td>\n",
       "      <td>0.500000</td>\n",
       "      <td>0.500000</td>\n",
       "      <td>2.150000</td>\n",
       "      <td>0.000000</td>\n",
       "      <td>0.300000</td>\n",
       "      <td>15.350000</td>\n",
       "      <td>946.000000</td>\n",
       "      <td>45.000000</td>\n",
       "      <td>19.000000</td>\n",
       "    </tr>\n",
       "    <tr>\n",
       "      <th>max</th>\n",
       "      <td>6.000000</td>\n",
       "      <td>16.400000</td>\n",
       "      <td>-73.945190</td>\n",
       "      <td>40.803062</td>\n",
       "      <td>-73.865150</td>\n",
       "      <td>40.826736</td>\n",
       "      <td>31.500000</td>\n",
       "      <td>1.000000</td>\n",
       "      <td>0.500000</td>\n",
       "      <td>6.450000</td>\n",
       "      <td>0.000000</td>\n",
       "      <td>0.300000</td>\n",
       "      <td>32.160000</td>\n",
       "      <td>2129.000000</td>\n",
       "      <td>59.000000</td>\n",
       "      <td>23.000000</td>\n",
       "    </tr>\n",
       "  </tbody>\n",
       "</table>\n",
       "</div>"
      ],
      "text/plain": [
       "       passenger_count  trip_distance  pickup_longitude  pickup_latitude  \\\n",
       "count   5664001.000000 5664001.000000    5664001.000000   5664001.000000   \n",
       "mean          1.652010       1.950035        -73.982429        40.752848   \n",
       "std           1.300948       1.421757          0.015703         0.020348   \n",
       "min           1.000000       0.000000        -74.053284        40.692238   \n",
       "25%           1.000000       0.970000        -73.993034        40.739464   \n",
       "50%           1.000000       1.520000        -73.983070        40.753841   \n",
       "75%           2.000000       2.500000        -73.972206        40.766350   \n",
       "max           6.000000      16.400000        -73.945190        40.803062   \n",
       "\n",
       "       dropoff_longitude  dropoff_latitude    fare_amount          extra  \\\n",
       "count     5664001.000000    5664001.000000 5664001.000000 5664001.000000   \n",
       "mean          -73.979890         40.753177      10.007955       0.332631   \n",
       "std             0.018601          0.024140       4.790017       0.371068   \n",
       "min           -74.179436         40.518108       0.010000       0.000000   \n",
       "25%           -73.992081         40.738941       6.500000       0.000000   \n",
       "50%           -73.981483         40.754730       9.000000       0.500000   \n",
       "75%           -73.969048         40.768291      12.500000       0.500000   \n",
       "max           -73.865150         40.826736      31.500000       1.000000   \n",
       "\n",
       "             mta_tax     tip_amount   tolls_amount  improvement_surcharge  \\\n",
       "count 5664001.000000 5664001.000000 5664001.000000         5664001.000000   \n",
       "mean        0.499732       1.352433       0.000000               0.299996   \n",
       "std         0.011573       1.324166       0.000000               0.001092   \n",
       "min         0.000000       0.000000       0.000000               0.000000   \n",
       "25%         0.500000       0.000000       0.000000               0.300000   \n",
       "50%         0.500000       1.250000       0.000000               0.300000   \n",
       "75%         0.500000       2.150000       0.000000               0.300000   \n",
       "max         0.500000       6.450000       0.000000               0.300000   \n",
       "\n",
       "        total_amount       diff_sec         minute           hour  \n",
       "count 5664001.000000 5664001.000000 5664001.000000 5664001.000000  \n",
       "mean       12.495932     704.648333      29.602129      13.625471  \n",
       "std         5.493915     419.188096      17.319056       6.398463  \n",
       "min         0.310000       1.000000       0.000000       0.000000  \n",
       "25%         8.300000     382.000000      15.000000       9.000000  \n",
       "50%        11.300000     617.000000      30.000000      14.000000  \n",
       "75%        15.350000     946.000000      45.000000      19.000000  \n",
       "max        32.160000    2129.000000      59.000000      23.000000  "
      ]
     },
     "execution_count": 22,
     "metadata": {},
     "output_type": "execute_result"
    }
   ],
   "source": [
    "taxi_clean.describe()"
   ]
  },
  {
   "cell_type": "code",
   "execution_count": 23,
   "metadata": {
    "ExecuteTime": {
     "end_time": "2020-01-29T02:00:56.058472Z",
     "start_time": "2020-01-29T02:00:53.360964Z"
    }
   },
   "outputs": [
    {
     "data": {
      "text/plain": [
       "passenger_count          0\n",
       "trip_distance            0\n",
       "pickup_longitude         0\n",
       "pickup_latitude          0\n",
       "RatecodeID               0\n",
       "store_and_fwd_flag       0\n",
       "dropoff_longitude        0\n",
       "dropoff_latitude         0\n",
       "payment_type             0\n",
       "fare_amount              0\n",
       "extra                    0\n",
       "mta_tax                  0\n",
       "tip_amount               0\n",
       "tolls_amount             0\n",
       "improvement_surcharge    0\n",
       "total_amount             0\n",
       "month                    0\n",
       "dom                      0\n",
       "dow                      0\n",
       "diff_sec                 0\n",
       "pickup_boro              0\n",
       "dropoff_boro             0\n",
       "Borough                  0\n",
       "minute                   0\n",
       "hour                     0\n",
       "dtype: int64"
      ]
     },
     "execution_count": 23,
     "metadata": {},
     "output_type": "execute_result"
    }
   ],
   "source": [
    "#Any missing values?\n",
    "taxi_clean.isnull().sum()"
   ]
  },
  {
   "cell_type": "markdown",
   "metadata": {},
   "source": [
    "### Preliminary EDA and Aggregation"
   ]
  },
  {
   "cell_type": "markdown",
   "metadata": {},
   "source": [
    "One of the first thoughts that comes to mind are single unit passengers who hail a taxi in the same time and same location of another single unit passenger."
   ]
  },
  {
   "cell_type": "code",
   "execution_count": 24,
   "metadata": {
    "ExecuteTime": {
     "end_time": "2020-01-29T02:00:56.382430Z",
     "start_time": "2020-01-29T02:00:56.059826Z"
    }
   },
   "outputs": [
    {
     "data": {
      "text/plain": [
       "<matplotlib.axes._subplots.AxesSubplot at 0x1a40ac1eb8>"
      ]
     },
     "execution_count": 24,
     "metadata": {},
     "output_type": "execute_result"
    },
    {
     "data": {
      "image/png": "[encoded data removed]",
      "text/plain": [
       "<Figure size 432x288 with 1 Axes>"
      ]
     },
     "metadata": {
      "needs_background": "light"
     },
     "output_type": "display_data"
    }
   ],
   "source": [
    "#What is the distribution of passenger counts?\n",
    "sb.countplot(taxi_clean.passenger_count)"
   ]
  },
  {
   "cell_type": "markdown",
   "metadata": {},
   "source": [
    "A majority of taxi rides are single passenger rides - suggesting that there could be room for efficiency.\n",
    "\n",
    "Back to our original solution - let's groupby and count the number of taxis that are in the same five minutes, hour, and pickup and dropoff boro."
   ]
  },
  {
   "cell_type": "markdown",
   "metadata": {},
   "source": [
    "With the aggregated data, let's assume:\n",
    "* If passenger count = 1, the number of rides could be grouped into one ride \"i.e. divided by 6.\"\n",
    "* If passenger count = 2, the counts could be divded by 3.\n",
    "* If passenger count = 3, the counts could be divided by 2.\n",
    "* If passenger count >=4, the ride will be left alone.\n",
    "\n",
    "Then, round the resulting number up by one to determine the consolidated number of rides."
   ]
  },
  {
   "cell_type": "code",
   "execution_count": 25,
   "metadata": {
    "ExecuteTime": {
     "end_time": "2020-01-29T02:00:56.387328Z",
     "start_time": "2020-01-29T02:00:56.383664Z"
    }
   },
   "outputs": [],
   "source": [
    "def regroup(data):\n",
    "    if data.passenger_count ==1:\n",
    "        return math.ceil(data.counts/6)\n",
    "    if data.passenger_count ==2:\n",
    "        return math.ceil(data.counts/3)\n",
    "    if data.passenger_count ==3:\n",
    "        return math.ceil(data.counts/2)\n",
    "    if data.passenger_count >=4:\n",
    "        return data.counts\n",
    "    else:\n",
    "        return 0"
   ]
  },
  {
   "cell_type": "code",
   "execution_count": 26,
   "metadata": {
    "ExecuteTime": {
     "end_time": "2020-01-29T02:00:56.443844Z",
     "start_time": "2020-01-29T02:00:56.389068Z"
    }
   },
   "outputs": [],
   "source": [
    "#Round the times so that we can \"group\" rides within 5 minutes of one another.\n",
    "taxi_clean['5_minute'] = 5 * round(taxi_clean.minute/5)"
   ]
  },
  {
   "cell_type": "code",
   "execution_count": 27,
   "metadata": {
    "ExecuteTime": {
     "end_time": "2020-01-29T02:01:17.986841Z",
     "start_time": "2020-01-29T02:00:56.445433Z"
    }
   },
   "outputs": [],
   "source": [
    "agg_5 = taxi_clean.groupby(['5_minute','hour','dow','dom','pickup_boro','dropoff_boro','passenger_count']).size().reset_index()\n",
    "agg_5 = agg_5.rename(columns={0:'counts'})\n",
    "agg_5['cat'] = agg_5.parallel_apply(lambda row: regroup(row),axis=1)"
   ]
  },
  {
   "cell_type": "markdown",
   "metadata": {},
   "source": [
    "Compute the efficiency column for each combination, that is percent reduction in vehicles from taxi to Via."
   ]
  },
  {
   "cell_type": "code",
   "execution_count": 28,
   "metadata": {
    "ExecuteTime": {
     "end_time": "2020-01-29T02:01:18.017839Z",
     "start_time": "2020-01-29T02:01:17.989125Z"
    }
   },
   "outputs": [],
   "source": [
    "agg_5['eff'] = (agg_5.counts-agg_5.cat)/agg_5.counts"
   ]
  },
  {
   "cell_type": "code",
   "execution_count": 29,
   "metadata": {
    "ExecuteTime": {
     "end_time": "2020-01-29T02:01:18.161826Z",
     "start_time": "2020-01-29T02:01:18.019582Z"
    }
   },
   "outputs": [
    {
     "data": {
      "text/plain": [
       "0.36787052120930064"
      ]
     },
     "execution_count": 29,
     "metadata": {},
     "output_type": "execute_result"
    }
   ],
   "source": [
    "#What is the overall efficiency?\n",
    "\n",
    "(sum(agg_5.counts) - sum(agg_5.cat)) / sum(agg_5.counts)"
   ]
  },
  {
   "cell_type": "code",
   "execution_count": 30,
   "metadata": {
    "ExecuteTime": {
     "end_time": "2020-01-29T02:01:18.350155Z",
     "start_time": "2020-01-29T02:01:18.163999Z"
    }
   },
   "outputs": [
    {
     "name": "stdout",
     "output_type": "stream",
     "text": [
      "5664001\n",
      "3580382\n",
      "2083619\n"
     ]
    }
   ],
   "source": [
    "print(sum(agg_5.counts)) #raw number of rides\n",
    "print(sum(agg_5.cat)) #consolidated number of rides\n",
    "print(sum(agg_5.counts)-sum(agg_5.cat))"
   ]
  },
  {
   "cell_type": "code",
   "execution_count": 41,
   "metadata": {
    "ExecuteTime": {
     "end_time": "2020-01-29T02:43:08.304911Z",
     "start_time": "2020-01-29T02:43:07.999943Z"
    }
   },
   "outputs": [
    {
     "data": {
      "text/plain": [
       "Text(0, 0.5, 'Efficiency')"
      ]
     },
     "execution_count": 41,
     "metadata": {},
     "output_type": "execute_result"
    },
    {
     "data": {
      "image/png": "[encoded data removed]",
      "text/plain": [
       "<Figure size 576x360 with 1 Axes>"
      ]
     },
     "metadata": {
      "needs_background": "light"
     },
     "output_type": "display_data"
    }
   ],
   "source": [
    "#How does efficiency vary by time?\n",
    "avg = agg_5[['hour','counts','cat']].groupby('hour').sum()\n",
    "avg['eff'] = (avg.counts - avg.cat) / avg.counts\n",
    "\n",
    "plt.figure(figsize=(8,5))\n",
    "a = sb.lineplot(x=avg.index,y=avg.eff)\n",
    "\n",
    "a.set_title(\"Efficiency by Hour\", fontsize=15)\n",
    "a.set_xlabel(\"Hour\",fontsize=15)\n",
    "a.set_ylabel(\"Efficiency\",fontsize=15)"
   ]
  },
  {
   "cell_type": "code",
   "execution_count": 32,
   "metadata": {
    "ExecuteTime": {
     "end_time": "2020-01-29T02:01:19.145174Z",
     "start_time": "2020-01-29T02:01:18.777222Z"
    }
   },
   "outputs": [
    {
     "data": {
      "text/plain": [
       "<matplotlib.legend.Legend at 0x1a54132588>"
      ]
     },
     "execution_count": 32,
     "metadata": {},
     "output_type": "execute_result"
    },
    {
     "data": {
      "image/png": "[encoded data removed]",
      "text/plain": [
       "<Figure size 576x360 with 1 Axes>"
      ]
     },
     "metadata": {
      "needs_background": "light"
     },
     "output_type": "display_data"
    }
   ],
   "source": [
    "#How many rides are there per hour?\n",
    "plt.figure(figsize=(8,5))\n",
    "avg_counts = agg_5[['hour','passenger_count','counts']].groupby(['hour','passenger_count']).sum().reset_index()\n",
    "\n",
    "ridescount = sb.lineplot(x=avg_counts.hour, y=avg_counts.counts, hue = avg_counts.passenger_count)\n",
    "ridescount.set_title(\"Taxi Rides by Hour by Passenger Count\")\n",
    "ridescount.set_xlabel(\"Hour\")\n",
    "ridescount.set_ylabel(\"Taxi Rides\")\n",
    "plt.legend(title='Passenger Count', loc='upper left', labels=['1', '2','3','4','5','6'])"
   ]
  },
  {
   "cell_type": "markdown",
   "metadata": {},
   "source": [
    "### Efficiency with Location"
   ]
  },
  {
   "cell_type": "code",
   "execution_count": 33,
   "metadata": {
    "ExecuteTime": {
     "end_time": "2020-01-29T02:01:19.371372Z",
     "start_time": "2020-01-29T02:01:19.146489Z"
    }
   },
   "outputs": [
    {
     "data": {
      "text/html": [
       "<div>\n",
       "<style scoped>\n",
       "    .dataframe tbody tr th:only-of-type {\n",
       "        vertical-align: middle;\n",
       "    }\n",
       "\n",
       "    .dataframe tbody tr th {\n",
       "        vertical-align: top;\n",
       "    }\n",
       "\n",
       "    .dataframe thead th {\n",
       "        text-align: right;\n",
       "    }\n",
       "</style>\n",
       "<table border=\"1\" class=\"dataframe\">\n",
       "  <thead>\n",
       "    <tr style=\"text-align: right;\">\n",
       "      <th></th>\n",
       "      <th>counts</th>\n",
       "      <th>cat</th>\n",
       "      <th>eff</th>\n",
       "    </tr>\n",
       "    <tr>\n",
       "      <th>pickup_boro</th>\n",
       "      <th></th>\n",
       "      <th></th>\n",
       "      <th></th>\n",
       "    </tr>\n",
       "  </thead>\n",
       "  <tbody>\n",
       "    <tr>\n",
       "      <th>Midtown South</th>\n",
       "      <td>499629</td>\n",
       "      <td>264435</td>\n",
       "      <td>0.470737</td>\n",
       "    </tr>\n",
       "    <tr>\n",
       "      <th>Murray Hill</th>\n",
       "      <td>412066</td>\n",
       "      <td>222782</td>\n",
       "      <td>0.459354</td>\n",
       "    </tr>\n",
       "    <tr>\n",
       "      <th>Lincoln Square</th>\n",
       "      <td>322629</td>\n",
       "      <td>177999</td>\n",
       "      <td>0.448286</td>\n",
       "    </tr>\n",
       "    <tr>\n",
       "      <th>Midtown</th>\n",
       "      <td>371696</td>\n",
       "      <td>208739</td>\n",
       "      <td>0.438415</td>\n",
       "    </tr>\n",
       "    <tr>\n",
       "      <th>Upper West Side</th>\n",
       "      <td>267160</td>\n",
       "      <td>150348</td>\n",
       "      <td>0.437236</td>\n",
       "    </tr>\n",
       "    <tr>\n",
       "      <th>Carnegie Hill</th>\n",
       "      <td>241971</td>\n",
       "      <td>140196</td>\n",
       "      <td>0.420608</td>\n",
       "    </tr>\n",
       "    <tr>\n",
       "      <th>Flatiron</th>\n",
       "      <td>337439</td>\n",
       "      <td>196249</td>\n",
       "      <td>0.418416</td>\n",
       "    </tr>\n",
       "    <tr>\n",
       "      <th>Tudor City</th>\n",
       "      <td>300581</td>\n",
       "      <td>175577</td>\n",
       "      <td>0.415875</td>\n",
       "    </tr>\n",
       "    <tr>\n",
       "      <th>Clinton</th>\n",
       "      <td>284450</td>\n",
       "      <td>167606</td>\n",
       "      <td>0.410772</td>\n",
       "    </tr>\n",
       "    <tr>\n",
       "      <th>Sutton Place</th>\n",
       "      <td>211203</td>\n",
       "      <td>126579</td>\n",
       "      <td>0.400676</td>\n",
       "    </tr>\n",
       "    <tr>\n",
       "      <th>Upper East Side</th>\n",
       "      <td>168292</td>\n",
       "      <td>101985</td>\n",
       "      <td>0.394000</td>\n",
       "    </tr>\n",
       "    <tr>\n",
       "      <th>Turtle Bay</th>\n",
       "      <td>223167</td>\n",
       "      <td>137008</td>\n",
       "      <td>0.386074</td>\n",
       "    </tr>\n",
       "    <tr>\n",
       "      <th>Lenox Hill</th>\n",
       "      <td>168584</td>\n",
       "      <td>109763</td>\n",
       "      <td>0.348912</td>\n",
       "    </tr>\n",
       "    <tr>\n",
       "      <th>Chelsea</th>\n",
       "      <td>215521</td>\n",
       "      <td>140466</td>\n",
       "      <td>0.348249</td>\n",
       "    </tr>\n",
       "    <tr>\n",
       "      <th>Manhattan Valley</th>\n",
       "      <td>105048</td>\n",
       "      <td>72450</td>\n",
       "      <td>0.310315</td>\n",
       "    </tr>\n",
       "    <tr>\n",
       "      <th>Gramercy</th>\n",
       "      <td>162909</td>\n",
       "      <td>113384</td>\n",
       "      <td>0.304004</td>\n",
       "    </tr>\n",
       "    <tr>\n",
       "      <th>West Village</th>\n",
       "      <td>178244</td>\n",
       "      <td>125195</td>\n",
       "      <td>0.297620</td>\n",
       "    </tr>\n",
       "    <tr>\n",
       "      <th>Noho</th>\n",
       "      <td>205726</td>\n",
       "      <td>146352</td>\n",
       "      <td>0.288607</td>\n",
       "    </tr>\n",
       "    <tr>\n",
       "      <th>Greenwich Village</th>\n",
       "      <td>158966</td>\n",
       "      <td>114373</td>\n",
       "      <td>0.280519</td>\n",
       "    </tr>\n",
       "    <tr>\n",
       "      <th>Yorkville</th>\n",
       "      <td>90773</td>\n",
       "      <td>67186</td>\n",
       "      <td>0.259846</td>\n",
       "    </tr>\n",
       "    <tr>\n",
       "      <th>Battery Park City</th>\n",
       "      <td>76540</td>\n",
       "      <td>61787</td>\n",
       "      <td>0.192749</td>\n",
       "    </tr>\n",
       "    <tr>\n",
       "      <th>Civic Center</th>\n",
       "      <td>104770</td>\n",
       "      <td>85399</td>\n",
       "      <td>0.184891</td>\n",
       "    </tr>\n",
       "    <tr>\n",
       "      <th>East Village</th>\n",
       "      <td>98020</td>\n",
       "      <td>80144</td>\n",
       "      <td>0.182371</td>\n",
       "    </tr>\n",
       "    <tr>\n",
       "      <th>Little Italy</th>\n",
       "      <td>85619</td>\n",
       "      <td>71470</td>\n",
       "      <td>0.165255</td>\n",
       "    </tr>\n",
       "    <tr>\n",
       "      <th>Financial District</th>\n",
       "      <td>84159</td>\n",
       "      <td>70358</td>\n",
       "      <td>0.163987</td>\n",
       "    </tr>\n",
       "    <tr>\n",
       "      <th>Tribeca</th>\n",
       "      <td>60231</td>\n",
       "      <td>50851</td>\n",
       "      <td>0.155734</td>\n",
       "    </tr>\n",
       "    <tr>\n",
       "      <th>Roosevelt Island</th>\n",
       "      <td>42042</td>\n",
       "      <td>35621</td>\n",
       "      <td>0.152728</td>\n",
       "    </tr>\n",
       "    <tr>\n",
       "      <th>Chinatown</th>\n",
       "      <td>75186</td>\n",
       "      <td>64340</td>\n",
       "      <td>0.144256</td>\n",
       "    </tr>\n",
       "    <tr>\n",
       "      <th>Soho</th>\n",
       "      <td>56737</td>\n",
       "      <td>49870</td>\n",
       "      <td>0.121032</td>\n",
       "    </tr>\n",
       "    <tr>\n",
       "      <th>Stuyvesant Town</th>\n",
       "      <td>26255</td>\n",
       "      <td>24372</td>\n",
       "      <td>0.071720</td>\n",
       "    </tr>\n",
       "    <tr>\n",
       "      <th>East Harlem</th>\n",
       "      <td>8063</td>\n",
       "      <td>7732</td>\n",
       "      <td>0.041052</td>\n",
       "    </tr>\n",
       "    <tr>\n",
       "      <th>Lower East Side</th>\n",
       "      <td>12154</td>\n",
       "      <td>11762</td>\n",
       "      <td>0.032253</td>\n",
       "    </tr>\n",
       "    <tr>\n",
       "      <th>Manhattanville</th>\n",
       "      <td>4986</td>\n",
       "      <td>4853</td>\n",
       "      <td>0.026675</td>\n",
       "    </tr>\n",
       "    <tr>\n",
       "      <th>Morningside Heights</th>\n",
       "      <td>2513</td>\n",
       "      <td>2480</td>\n",
       "      <td>0.013132</td>\n",
       "    </tr>\n",
       "    <tr>\n",
       "      <th>Hamilton Heights</th>\n",
       "      <td>672</td>\n",
       "      <td>671</td>\n",
       "      <td>0.001488</td>\n",
       "    </tr>\n",
       "  </tbody>\n",
       "</table>\n",
       "</div>"
      ],
      "text/plain": [
       "                     counts     cat      eff\n",
       "pickup_boro                                 \n",
       "Midtown South        499629  264435 0.470737\n",
       "Murray Hill          412066  222782 0.459354\n",
       "Lincoln Square       322629  177999 0.448286\n",
       "Midtown              371696  208739 0.438415\n",
       "Upper West Side      267160  150348 0.437236\n",
       "Carnegie Hill        241971  140196 0.420608\n",
       "Flatiron             337439  196249 0.418416\n",
       "Tudor City           300581  175577 0.415875\n",
       "Clinton              284450  167606 0.410772\n",
       "Sutton Place         211203  126579 0.400676\n",
       "Upper East Side      168292  101985 0.394000\n",
       "Turtle Bay           223167  137008 0.386074\n",
       "Lenox Hill           168584  109763 0.348912\n",
       "Chelsea              215521  140466 0.348249\n",
       "Manhattan Valley     105048   72450 0.310315\n",
       "Gramercy             162909  113384 0.304004\n",
       "West Village         178244  125195 0.297620\n",
       "Noho                 205726  146352 0.288607\n",
       "Greenwich Village    158966  114373 0.280519\n",
       "Yorkville             90773   67186 0.259846\n",
       "Battery Park City     76540   61787 0.192749\n",
       "Civic Center         104770   85399 0.184891\n",
       "East Village          98020   80144 0.182371\n",
       "Little Italy          85619   71470 0.165255\n",
       "Financial District    84159   70358 0.163987\n",
       "Tribeca               60231   50851 0.155734\n",
       "Roosevelt Island      42042   35621 0.152728\n",
       "Chinatown             75186   64340 0.144256\n",
       "Soho                  56737   49870 0.121032\n",
       "Stuyvesant Town       26255   24372 0.071720\n",
       "East Harlem            8063    7732 0.041052\n",
       "Lower East Side       12154   11762 0.032253\n",
       "Manhattanville         4986    4853 0.026675\n",
       "Morningside Heights    2513    2480 0.013132\n",
       "Hamilton Heights        672     671 0.001488"
      ]
     },
     "execution_count": 33,
     "metadata": {},
     "output_type": "execute_result"
    }
   ],
   "source": [
    "#How does efficiency vary by location?\n",
    "avg_loc = agg_5[['pickup_boro','counts','cat']].groupby('pickup_boro').sum()\n",
    "avg_loc['eff'] = (avg_loc.counts - avg_loc.cat) / avg_loc.counts\n",
    "avg_loc.sort_values(by='eff',ascending=False)"
   ]
  },
  {
   "cell_type": "code",
   "execution_count": 34,
   "metadata": {
    "ExecuteTime": {
     "end_time": "2020-01-29T02:01:19.411760Z",
     "start_time": "2020-01-29T02:01:19.372633Z"
    }
   },
   "outputs": [],
   "source": [
    "directory = '/Users/james.fung/Desktop/test_scripts/via/shapefiles/neighborhoods/geo_export_27b1a29a-9f6c-49be-8453-6258a1a1181e.shp'\n",
    "geo = GeoDataFrame.from_file(directory) #read in shape file\n",
    "geo = geo[geo.borough == 'Manhattan']"
   ]
  },
  {
   "cell_type": "code",
   "execution_count": 35,
   "metadata": {
    "ExecuteTime": {
     "end_time": "2020-01-29T02:01:19.606980Z",
     "start_time": "2020-01-29T02:01:19.413469Z"
    }
   },
   "outputs": [],
   "source": [
    "test_map = agg_5[['pickup_boro','counts','cat']].groupby('pickup_boro').sum().merge(geo, how='left', left_on='pickup_boro', right_on='name')\n",
    "test_map['eff'] = (test_map.counts - test_map.cat) / test_map.counts\n",
    "test_map = test_map[['eff','geometry']]\n",
    "test_map = GeoDataFrame(test_map)"
   ]
  },
  {
   "cell_type": "code",
   "execution_count": 36,
   "metadata": {
    "ExecuteTime": {
     "end_time": "2020-01-29T02:01:19.669298Z",
     "start_time": "2020-01-29T02:01:19.608725Z"
    }
   },
   "outputs": [],
   "source": [
    "#To create the polygons.\n",
    "directory2 = '/Users/james.fung/Desktop/test_scripts/via/shapefiles/NTA map/geo_export_424d2aca-1b21-43a4-ad0a-1aab8fdbfa6d.shp'\n",
    "geo2 = GeoDataFrame.from_file(directory2) #read in shape file\n",
    "geo2 = geo2[geo2.boroname == 'Manhattan']\n",
    "geo2.head(10)\n",
    "geo2 = GeoDataFrame(geo2[['geometry']])"
   ]
  },
  {
   "cell_type": "code",
   "execution_count": 37,
   "metadata": {
    "ExecuteTime": {
     "end_time": "2020-01-29T02:01:19.834138Z",
     "start_time": "2020-01-29T02:01:19.670688Z"
    }
   },
   "outputs": [
    {
     "data": {
      "image/png": "[encoded data removed]",
      "text/plain": [
       "<Figure size 432x432 with 1 Axes>"
      ]
     },
     "metadata": {
      "needs_background": "light"
     },
     "output_type": "display_data"
    }
   ],
   "source": [
    "#Plotting the data\n",
    "fig, ax = plt.subplots(figsize = (6,6))\n",
    "\n",
    "geo2.plot(alpha=1,linewidth=0.1, ax=ax, color='grey')\n",
    "test_map.plot(column='eff', cmap='Reds',alpha=1,linewidth=.5, ax=ax)\n",
    "\n",
    "plt.title('Overall Efficiency', size=15)\n",
    "plt.show()"
   ]
  },
  {
   "cell_type": "markdown",
   "metadata": {},
   "source": [
    "What is the efficiency at various times? Let's create buckets for the various activity times."
   ]
  },
  {
   "cell_type": "code",
   "execution_count": 38,
   "metadata": {
    "ExecuteTime": {
     "end_time": "2020-01-29T02:01:20.306465Z",
     "start_time": "2020-01-29T02:01:19.835477Z"
    }
   },
   "outputs": [],
   "source": [
    "peak = agg_5[(agg_5.hour >= 6) & (agg_5.hour<=17)][['pickup_boro','counts','cat']].groupby('pickup_boro').sum().merge(geo, how='left', left_on='pickup_boro', right_on='name')\n",
    "peak['eff'] = (peak.counts - peak.cat) / peak.counts\n",
    "peak = peak[['eff','geometry']]\n",
    "peak = GeoDataFrame(peak)\n",
    "\n",
    "off = agg_5[(agg_5.hour > 0) & (agg_5.hour<5)][['pickup_boro','counts','cat']].groupby('pickup_boro').sum().merge(geo, how='left', left_on='pickup_boro', right_on='name')\n",
    "off['eff'] = (off.counts - off.cat) / off.counts\n",
    "off = off[['eff','geometry']]\n",
    "off = GeoDataFrame(off)\n",
    "\n",
    "eve = agg_5[(agg_5.hour > 17) & (agg_5.hour<=23)][['pickup_boro','counts','cat']].groupby('pickup_boro').sum().merge(geo, how='left', left_on='pickup_boro', right_on='name')\n",
    "eve['eff'] = (eve.counts - eve.cat) / eve.counts\n",
    "eve = eve[['eff','geometry']]\n",
    "eve = GeoDataFrame(eve)"
   ]
  },
  {
   "cell_type": "code",
   "execution_count": 42,
   "metadata": {
    "ExecuteTime": {
     "end_time": "2020-01-29T02:45:28.129720Z",
     "start_time": "2020-01-29T02:45:27.637367Z"
    }
   },
   "outputs": [
    {
     "data": {
      "image/png": "[encoded data removed]",
      "text/plain": [
       "<Figure size 864x864 with 3 Axes>"
      ]
     },
     "metadata": {
      "needs_background": "light"
     },
     "output_type": "display_data"
    }
   ],
   "source": [
    "fig, axes = plt.subplots(nrows=1, ncols=3, figsize=(12, 12))\n",
    "plt.tight_layout()\n",
    "\n",
    "ax1, ax2, ax3 = axes\n",
    "\n",
    "geo2.plot(alpha=1,linewidth=0.1, ax=ax1, color='grey')\n",
    "off.plot(column='eff', cmap='Reds',alpha=1,linewidth=.5, ax=ax1, vmin=0, vmax=.50)\n",
    "ax1.set_title('Efficiency - Off (12am-5pm)', size = 12)\n",
    "ax1.axis(\"off\")\n",
    "\n",
    "geo2.plot(alpha=1,linewidth=0.1, ax=ax2, color='grey')\n",
    "peak.plot(column='eff', cmap='Reds',alpha=1,linewidth=.5, ax=ax2, vmin = 0, vmax=.50)\n",
    "ax2.set_title('Efficiency - Peak (6am-6pm)', size = 12)\n",
    "ax2.axis(\"off\")\n",
    "\n",
    "geo2.plot(alpha=1,linewidth=0.1, ax=ax3, color='grey')\n",
    "eve.plot(column='eff', cmap='Reds',alpha=1,linewidth=.5, ax=ax3, vmin = 0, vmax=.50)\n",
    "ax3.set_title('Efficiency - Evening (7pm to 12am)', size=12)\n",
    "ax3.axis(\"off\")\n",
    "\n",
    "plt.show()"
   ]
  },
  {
   "cell_type": "code",
   "execution_count": 40,
   "metadata": {
    "ExecuteTime": {
     "end_time": "2020-01-29T02:01:20.970621Z",
     "start_time": "2020-01-29T02:01:20.737085Z"
    }
   },
   "outputs": [
    {
     "data": {
      "text/html": [
       "<div>\n",
       "<style scoped>\n",
       "    .dataframe tbody tr th:only-of-type {\n",
       "        vertical-align: middle;\n",
       "    }\n",
       "\n",
       "    .dataframe tbody tr th {\n",
       "        vertical-align: top;\n",
       "    }\n",
       "\n",
       "    .dataframe thead th {\n",
       "        text-align: right;\n",
       "    }\n",
       "</style>\n",
       "<table border=\"1\" class=\"dataframe\">\n",
       "  <thead>\n",
       "    <tr style=\"text-align: right;\">\n",
       "      <th></th>\n",
       "      <th>counts</th>\n",
       "    </tr>\n",
       "    <tr>\n",
       "      <th>pickup_boro</th>\n",
       "      <th></th>\n",
       "    </tr>\n",
       "  </thead>\n",
       "  <tbody>\n",
       "    <tr>\n",
       "      <th>Midtown South</th>\n",
       "      <td>499629</td>\n",
       "    </tr>\n",
       "    <tr>\n",
       "      <th>Murray Hill</th>\n",
       "      <td>412066</td>\n",
       "    </tr>\n",
       "    <tr>\n",
       "      <th>Midtown</th>\n",
       "      <td>371696</td>\n",
       "    </tr>\n",
       "    <tr>\n",
       "      <th>Flatiron</th>\n",
       "      <td>337439</td>\n",
       "    </tr>\n",
       "    <tr>\n",
       "      <th>Lincoln Square</th>\n",
       "      <td>322629</td>\n",
       "    </tr>\n",
       "    <tr>\n",
       "      <th>Tudor City</th>\n",
       "      <td>300581</td>\n",
       "    </tr>\n",
       "    <tr>\n",
       "      <th>Clinton</th>\n",
       "      <td>284450</td>\n",
       "    </tr>\n",
       "    <tr>\n",
       "      <th>Upper West Side</th>\n",
       "      <td>267160</td>\n",
       "    </tr>\n",
       "    <tr>\n",
       "      <th>Carnegie Hill</th>\n",
       "      <td>241971</td>\n",
       "    </tr>\n",
       "    <tr>\n",
       "      <th>Turtle Bay</th>\n",
       "      <td>223167</td>\n",
       "    </tr>\n",
       "  </tbody>\n",
       "</table>\n",
       "</div>"
      ],
      "text/plain": [
       "                 counts\n",
       "pickup_boro            \n",
       "Midtown South    499629\n",
       "Murray Hill      412066\n",
       "Midtown          371696\n",
       "Flatiron         337439\n",
       "Lincoln Square   322629\n",
       "Tudor City       300581\n",
       "Clinton          284450\n",
       "Upper West Side  267160\n",
       "Carnegie Hill    241971\n",
       "Turtle Bay       223167"
      ]
     },
     "execution_count": 40,
     "metadata": {},
     "output_type": "execute_result"
    }
   ],
   "source": [
    "#Counts of ride from each boro.\n",
    "agg_5[['pickup_boro','counts']].groupby('pickup_boro').sum().sort_values(by='counts',ascending=False).head(10)"
   ]
  }
 ],
 "metadata": {
  "kernelspec": {
   "display_name": "Python 3",
   "language": "python",
   "name": "python3"
  },
  "language_info": {
   "codemirror_mode": {
    "name": "ipython",
    "version": 3
   },
   "file_extension": ".py",
   "mimetype": "text/x-python",
   "name": "python",
   "nbconvert_exporter": "python",
   "pygments_lexer": "ipython3",
   "version": "3.7.1"
  }
 },
 "nbformat": 4,
 "nbformat_minor": 2
}
