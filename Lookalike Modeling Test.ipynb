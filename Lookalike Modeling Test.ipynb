{
 "cells": [
  {
   "cell_type": "markdown",
   "metadata": {},
   "source": [
    "## Lookalike Modeling Test\n",
    "\n",
    "Author: James Fung  \n",
    "Target: Cat Food Purchasers"
   ]
  },
  {
   "cell_type": "code",
   "execution_count": 1,
   "metadata": {},
   "outputs": [],
   "source": [
    "#Load libraries.\n",
    "\n",
    "from IPython.display import clear_output\n",
    "import timeit\n",
    "\n",
    "import pandas as pd\n",
    "import seaborn as sb\n",
    "import numpy as np\n",
    "\n",
    "#Figure size.\n",
    "from matplotlib import rcParams\n",
    "# figure size in inches\n",
    "rcParams['figure.figsize'] = 7,5\n",
    "\n",
    "#Reduction techniques.\n",
    "from sklearn.decomposition import PCA\n",
    "\n",
    "import gc"
   ]
  },
  {
   "cell_type": "code",
   "execution_count": 2,
   "metadata": {},
   "outputs": [],
   "source": [
    "data = pd.read_csv(\"/Users/james.fung/Desktop/Test Scripts/Cat Food Model/catdata.csv\")"
   ]
  },
  {
   "cell_type": "markdown",
   "metadata": {},
   "source": [
    "### Data Pre-Processing"
   ]
  },
  {
   "cell_type": "code",
   "execution_count": 3,
   "metadata": {},
   "outputs": [],
   "source": [
    "#Drop useless columns.\n",
    "\n",
    "data2 = data.drop(['household_idl','latitude','longitude','censustract','censusblock','fipscounty','dma','cbsa','update_identifier'],axis=1)"
   ]
  },
  {
   "cell_type": "code",
   "execution_count": 4,
   "metadata": {},
   "outputs": [
    {
     "data": {
      "text/html": [
       "<div>\n",
       "<style scoped>\n",
       "    .dataframe tbody tr th:only-of-type {\n",
       "        vertical-align: middle;\n",
       "    }\n",
       "\n",
       "    .dataframe tbody tr th {\n",
       "        vertical-align: top;\n",
       "    }\n",
       "\n",
       "    .dataframe thead th {\n",
       "        text-align: right;\n",
       "    }\n",
       "</style>\n",
       "<table border=\"1\" class=\"dataframe\">\n",
       "  <thead>\n",
       "    <tr style=\"text-align: right;\">\n",
       "      <th></th>\n",
       "      <th>target</th>\n",
       "      <th>attribute_name</th>\n",
       "      <th>attribute_value</th>\n",
       "      <th>idl_id</th>\n",
       "      <th>fipsstate</th>\n",
       "      <th>age_years</th>\n",
       "      <th>gender</th>\n",
       "      <th>marital_status</th>\n",
       "      <th>presence_child</th>\n",
       "      <th>num_adults</th>\n",
       "      <th>num_children</th>\n",
       "      <th>hh_size</th>\n",
       "      <th>income_level</th>\n",
       "      <th>head_hh_educ</th>\n",
       "      <th>own_rent</th>\n",
       "      <th>home_lor</th>\n",
       "    </tr>\n",
       "  </thead>\n",
       "  <tbody>\n",
       "    <tr>\n",
       "      <th>0</th>\n",
       "      <td>0</td>\n",
       "      <td>8441_8</td>\n",
       "      <td>1</td>\n",
       "      <td>XY1324-aSCj2ZDHYbkRaErWMfEQAXdbZ4rw4B7qsyd2RxvtsQ</td>\n",
       "      <td>8.0</td>\n",
       "      <td>44.0</td>\n",
       "      <td>F</td>\n",
       "      <td>S</td>\n",
       "      <td>Y</td>\n",
       "      <td>2.0</td>\n",
       "      <td>3.0</td>\n",
       "      <td>5.0</td>\n",
       "      <td>9.0</td>\n",
       "      <td>3.0</td>\n",
       "      <td>O</td>\n",
       "      <td>3.0</td>\n",
       "    </tr>\n",
       "    <tr>\n",
       "      <th>1</th>\n",
       "      <td>0</td>\n",
       "      <td>8561_9</td>\n",
       "      <td>1</td>\n",
       "      <td>XY1324-aSCj2ZDHYbkRaErWMfEQAXdbZ4rw4B7qsyd2RxvtsQ</td>\n",
       "      <td>8.0</td>\n",
       "      <td>44.0</td>\n",
       "      <td>F</td>\n",
       "      <td>S</td>\n",
       "      <td>Y</td>\n",
       "      <td>2.0</td>\n",
       "      <td>3.0</td>\n",
       "      <td>5.0</td>\n",
       "      <td>9.0</td>\n",
       "      <td>3.0</td>\n",
       "      <td>O</td>\n",
       "      <td>3.0</td>\n",
       "    </tr>\n",
       "    <tr>\n",
       "      <th>2</th>\n",
       "      <td>0</td>\n",
       "      <td>8663_9</td>\n",
       "      <td>1</td>\n",
       "      <td>XY1324-aSCj2ZDHYbkRaErWMfEQAXdbZ4rw4B7qsyd2RxvtsQ</td>\n",
       "      <td>8.0</td>\n",
       "      <td>44.0</td>\n",
       "      <td>F</td>\n",
       "      <td>S</td>\n",
       "      <td>Y</td>\n",
       "      <td>2.0</td>\n",
       "      <td>3.0</td>\n",
       "      <td>5.0</td>\n",
       "      <td>9.0</td>\n",
       "      <td>3.0</td>\n",
       "      <td>O</td>\n",
       "      <td>3.0</td>\n",
       "    </tr>\n",
       "    <tr>\n",
       "      <th>3</th>\n",
       "      <td>0</td>\n",
       "      <td>7616_44</td>\n",
       "      <td>1</td>\n",
       "      <td>XY1324-aSCj2ZDHYbkRaErWMfEQAXdbZ4rw4B7qsyd2RxvtsQ</td>\n",
       "      <td>8.0</td>\n",
       "      <td>44.0</td>\n",
       "      <td>F</td>\n",
       "      <td>S</td>\n",
       "      <td>Y</td>\n",
       "      <td>2.0</td>\n",
       "      <td>3.0</td>\n",
       "      <td>5.0</td>\n",
       "      <td>9.0</td>\n",
       "      <td>3.0</td>\n",
       "      <td>O</td>\n",
       "      <td>3.0</td>\n",
       "    </tr>\n",
       "    <tr>\n",
       "      <th>4</th>\n",
       "      <td>0</td>\n",
       "      <td>7628_2</td>\n",
       "      <td>1</td>\n",
       "      <td>XY1324-aSCj2ZDHYbkRaErWMfEQAXdbZ4rw4B7qsyd2RxvtsQ</td>\n",
       "      <td>8.0</td>\n",
       "      <td>44.0</td>\n",
       "      <td>F</td>\n",
       "      <td>S</td>\n",
       "      <td>Y</td>\n",
       "      <td>2.0</td>\n",
       "      <td>3.0</td>\n",
       "      <td>5.0</td>\n",
       "      <td>9.0</td>\n",
       "      <td>3.0</td>\n",
       "      <td>O</td>\n",
       "      <td>3.0</td>\n",
       "    </tr>\n",
       "  </tbody>\n",
       "</table>\n",
       "</div>"
      ],
      "text/plain": [
       "   target attribute_name  attribute_value  \\\n",
       "0       0         8441_8                1   \n",
       "1       0         8561_9                1   \n",
       "2       0         8663_9                1   \n",
       "3       0        7616_44                1   \n",
       "4       0         7628_2                1   \n",
       "\n",
       "                                              idl_id  fipsstate  age_years  \\\n",
       "0  XY1324-aSCj2ZDHYbkRaErWMfEQAXdbZ4rw4B7qsyd2RxvtsQ        8.0       44.0   \n",
       "1  XY1324-aSCj2ZDHYbkRaErWMfEQAXdbZ4rw4B7qsyd2RxvtsQ        8.0       44.0   \n",
       "2  XY1324-aSCj2ZDHYbkRaErWMfEQAXdbZ4rw4B7qsyd2RxvtsQ        8.0       44.0   \n",
       "3  XY1324-aSCj2ZDHYbkRaErWMfEQAXdbZ4rw4B7qsyd2RxvtsQ        8.0       44.0   \n",
       "4  XY1324-aSCj2ZDHYbkRaErWMfEQAXdbZ4rw4B7qsyd2RxvtsQ        8.0       44.0   \n",
       "\n",
       "  gender marital_status presence_child  num_adults  num_children  hh_size  \\\n",
       "0      F              S              Y         2.0           3.0      5.0   \n",
       "1      F              S              Y         2.0           3.0      5.0   \n",
       "2      F              S              Y         2.0           3.0      5.0   \n",
       "3      F              S              Y         2.0           3.0      5.0   \n",
       "4      F              S              Y         2.0           3.0      5.0   \n",
       "\n",
       "   income_level  head_hh_educ own_rent  home_lor  \n",
       "0           9.0           3.0        O       3.0  \n",
       "1           9.0           3.0        O       3.0  \n",
       "2           9.0           3.0        O       3.0  \n",
       "3           9.0           3.0        O       3.0  \n",
       "4           9.0           3.0        O       3.0  "
      ]
     },
     "execution_count": 4,
     "metadata": {},
     "output_type": "execute_result"
    }
   ],
   "source": [
    "data2.head()"
   ]
  },
  {
   "cell_type": "code",
   "execution_count": 5,
   "metadata": {},
   "outputs": [],
   "source": [
    "#Drop duplicates?\n",
    "\n",
    "data3 = data2.drop_duplicates(subset=['attribute_name','idl_id'])"
   ]
  },
  {
   "cell_type": "code",
   "execution_count": 6,
   "metadata": {},
   "outputs": [],
   "source": [
    "#Spread df.\n",
    "\n",
    "attpivot = data3.pivot(index='idl_id',columns='attribute_name',values='attribute_value')\n",
    "attpivot = attpivot.fillna(value=0)"
   ]
  },
  {
   "cell_type": "code",
   "execution_count": 7,
   "metadata": {},
   "outputs": [
    {
     "data": {
      "text/plain": [
       "28"
      ]
     },
     "execution_count": 7,
     "metadata": {},
     "output_type": "execute_result"
    }
   ],
   "source": [
    "#Combine back to original and drop attribute_name and value. Remove duplicates.\n",
    "\n",
    "data3 = data3.drop_duplicates()\n",
    "data3 = data3.drop(['attribute_name','attribute_value'],axis=1)\n",
    "data4 = data3.merge(attpivot,on='idl_id')\n",
    "\n",
    "#Delete old dataframes to reduce memory useage???\n",
    "\n",
    "del [[data,data2,data3]]\n",
    "gc.collect()"
   ]
  },
  {
   "cell_type": "code",
   "execution_count": null,
   "metadata": {},
   "outputs": [],
   "source": [
    "#How many columns and rows are there?\n",
    "print('Columns:' + str(len(list(data4))))\n",
    "print('Observations:' + str(len(data4)))"
   ]
  },
  {
   "cell_type": "code",
   "execution_count": null,
   "metadata": {},
   "outputs": [],
   "source": [
    "data4.head()"
   ]
  },
  {
   "cell_type": "code",
   "execution_count": null,
   "metadata": {},
   "outputs": [],
   "source": [
    "data4['target'] = data4['target'].astype('category')"
   ]
  },
  {
   "cell_type": "markdown",
   "metadata": {},
   "source": [
    "### Exploratory Data Analysis"
   ]
  },
  {
   "cell_type": "markdown",
   "metadata": {},
   "source": [
    "Let's check out some of the demographic data."
   ]
  },
  {
   "cell_type": "code",
   "execution_count": null,
   "metadata": {},
   "outputs": [],
   "source": [
    "#Is there a difference in distribution in age?\n",
    "\n",
    "sb.boxplot(x='target',y='age_years',data=data4)"
   ]
  },
  {
   "cell_type": "code",
   "execution_count": null,
   "metadata": {},
   "outputs": [],
   "source": [
    "#Gender?\n",
    "\n",
    "sb.countplot(x='target',hue='gender',data=data4)"
   ]
  },
  {
   "cell_type": "code",
   "execution_count": null,
   "metadata": {},
   "outputs": [],
   "source": [
    "list(data4)"
   ]
  },
  {
   "cell_type": "markdown",
   "metadata": {},
   "source": [
    "### Dimensionality Reduction - Attributes"
   ]
  },
  {
   "cell_type": "markdown",
   "metadata": {},
   "source": [
    "Can the 400+ attributes be represented in a smaller dimension? I assume many of these are interrelated."
   ]
  },
  {
   "cell_type": "code",
   "execution_count": null,
   "metadata": {},
   "outputs": [],
   "source": [
    "# set up a PCA learner\n",
    "pca = PCA(n_components = 10)\n",
    "eigen =  pca.fit(data4.iloc[:,14:])\n",
    "cat2d = eigen.transform(data4.iloc[:,14:])"
   ]
  },
  {
   "cell_type": "code",
   "execution_count": null,
   "metadata": {},
   "outputs": [],
   "source": [
    "# let's also look at how much of the total variance we were able to cover with 10 dimensions.\n",
    "print('percentage of variance explained:', sum(pca.explained_variance_ratio_))"
   ]
  },
  {
   "cell_type": "code",
   "execution_count": null,
   "metadata": {},
   "outputs": [],
   "source": [
    "sb.scatterplot(cat2d[:,0],cat2d[:,1], hue = data4['target']).set_title('2d Acxiom Attributes')"
   ]
  },
  {
   "cell_type": "markdown",
   "metadata": {},
   "source": [
    "It's clear from above that the Acxiom attributes cannot be represented in 2-d, as only 23% of the variation is explained through 10 components.\n",
    "\n",
    "Let's pick a number, say k components where k = number of Acxioma attributes and then examine a screeplot."
   ]
  },
  {
   "cell_type": "code",
   "execution_count": null,
   "metadata": {},
   "outputs": [],
   "source": [
    "pca = PCA(n_components = len(list(data4.iloc[:,14:])))\n",
    "eigen =  pca.fit(data4.iloc[:,14:])"
   ]
  },
  {
   "cell_type": "code",
   "execution_count": null,
   "metadata": {},
   "outputs": [],
   "source": [
    "import matplotlib.pyplot as plt\n",
    "\n",
    "plt.plot(np.cumsum(pca.explained_variance_ratio_))\n",
    "plt.xlabel('number of components')\n",
    "plt.ylabel('cumulative explained variance');"
   ]
  },
  {
   "cell_type": "code",
   "execution_count": null,
   "metadata": {},
   "outputs": [],
   "source": [
    "sum(pca.explained_variance_ratio_[0:600])"
   ]
  },
  {
   "cell_type": "markdown",
   "metadata": {},
   "source": [
    "600 components can explain 90% of the variation in the data. This is much better than feeding all 2500 acxiom attributes into the data."
   ]
  },
  {
   "cell_type": "markdown",
   "metadata": {},
   "source": [
    "### Demographic Data Conversion"
   ]
  },
  {
   "cell_type": "code",
   "execution_count": null,
   "metadata": {},
   "outputs": [],
   "source": [
    "data4.iloc[0:10,0:13]"
   ]
  },
  {
   "cell_type": "code",
   "execution_count": null,
   "metadata": {},
   "outputs": [],
   "source": [
    "#Drop ID.\n",
    "data4 = data4.drop(['idl_id'],axis=1)\n",
    "\n",
    "#Encode categorical variables.\n",
    "one_hot = pd.get_dummies(data4,columns=['gender','marital_status','presence_child','own_rent'])"
   ]
  },
  {
   "cell_type": "code",
   "execution_count": null,
   "metadata": {},
   "outputs": [],
   "source": [
    "list(data4)"
   ]
  },
  {
   "cell_type": "markdown",
   "metadata": {},
   "source": [
    "### Trash Section"
   ]
  },
  {
   "cell_type": "code",
   "execution_count": null,
   "metadata": {},
   "outputs": [],
   "source": [
    "#Tune the n_component parameter.\n",
    "\n",
    "n = []\n",
    "nvar = []\n",
    "maxcomp=50\n",
    "\n",
    "start = timeit.default_timer()\n",
    "\n",
    "for i in range(2,maxcomp):\n",
    "    \n",
    "    clear_output(wait=True)\n",
    "    \n",
    "    pca = PCA(n_components = i)\n",
    "    eigen =  pca.fit(data4.iloc[:,14:])\n",
    "    totalvar = sum(pca.explained_variance_ratio_)\n",
    "    n.append(i)\n",
    "    nvar.append(totalvar)\n",
    "    \n",
    "    stop = timeit.default_timer()\n",
    "    \n",
    "    if(i/maxcomp*100) <5:\n",
    "        expected_time = \"Calculating...\"\n",
    "    \n",
    "    else:\n",
    "        time_perc = timeit.default_timer()\n",
    "        expected_time = np.round(((time_perc-start)/(i/maxcomp))/60,2)\n",
    "    \n",
    "    print(\"Current progress:\", np.round(i/maxcomp*100,2),\"%\")\n",
    "    print(\"Current run time:\", np.round((stop-start)/60,2),\"minutes\")"
   ]
  },
  {
   "cell_type": "code",
   "execution_count": null,
   "metadata": {},
   "outputs": [],
   "source": []
  }
 ],
 "metadata": {
  "kernelspec": {
   "display_name": "Python 3",
   "language": "python",
   "name": "python3"
  },
  "language_info": {
   "codemirror_mode": {
    "name": "ipython",
    "version": 3
   },
   "file_extension": ".py",
   "mimetype": "text/x-python",
   "name": "python",
   "nbconvert_exporter": "python",
   "pygments_lexer": "ipython3",
   "version": "3.7.1"
  }
 },
 "nbformat": 4,
 "nbformat_minor": 2
}
